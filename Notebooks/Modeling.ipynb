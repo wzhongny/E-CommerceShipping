{
 "cells": [
  {
   "cell_type": "markdown",
   "id": "weighted-cruise",
   "metadata": {},
   "source": [
    "# Models"
   ]
  },
  {
   "cell_type": "code",
   "execution_count": 1,
   "id": "cathedral-organization",
   "metadata": {},
   "outputs": [],
   "source": [
    "# import libraries\n",
    "import pandas as pd\n",
    "import numpy as np\n",
    "import matplotlib.pyplot as plt\n",
    "import seaborn as sns\n",
    "from sklearn.linear_model import LinearRegression, LogisticRegression\n",
    "from sklearn.neighbors import KNeighborsClassifier\n",
    "from sklearn.metrics import r2_score, mean_squared_error, mean_absolute_error\n",
    "from sklearn.metrics import classification_report, confusion_matrix\n",
    "from sklearn.model_selection import cross_validate, RandomizedSearchCV"
   ]
  },
  {
   "cell_type": "code",
   "execution_count": 2,
   "id": "linear-judges",
   "metadata": {},
   "outputs": [
    {
     "data": {
      "text/html": [
       "<div>\n",
       "<style scoped>\n",
       "    .dataframe tbody tr th:only-of-type {\n",
       "        vertical-align: middle;\n",
       "    }\n",
       "\n",
       "    .dataframe tbody tr th {\n",
       "        vertical-align: top;\n",
       "    }\n",
       "\n",
       "    .dataframe thead th {\n",
       "        text-align: right;\n",
       "    }\n",
       "</style>\n",
       "<table border=\"1\" class=\"dataframe\">\n",
       "  <thead>\n",
       "    <tr style=\"text-align: right;\">\n",
       "      <th></th>\n",
       "      <th>Customer_care_calls</th>\n",
       "      <th>Cost_of_the_Product</th>\n",
       "      <th>Prior_purchases</th>\n",
       "      <th>Discount_offered</th>\n",
       "      <th>Weight_in_gms</th>\n",
       "      <th>On_time</th>\n",
       "      <th>Warehouse_block_A</th>\n",
       "      <th>Warehouse_block_B</th>\n",
       "      <th>Warehouse_block_C</th>\n",
       "      <th>Warehouse_block_D</th>\n",
       "      <th>Warehouse_block_F</th>\n",
       "      <th>Mode_of_Shipment_Flight</th>\n",
       "      <th>Mode_of_Shipment_Road</th>\n",
       "      <th>Mode_of_Shipment_Ship</th>\n",
       "      <th>Product_importance_high</th>\n",
       "      <th>Product_importance_low</th>\n",
       "      <th>Product_importance_medium</th>\n",
       "      <th>Gender_F</th>\n",
       "    </tr>\n",
       "  </thead>\n",
       "  <tbody>\n",
       "    <tr>\n",
       "      <th>8442</th>\n",
       "      <td>3</td>\n",
       "      <td>252</td>\n",
       "      <td>2</td>\n",
       "      <td>4</td>\n",
       "      <td>4098</td>\n",
       "      <td>1</td>\n",
       "      <td>0</td>\n",
       "      <td>0</td>\n",
       "      <td>0</td>\n",
       "      <td>1</td>\n",
       "      <td>0</td>\n",
       "      <td>0</td>\n",
       "      <td>0</td>\n",
       "      <td>1</td>\n",
       "      <td>1</td>\n",
       "      <td>0</td>\n",
       "      <td>0</td>\n",
       "      <td>0</td>\n",
       "    </tr>\n",
       "    <tr>\n",
       "      <th>8368</th>\n",
       "      <td>4</td>\n",
       "      <td>147</td>\n",
       "      <td>3</td>\n",
       "      <td>9</td>\n",
       "      <td>4534</td>\n",
       "      <td>1</td>\n",
       "      <td>0</td>\n",
       "      <td>0</td>\n",
       "      <td>1</td>\n",
       "      <td>0</td>\n",
       "      <td>0</td>\n",
       "      <td>1</td>\n",
       "      <td>0</td>\n",
       "      <td>0</td>\n",
       "      <td>0</td>\n",
       "      <td>0</td>\n",
       "      <td>1</td>\n",
       "      <td>0</td>\n",
       "    </tr>\n",
       "    <tr>\n",
       "      <th>2972</th>\n",
       "      <td>3</td>\n",
       "      <td>228</td>\n",
       "      <td>2</td>\n",
       "      <td>46</td>\n",
       "      <td>3306</td>\n",
       "      <td>1</td>\n",
       "      <td>1</td>\n",
       "      <td>0</td>\n",
       "      <td>0</td>\n",
       "      <td>0</td>\n",
       "      <td>0</td>\n",
       "      <td>0</td>\n",
       "      <td>0</td>\n",
       "      <td>1</td>\n",
       "      <td>0</td>\n",
       "      <td>0</td>\n",
       "      <td>1</td>\n",
       "      <td>0</td>\n",
       "    </tr>\n",
       "    <tr>\n",
       "      <th>6561</th>\n",
       "      <td>6</td>\n",
       "      <td>161</td>\n",
       "      <td>4</td>\n",
       "      <td>9</td>\n",
       "      <td>1377</td>\n",
       "      <td>0</td>\n",
       "      <td>0</td>\n",
       "      <td>1</td>\n",
       "      <td>0</td>\n",
       "      <td>0</td>\n",
       "      <td>0</td>\n",
       "      <td>0</td>\n",
       "      <td>1</td>\n",
       "      <td>0</td>\n",
       "      <td>0</td>\n",
       "      <td>1</td>\n",
       "      <td>0</td>\n",
       "      <td>1</td>\n",
       "    </tr>\n",
       "    <tr>\n",
       "      <th>4885</th>\n",
       "      <td>5</td>\n",
       "      <td>172</td>\n",
       "      <td>2</td>\n",
       "      <td>7</td>\n",
       "      <td>5165</td>\n",
       "      <td>0</td>\n",
       "      <td>0</td>\n",
       "      <td>0</td>\n",
       "      <td>0</td>\n",
       "      <td>0</td>\n",
       "      <td>1</td>\n",
       "      <td>0</td>\n",
       "      <td>0</td>\n",
       "      <td>1</td>\n",
       "      <td>1</td>\n",
       "      <td>0</td>\n",
       "      <td>0</td>\n",
       "      <td>1</td>\n",
       "    </tr>\n",
       "  </tbody>\n",
       "</table>\n",
       "</div>"
      ],
      "text/plain": [
       "      Customer_care_calls  Cost_of_the_Product  Prior_purchases  \\\n",
       "8442                    3                  252                2   \n",
       "8368                    4                  147                3   \n",
       "2972                    3                  228                2   \n",
       "6561                    6                  161                4   \n",
       "4885                    5                  172                2   \n",
       "\n",
       "      Discount_offered  Weight_in_gms  On_time  Warehouse_block_A  \\\n",
       "8442                 4           4098        1                  0   \n",
       "8368                 9           4534        1                  0   \n",
       "2972                46           3306        1                  1   \n",
       "6561                 9           1377        0                  0   \n",
       "4885                 7           5165        0                  0   \n",
       "\n",
       "      Warehouse_block_B  Warehouse_block_C  Warehouse_block_D  \\\n",
       "8442                  0                  0                  1   \n",
       "8368                  0                  1                  0   \n",
       "2972                  0                  0                  0   \n",
       "6561                  1                  0                  0   \n",
       "4885                  0                  0                  0   \n",
       "\n",
       "      Warehouse_block_F  Mode_of_Shipment_Flight  Mode_of_Shipment_Road  \\\n",
       "8442                  0                        0                      0   \n",
       "8368                  0                        1                      0   \n",
       "2972                  0                        0                      0   \n",
       "6561                  0                        0                      1   \n",
       "4885                  1                        0                      0   \n",
       "\n",
       "      Mode_of_Shipment_Ship  Product_importance_high  Product_importance_low  \\\n",
       "8442                      1                        1                       0   \n",
       "8368                      0                        0                       0   \n",
       "2972                      1                        0                       0   \n",
       "6561                      0                        0                       1   \n",
       "4885                      1                        1                       0   \n",
       "\n",
       "      Product_importance_medium  Gender_F  \n",
       "8442                          0         0  \n",
       "8368                          1         0  \n",
       "2972                          1         0  \n",
       "6561                          0         1  \n",
       "4885                          0         1  "
      ]
     },
     "execution_count": 2,
     "metadata": {},
     "output_type": "execute_result"
    }
   ],
   "source": [
    "# load data\n",
    "X_test_cr = pd.read_csv('X_test_cr.csv', index_col=0)\n",
    "X_test_cr.head()"
   ]
  },
  {
   "cell_type": "code",
   "execution_count": 3,
   "id": "automotive-junction",
   "metadata": {},
   "outputs": [
    {
     "data": {
      "text/html": [
       "<div>\n",
       "<style scoped>\n",
       "    .dataframe tbody tr th:only-of-type {\n",
       "        vertical-align: middle;\n",
       "    }\n",
       "\n",
       "    .dataframe tbody tr th {\n",
       "        vertical-align: top;\n",
       "    }\n",
       "\n",
       "    .dataframe thead th {\n",
       "        text-align: right;\n",
       "    }\n",
       "</style>\n",
       "<table border=\"1\" class=\"dataframe\">\n",
       "  <thead>\n",
       "    <tr style=\"text-align: right;\">\n",
       "      <th></th>\n",
       "      <th>Customer_care_calls</th>\n",
       "      <th>Cost_of_the_Product</th>\n",
       "      <th>Prior_purchases</th>\n",
       "      <th>Discount_offered</th>\n",
       "      <th>Weight_in_gms</th>\n",
       "      <th>On_time</th>\n",
       "      <th>Warehouse_block_A</th>\n",
       "      <th>Warehouse_block_B</th>\n",
       "      <th>Warehouse_block_C</th>\n",
       "      <th>Warehouse_block_D</th>\n",
       "      <th>Warehouse_block_F</th>\n",
       "      <th>Mode_of_Shipment_Flight</th>\n",
       "      <th>Mode_of_Shipment_Road</th>\n",
       "      <th>Mode_of_Shipment_Ship</th>\n",
       "      <th>Product_importance_high</th>\n",
       "      <th>Product_importance_low</th>\n",
       "      <th>Product_importance_medium</th>\n",
       "      <th>Gender_F</th>\n",
       "    </tr>\n",
       "  </thead>\n",
       "  <tbody>\n",
       "    <tr>\n",
       "      <th>0</th>\n",
       "      <td>-0.931185</td>\n",
       "      <td>0.870934</td>\n",
       "      <td>-1.027856</td>\n",
       "      <td>-0.577007</td>\n",
       "      <td>0.284948</td>\n",
       "      <td>0.825691</td>\n",
       "      <td>-0.451142</td>\n",
       "      <td>-0.445841</td>\n",
       "      <td>-0.445291</td>\n",
       "      <td>2.213912</td>\n",
       "      <td>-0.70205</td>\n",
       "      <td>-0.442723</td>\n",
       "      <td>-0.436834</td>\n",
       "      <td>0.692510</td>\n",
       "      <td>3.283156</td>\n",
       "      <td>-0.963064</td>\n",
       "      <td>-0.875507</td>\n",
       "      <td>-1.019163</td>\n",
       "    </tr>\n",
       "    <tr>\n",
       "      <th>1</th>\n",
       "      <td>-0.050069</td>\n",
       "      <td>-1.317772</td>\n",
       "      <td>-0.372248</td>\n",
       "      <td>-0.268145</td>\n",
       "      <td>0.552375</td>\n",
       "      <td>0.825691</td>\n",
       "      <td>-0.451142</td>\n",
       "      <td>-0.445841</td>\n",
       "      <td>2.245722</td>\n",
       "      <td>-0.451689</td>\n",
       "      <td>-0.70205</td>\n",
       "      <td>2.258748</td>\n",
       "      <td>-0.436834</td>\n",
       "      <td>-1.444023</td>\n",
       "      <td>-0.304585</td>\n",
       "      <td>-0.963064</td>\n",
       "      <td>1.142195</td>\n",
       "      <td>-1.019163</td>\n",
       "    </tr>\n",
       "    <tr>\n",
       "      <th>2</th>\n",
       "      <td>-0.931185</td>\n",
       "      <td>0.370658</td>\n",
       "      <td>-1.027856</td>\n",
       "      <td>2.017441</td>\n",
       "      <td>-0.200837</td>\n",
       "      <td>0.825691</td>\n",
       "      <td>2.216598</td>\n",
       "      <td>-0.445841</td>\n",
       "      <td>-0.445291</td>\n",
       "      <td>-0.451689</td>\n",
       "      <td>-0.70205</td>\n",
       "      <td>-0.442723</td>\n",
       "      <td>-0.436834</td>\n",
       "      <td>0.692510</td>\n",
       "      <td>-0.304585</td>\n",
       "      <td>-0.963064</td>\n",
       "      <td>1.142195</td>\n",
       "      <td>-1.019163</td>\n",
       "    </tr>\n",
       "    <tr>\n",
       "      <th>3</th>\n",
       "      <td>1.712162</td>\n",
       "      <td>-1.025945</td>\n",
       "      <td>0.283359</td>\n",
       "      <td>-0.268145</td>\n",
       "      <td>-1.384019</td>\n",
       "      <td>-1.211106</td>\n",
       "      <td>-0.451142</td>\n",
       "      <td>2.242954</td>\n",
       "      <td>-0.445291</td>\n",
       "      <td>-0.451689</td>\n",
       "      <td>-0.70205</td>\n",
       "      <td>-0.442723</td>\n",
       "      <td>2.289198</td>\n",
       "      <td>-1.444023</td>\n",
       "      <td>-0.304585</td>\n",
       "      <td>1.038353</td>\n",
       "      <td>-0.875507</td>\n",
       "      <td>0.981197</td>\n",
       "    </tr>\n",
       "    <tr>\n",
       "      <th>4</th>\n",
       "      <td>0.831047</td>\n",
       "      <td>-0.796652</td>\n",
       "      <td>-1.027856</td>\n",
       "      <td>-0.391690</td>\n",
       "      <td>0.939408</td>\n",
       "      <td>-1.211106</td>\n",
       "      <td>-0.451142</td>\n",
       "      <td>-0.445841</td>\n",
       "      <td>-0.445291</td>\n",
       "      <td>-0.451689</td>\n",
       "      <td>1.42440</td>\n",
       "      <td>-0.442723</td>\n",
       "      <td>-0.436834</td>\n",
       "      <td>0.692510</td>\n",
       "      <td>3.283156</td>\n",
       "      <td>-0.963064</td>\n",
       "      <td>-0.875507</td>\n",
       "      <td>0.981197</td>\n",
       "    </tr>\n",
       "  </tbody>\n",
       "</table>\n",
       "</div>"
      ],
      "text/plain": [
       "   Customer_care_calls  Cost_of_the_Product  Prior_purchases  \\\n",
       "0            -0.931185             0.870934        -1.027856   \n",
       "1            -0.050069            -1.317772        -0.372248   \n",
       "2            -0.931185             0.370658        -1.027856   \n",
       "3             1.712162            -1.025945         0.283359   \n",
       "4             0.831047            -0.796652        -1.027856   \n",
       "\n",
       "   Discount_offered  Weight_in_gms   On_time  Warehouse_block_A  \\\n",
       "0         -0.577007       0.284948  0.825691          -0.451142   \n",
       "1         -0.268145       0.552375  0.825691          -0.451142   \n",
       "2          2.017441      -0.200837  0.825691           2.216598   \n",
       "3         -0.268145      -1.384019 -1.211106          -0.451142   \n",
       "4         -0.391690       0.939408 -1.211106          -0.451142   \n",
       "\n",
       "   Warehouse_block_B  Warehouse_block_C  Warehouse_block_D  Warehouse_block_F  \\\n",
       "0          -0.445841          -0.445291           2.213912           -0.70205   \n",
       "1          -0.445841           2.245722          -0.451689           -0.70205   \n",
       "2          -0.445841          -0.445291          -0.451689           -0.70205   \n",
       "3           2.242954          -0.445291          -0.451689           -0.70205   \n",
       "4          -0.445841          -0.445291          -0.451689            1.42440   \n",
       "\n",
       "   Mode_of_Shipment_Flight  Mode_of_Shipment_Road  Mode_of_Shipment_Ship  \\\n",
       "0                -0.442723              -0.436834               0.692510   \n",
       "1                 2.258748              -0.436834              -1.444023   \n",
       "2                -0.442723              -0.436834               0.692510   \n",
       "3                -0.442723               2.289198              -1.444023   \n",
       "4                -0.442723              -0.436834               0.692510   \n",
       "\n",
       "   Product_importance_high  Product_importance_low  Product_importance_medium  \\\n",
       "0                 3.283156               -0.963064                  -0.875507   \n",
       "1                -0.304585               -0.963064                   1.142195   \n",
       "2                -0.304585               -0.963064                   1.142195   \n",
       "3                -0.304585                1.038353                  -0.875507   \n",
       "4                 3.283156               -0.963064                  -0.875507   \n",
       "\n",
       "   Gender_F  \n",
       "0 -1.019163  \n",
       "1 -1.019163  \n",
       "2 -1.019163  \n",
       "3  0.981197  \n",
       "4  0.981197  "
      ]
     },
     "execution_count": 3,
     "metadata": {},
     "output_type": "execute_result"
    }
   ],
   "source": [
    "X_test_cr_scaled = pd.read_csv('X_test_cr_scaled.csv', index_col=0)\n",
    "X_test_cr_scaled.head()"
   ]
  },
  {
   "cell_type": "code",
   "execution_count": 4,
   "id": "comfortable-litigation",
   "metadata": {},
   "outputs": [
    {
     "data": {
      "text/html": [
       "<div>\n",
       "<style scoped>\n",
       "    .dataframe tbody tr th:only-of-type {\n",
       "        vertical-align: middle;\n",
       "    }\n",
       "\n",
       "    .dataframe tbody tr th {\n",
       "        vertical-align: top;\n",
       "    }\n",
       "\n",
       "    .dataframe thead th {\n",
       "        text-align: right;\n",
       "    }\n",
       "</style>\n",
       "<table border=\"1\" class=\"dataframe\">\n",
       "  <thead>\n",
       "    <tr style=\"text-align: right;\">\n",
       "      <th></th>\n",
       "      <th>Customer_care_calls</th>\n",
       "      <th>Customer_rating</th>\n",
       "      <th>Cost_of_the_Product</th>\n",
       "      <th>Prior_purchases</th>\n",
       "      <th>Discount_offered</th>\n",
       "      <th>Weight_in_gms</th>\n",
       "      <th>Warehouse_block_A</th>\n",
       "      <th>Warehouse_block_B</th>\n",
       "      <th>Warehouse_block_C</th>\n",
       "      <th>Warehouse_block_D</th>\n",
       "      <th>Warehouse_block_F</th>\n",
       "      <th>Mode_of_Shipment_Flight</th>\n",
       "      <th>Mode_of_Shipment_Road</th>\n",
       "      <th>Mode_of_Shipment_Ship</th>\n",
       "      <th>Product_importance_high</th>\n",
       "      <th>Product_importance_low</th>\n",
       "      <th>Product_importance_medium</th>\n",
       "      <th>Gender_F</th>\n",
       "    </tr>\n",
       "  </thead>\n",
       "  <tbody>\n",
       "    <tr>\n",
       "      <th>8442</th>\n",
       "      <td>3</td>\n",
       "      <td>5</td>\n",
       "      <td>252</td>\n",
       "      <td>2</td>\n",
       "      <td>4</td>\n",
       "      <td>4098</td>\n",
       "      <td>0</td>\n",
       "      <td>0</td>\n",
       "      <td>0</td>\n",
       "      <td>1</td>\n",
       "      <td>0</td>\n",
       "      <td>0</td>\n",
       "      <td>0</td>\n",
       "      <td>1</td>\n",
       "      <td>1</td>\n",
       "      <td>0</td>\n",
       "      <td>0</td>\n",
       "      <td>0</td>\n",
       "    </tr>\n",
       "    <tr>\n",
       "      <th>8368</th>\n",
       "      <td>4</td>\n",
       "      <td>4</td>\n",
       "      <td>147</td>\n",
       "      <td>3</td>\n",
       "      <td>9</td>\n",
       "      <td>4534</td>\n",
       "      <td>0</td>\n",
       "      <td>0</td>\n",
       "      <td>1</td>\n",
       "      <td>0</td>\n",
       "      <td>0</td>\n",
       "      <td>1</td>\n",
       "      <td>0</td>\n",
       "      <td>0</td>\n",
       "      <td>0</td>\n",
       "      <td>0</td>\n",
       "      <td>1</td>\n",
       "      <td>0</td>\n",
       "    </tr>\n",
       "    <tr>\n",
       "      <th>2972</th>\n",
       "      <td>3</td>\n",
       "      <td>4</td>\n",
       "      <td>228</td>\n",
       "      <td>2</td>\n",
       "      <td>46</td>\n",
       "      <td>3306</td>\n",
       "      <td>1</td>\n",
       "      <td>0</td>\n",
       "      <td>0</td>\n",
       "      <td>0</td>\n",
       "      <td>0</td>\n",
       "      <td>0</td>\n",
       "      <td>0</td>\n",
       "      <td>1</td>\n",
       "      <td>0</td>\n",
       "      <td>0</td>\n",
       "      <td>1</td>\n",
       "      <td>0</td>\n",
       "    </tr>\n",
       "    <tr>\n",
       "      <th>6561</th>\n",
       "      <td>6</td>\n",
       "      <td>2</td>\n",
       "      <td>161</td>\n",
       "      <td>4</td>\n",
       "      <td>9</td>\n",
       "      <td>1377</td>\n",
       "      <td>0</td>\n",
       "      <td>1</td>\n",
       "      <td>0</td>\n",
       "      <td>0</td>\n",
       "      <td>0</td>\n",
       "      <td>0</td>\n",
       "      <td>1</td>\n",
       "      <td>0</td>\n",
       "      <td>0</td>\n",
       "      <td>1</td>\n",
       "      <td>0</td>\n",
       "      <td>1</td>\n",
       "    </tr>\n",
       "    <tr>\n",
       "      <th>4885</th>\n",
       "      <td>5</td>\n",
       "      <td>1</td>\n",
       "      <td>172</td>\n",
       "      <td>2</td>\n",
       "      <td>7</td>\n",
       "      <td>5165</td>\n",
       "      <td>0</td>\n",
       "      <td>0</td>\n",
       "      <td>0</td>\n",
       "      <td>0</td>\n",
       "      <td>1</td>\n",
       "      <td>0</td>\n",
       "      <td>0</td>\n",
       "      <td>1</td>\n",
       "      <td>1</td>\n",
       "      <td>0</td>\n",
       "      <td>0</td>\n",
       "      <td>1</td>\n",
       "    </tr>\n",
       "  </tbody>\n",
       "</table>\n",
       "</div>"
      ],
      "text/plain": [
       "      Customer_care_calls  Customer_rating  Cost_of_the_Product  \\\n",
       "8442                    3                5                  252   \n",
       "8368                    4                4                  147   \n",
       "2972                    3                4                  228   \n",
       "6561                    6                2                  161   \n",
       "4885                    5                1                  172   \n",
       "\n",
       "      Prior_purchases  Discount_offered  Weight_in_gms  Warehouse_block_A  \\\n",
       "8442                2                 4           4098                  0   \n",
       "8368                3                 9           4534                  0   \n",
       "2972                2                46           3306                  1   \n",
       "6561                4                 9           1377                  0   \n",
       "4885                2                 7           5165                  0   \n",
       "\n",
       "      Warehouse_block_B  Warehouse_block_C  Warehouse_block_D  \\\n",
       "8442                  0                  0                  1   \n",
       "8368                  0                  1                  0   \n",
       "2972                  0                  0                  0   \n",
       "6561                  1                  0                  0   \n",
       "4885                  0                  0                  0   \n",
       "\n",
       "      Warehouse_block_F  Mode_of_Shipment_Flight  Mode_of_Shipment_Road  \\\n",
       "8442                  0                        0                      0   \n",
       "8368                  0                        1                      0   \n",
       "2972                  0                        0                      0   \n",
       "6561                  0                        0                      1   \n",
       "4885                  1                        0                      0   \n",
       "\n",
       "      Mode_of_Shipment_Ship  Product_importance_high  Product_importance_low  \\\n",
       "8442                      1                        1                       0   \n",
       "8368                      0                        0                       0   \n",
       "2972                      1                        0                       0   \n",
       "6561                      0                        0                       1   \n",
       "4885                      1                        1                       0   \n",
       "\n",
       "      Product_importance_medium  Gender_F  \n",
       "8442                          0         0  \n",
       "8368                          1         0  \n",
       "2972                          1         0  \n",
       "6561                          0         1  \n",
       "4885                          0         1  "
      ]
     },
     "execution_count": 4,
     "metadata": {},
     "output_type": "execute_result"
    }
   ],
   "source": [
    "X_test_ot = pd.read_csv('X_test_ot.csv', index_col=0)\n",
    "X_test_ot.head()"
   ]
  },
  {
   "cell_type": "code",
   "execution_count": 5,
   "id": "colored-lightning",
   "metadata": {},
   "outputs": [
    {
     "data": {
      "text/html": [
       "<div>\n",
       "<style scoped>\n",
       "    .dataframe tbody tr th:only-of-type {\n",
       "        vertical-align: middle;\n",
       "    }\n",
       "\n",
       "    .dataframe tbody tr th {\n",
       "        vertical-align: top;\n",
       "    }\n",
       "\n",
       "    .dataframe thead th {\n",
       "        text-align: right;\n",
       "    }\n",
       "</style>\n",
       "<table border=\"1\" class=\"dataframe\">\n",
       "  <thead>\n",
       "    <tr style=\"text-align: right;\">\n",
       "      <th></th>\n",
       "      <th>Customer_care_calls</th>\n",
       "      <th>Customer_rating</th>\n",
       "      <th>Cost_of_the_Product</th>\n",
       "      <th>Prior_purchases</th>\n",
       "      <th>Discount_offered</th>\n",
       "      <th>Weight_in_gms</th>\n",
       "      <th>Warehouse_block_A</th>\n",
       "      <th>Warehouse_block_B</th>\n",
       "      <th>Warehouse_block_C</th>\n",
       "      <th>Warehouse_block_D</th>\n",
       "      <th>Warehouse_block_F</th>\n",
       "      <th>Mode_of_Shipment_Flight</th>\n",
       "      <th>Mode_of_Shipment_Road</th>\n",
       "      <th>Mode_of_Shipment_Ship</th>\n",
       "      <th>Product_importance_high</th>\n",
       "      <th>Product_importance_low</th>\n",
       "      <th>Product_importance_medium</th>\n",
       "      <th>Gender_F</th>\n",
       "    </tr>\n",
       "  </thead>\n",
       "  <tbody>\n",
       "    <tr>\n",
       "      <th>0</th>\n",
       "      <td>-0.931185</td>\n",
       "      <td>1.421113</td>\n",
       "      <td>0.870934</td>\n",
       "      <td>-1.027856</td>\n",
       "      <td>-0.577007</td>\n",
       "      <td>0.284948</td>\n",
       "      <td>-0.451142</td>\n",
       "      <td>-0.445841</td>\n",
       "      <td>-0.445291</td>\n",
       "      <td>2.213912</td>\n",
       "      <td>-0.70205</td>\n",
       "      <td>-0.442723</td>\n",
       "      <td>-0.436834</td>\n",
       "      <td>0.692510</td>\n",
       "      <td>3.283156</td>\n",
       "      <td>-0.963064</td>\n",
       "      <td>-0.875507</td>\n",
       "      <td>-1.019163</td>\n",
       "    </tr>\n",
       "    <tr>\n",
       "      <th>1</th>\n",
       "      <td>-0.050069</td>\n",
       "      <td>0.713332</td>\n",
       "      <td>-1.317772</td>\n",
       "      <td>-0.372248</td>\n",
       "      <td>-0.268145</td>\n",
       "      <td>0.552375</td>\n",
       "      <td>-0.451142</td>\n",
       "      <td>-0.445841</td>\n",
       "      <td>2.245722</td>\n",
       "      <td>-0.451689</td>\n",
       "      <td>-0.70205</td>\n",
       "      <td>2.258748</td>\n",
       "      <td>-0.436834</td>\n",
       "      <td>-1.444023</td>\n",
       "      <td>-0.304585</td>\n",
       "      <td>-0.963064</td>\n",
       "      <td>1.142195</td>\n",
       "      <td>-1.019163</td>\n",
       "    </tr>\n",
       "    <tr>\n",
       "      <th>2</th>\n",
       "      <td>-0.931185</td>\n",
       "      <td>0.713332</td>\n",
       "      <td>0.370658</td>\n",
       "      <td>-1.027856</td>\n",
       "      <td>2.017441</td>\n",
       "      <td>-0.200837</td>\n",
       "      <td>2.216598</td>\n",
       "      <td>-0.445841</td>\n",
       "      <td>-0.445291</td>\n",
       "      <td>-0.451689</td>\n",
       "      <td>-0.70205</td>\n",
       "      <td>-0.442723</td>\n",
       "      <td>-0.436834</td>\n",
       "      <td>0.692510</td>\n",
       "      <td>-0.304585</td>\n",
       "      <td>-0.963064</td>\n",
       "      <td>1.142195</td>\n",
       "      <td>-1.019163</td>\n",
       "    </tr>\n",
       "    <tr>\n",
       "      <th>3</th>\n",
       "      <td>1.712162</td>\n",
       "      <td>-0.702231</td>\n",
       "      <td>-1.025945</td>\n",
       "      <td>0.283359</td>\n",
       "      <td>-0.268145</td>\n",
       "      <td>-1.384019</td>\n",
       "      <td>-0.451142</td>\n",
       "      <td>2.242954</td>\n",
       "      <td>-0.445291</td>\n",
       "      <td>-0.451689</td>\n",
       "      <td>-0.70205</td>\n",
       "      <td>-0.442723</td>\n",
       "      <td>2.289198</td>\n",
       "      <td>-1.444023</td>\n",
       "      <td>-0.304585</td>\n",
       "      <td>1.038353</td>\n",
       "      <td>-0.875507</td>\n",
       "      <td>0.981197</td>\n",
       "    </tr>\n",
       "    <tr>\n",
       "      <th>4</th>\n",
       "      <td>0.831047</td>\n",
       "      <td>-1.410013</td>\n",
       "      <td>-0.796652</td>\n",
       "      <td>-1.027856</td>\n",
       "      <td>-0.391690</td>\n",
       "      <td>0.939408</td>\n",
       "      <td>-0.451142</td>\n",
       "      <td>-0.445841</td>\n",
       "      <td>-0.445291</td>\n",
       "      <td>-0.451689</td>\n",
       "      <td>1.42440</td>\n",
       "      <td>-0.442723</td>\n",
       "      <td>-0.436834</td>\n",
       "      <td>0.692510</td>\n",
       "      <td>3.283156</td>\n",
       "      <td>-0.963064</td>\n",
       "      <td>-0.875507</td>\n",
       "      <td>0.981197</td>\n",
       "    </tr>\n",
       "  </tbody>\n",
       "</table>\n",
       "</div>"
      ],
      "text/plain": [
       "   Customer_care_calls  Customer_rating  Cost_of_the_Product  Prior_purchases  \\\n",
       "0            -0.931185         1.421113             0.870934        -1.027856   \n",
       "1            -0.050069         0.713332            -1.317772        -0.372248   \n",
       "2            -0.931185         0.713332             0.370658        -1.027856   \n",
       "3             1.712162        -0.702231            -1.025945         0.283359   \n",
       "4             0.831047        -1.410013            -0.796652        -1.027856   \n",
       "\n",
       "   Discount_offered  Weight_in_gms  Warehouse_block_A  Warehouse_block_B  \\\n",
       "0         -0.577007       0.284948          -0.451142          -0.445841   \n",
       "1         -0.268145       0.552375          -0.451142          -0.445841   \n",
       "2          2.017441      -0.200837           2.216598          -0.445841   \n",
       "3         -0.268145      -1.384019          -0.451142           2.242954   \n",
       "4         -0.391690       0.939408          -0.451142          -0.445841   \n",
       "\n",
       "   Warehouse_block_C  Warehouse_block_D  Warehouse_block_F  \\\n",
       "0          -0.445291           2.213912           -0.70205   \n",
       "1           2.245722          -0.451689           -0.70205   \n",
       "2          -0.445291          -0.451689           -0.70205   \n",
       "3          -0.445291          -0.451689           -0.70205   \n",
       "4          -0.445291          -0.451689            1.42440   \n",
       "\n",
       "   Mode_of_Shipment_Flight  Mode_of_Shipment_Road  Mode_of_Shipment_Ship  \\\n",
       "0                -0.442723              -0.436834               0.692510   \n",
       "1                 2.258748              -0.436834              -1.444023   \n",
       "2                -0.442723              -0.436834               0.692510   \n",
       "3                -0.442723               2.289198              -1.444023   \n",
       "4                -0.442723              -0.436834               0.692510   \n",
       "\n",
       "   Product_importance_high  Product_importance_low  Product_importance_medium  \\\n",
       "0                 3.283156               -0.963064                  -0.875507   \n",
       "1                -0.304585               -0.963064                   1.142195   \n",
       "2                -0.304585               -0.963064                   1.142195   \n",
       "3                -0.304585                1.038353                  -0.875507   \n",
       "4                 3.283156               -0.963064                  -0.875507   \n",
       "\n",
       "   Gender_F  \n",
       "0 -1.019163  \n",
       "1 -1.019163  \n",
       "2 -1.019163  \n",
       "3  0.981197  \n",
       "4  0.981197  "
      ]
     },
     "execution_count": 5,
     "metadata": {},
     "output_type": "execute_result"
    }
   ],
   "source": [
    "X_test_ot_scaled = pd.read_csv('X_test_ot_scaled.csv', index_col=0)\n",
    "X_test_ot_scaled.head()"
   ]
  },
  {
   "cell_type": "code",
   "execution_count": 6,
   "id": "plain-columbus",
   "metadata": {},
   "outputs": [
    {
     "data": {
      "text/html": [
       "<div>\n",
       "<style scoped>\n",
       "    .dataframe tbody tr th:only-of-type {\n",
       "        vertical-align: middle;\n",
       "    }\n",
       "\n",
       "    .dataframe tbody tr th {\n",
       "        vertical-align: top;\n",
       "    }\n",
       "\n",
       "    .dataframe thead th {\n",
       "        text-align: right;\n",
       "    }\n",
       "</style>\n",
       "<table border=\"1\" class=\"dataframe\">\n",
       "  <thead>\n",
       "    <tr style=\"text-align: right;\">\n",
       "      <th></th>\n",
       "      <th>Customer_care_calls</th>\n",
       "      <th>Cost_of_the_Product</th>\n",
       "      <th>Prior_purchases</th>\n",
       "      <th>Discount_offered</th>\n",
       "      <th>Weight_in_gms</th>\n",
       "      <th>On_time</th>\n",
       "      <th>Warehouse_block_A</th>\n",
       "      <th>Warehouse_block_B</th>\n",
       "      <th>Warehouse_block_C</th>\n",
       "      <th>Warehouse_block_D</th>\n",
       "      <th>Warehouse_block_F</th>\n",
       "      <th>Mode_of_Shipment_Flight</th>\n",
       "      <th>Mode_of_Shipment_Road</th>\n",
       "      <th>Mode_of_Shipment_Ship</th>\n",
       "      <th>Product_importance_high</th>\n",
       "      <th>Product_importance_low</th>\n",
       "      <th>Product_importance_medium</th>\n",
       "      <th>Gender_F</th>\n",
       "    </tr>\n",
       "  </thead>\n",
       "  <tbody>\n",
       "    <tr>\n",
       "      <th>8077</th>\n",
       "      <td>4</td>\n",
       "      <td>155</td>\n",
       "      <td>4</td>\n",
       "      <td>10</td>\n",
       "      <td>5483</td>\n",
       "      <td>1</td>\n",
       "      <td>0</td>\n",
       "      <td>0</td>\n",
       "      <td>0</td>\n",
       "      <td>0</td>\n",
       "      <td>1</td>\n",
       "      <td>0</td>\n",
       "      <td>1</td>\n",
       "      <td>0</td>\n",
       "      <td>0</td>\n",
       "      <td>1</td>\n",
       "      <td>0</td>\n",
       "      <td>1</td>\n",
       "    </tr>\n",
       "    <tr>\n",
       "      <th>4688</th>\n",
       "      <td>3</td>\n",
       "      <td>254</td>\n",
       "      <td>3</td>\n",
       "      <td>6</td>\n",
       "      <td>5716</td>\n",
       "      <td>0</td>\n",
       "      <td>1</td>\n",
       "      <td>0</td>\n",
       "      <td>0</td>\n",
       "      <td>0</td>\n",
       "      <td>0</td>\n",
       "      <td>0</td>\n",
       "      <td>0</td>\n",
       "      <td>1</td>\n",
       "      <td>0</td>\n",
       "      <td>0</td>\n",
       "      <td>1</td>\n",
       "      <td>0</td>\n",
       "    </tr>\n",
       "    <tr>\n",
       "      <th>10754</th>\n",
       "      <td>5</td>\n",
       "      <td>227</td>\n",
       "      <td>5</td>\n",
       "      <td>5</td>\n",
       "      <td>1186</td>\n",
       "      <td>0</td>\n",
       "      <td>1</td>\n",
       "      <td>0</td>\n",
       "      <td>0</td>\n",
       "      <td>0</td>\n",
       "      <td>0</td>\n",
       "      <td>0</td>\n",
       "      <td>0</td>\n",
       "      <td>1</td>\n",
       "      <td>0</td>\n",
       "      <td>0</td>\n",
       "      <td>1</td>\n",
       "      <td>0</td>\n",
       "    </tr>\n",
       "    <tr>\n",
       "      <th>3390</th>\n",
       "      <td>5</td>\n",
       "      <td>273</td>\n",
       "      <td>3</td>\n",
       "      <td>6</td>\n",
       "      <td>4044</td>\n",
       "      <td>1</td>\n",
       "      <td>0</td>\n",
       "      <td>0</td>\n",
       "      <td>0</td>\n",
       "      <td>1</td>\n",
       "      <td>0</td>\n",
       "      <td>0</td>\n",
       "      <td>0</td>\n",
       "      <td>1</td>\n",
       "      <td>0</td>\n",
       "      <td>0</td>\n",
       "      <td>1</td>\n",
       "      <td>0</td>\n",
       "    </tr>\n",
       "    <tr>\n",
       "      <th>693</th>\n",
       "      <td>3</td>\n",
       "      <td>207</td>\n",
       "      <td>7</td>\n",
       "      <td>19</td>\n",
       "      <td>2182</td>\n",
       "      <td>1</td>\n",
       "      <td>0</td>\n",
       "      <td>1</td>\n",
       "      <td>0</td>\n",
       "      <td>0</td>\n",
       "      <td>0</td>\n",
       "      <td>1</td>\n",
       "      <td>0</td>\n",
       "      <td>0</td>\n",
       "      <td>0</td>\n",
       "      <td>0</td>\n",
       "      <td>1</td>\n",
       "      <td>0</td>\n",
       "    </tr>\n",
       "  </tbody>\n",
       "</table>\n",
       "</div>"
      ],
      "text/plain": [
       "       Customer_care_calls  Cost_of_the_Product  Prior_purchases  \\\n",
       "8077                     4                  155                4   \n",
       "4688                     3                  254                3   \n",
       "10754                    5                  227                5   \n",
       "3390                     5                  273                3   \n",
       "693                      3                  207                7   \n",
       "\n",
       "       Discount_offered  Weight_in_gms  On_time  Warehouse_block_A  \\\n",
       "8077                 10           5483        1                  0   \n",
       "4688                  6           5716        0                  1   \n",
       "10754                 5           1186        0                  1   \n",
       "3390                  6           4044        1                  0   \n",
       "693                  19           2182        1                  0   \n",
       "\n",
       "       Warehouse_block_B  Warehouse_block_C  Warehouse_block_D  \\\n",
       "8077                   0                  0                  0   \n",
       "4688                   0                  0                  0   \n",
       "10754                  0                  0                  0   \n",
       "3390                   0                  0                  1   \n",
       "693                    1                  0                  0   \n",
       "\n",
       "       Warehouse_block_F  Mode_of_Shipment_Flight  Mode_of_Shipment_Road  \\\n",
       "8077                   1                        0                      1   \n",
       "4688                   0                        0                      0   \n",
       "10754                  0                        0                      0   \n",
       "3390                   0                        0                      0   \n",
       "693                    0                        1                      0   \n",
       "\n",
       "       Mode_of_Shipment_Ship  Product_importance_high  Product_importance_low  \\\n",
       "8077                       0                        0                       1   \n",
       "4688                       1                        0                       0   \n",
       "10754                      1                        0                       0   \n",
       "3390                       1                        0                       0   \n",
       "693                        0                        0                       0   \n",
       "\n",
       "       Product_importance_medium  Gender_F  \n",
       "8077                           0         1  \n",
       "4688                           1         0  \n",
       "10754                          1         0  \n",
       "3390                           1         0  \n",
       "693                            1         0  "
      ]
     },
     "execution_count": 6,
     "metadata": {},
     "output_type": "execute_result"
    }
   ],
   "source": [
    "X_train_cr = pd.read_csv('X_train_cr.csv', index_col=0)\n",
    "X_train_cr.head()"
   ]
  },
  {
   "cell_type": "code",
   "execution_count": 7,
   "id": "previous-aspect",
   "metadata": {},
   "outputs": [
    {
     "data": {
      "text/html": [
       "<div>\n",
       "<style scoped>\n",
       "    .dataframe tbody tr th:only-of-type {\n",
       "        vertical-align: middle;\n",
       "    }\n",
       "\n",
       "    .dataframe tbody tr th {\n",
       "        vertical-align: top;\n",
       "    }\n",
       "\n",
       "    .dataframe thead th {\n",
       "        text-align: right;\n",
       "    }\n",
       "</style>\n",
       "<table border=\"1\" class=\"dataframe\">\n",
       "  <thead>\n",
       "    <tr style=\"text-align: right;\">\n",
       "      <th></th>\n",
       "      <th>Customer_care_calls</th>\n",
       "      <th>Cost_of_the_Product</th>\n",
       "      <th>Prior_purchases</th>\n",
       "      <th>Discount_offered</th>\n",
       "      <th>Weight_in_gms</th>\n",
       "      <th>On_time</th>\n",
       "      <th>Warehouse_block_A</th>\n",
       "      <th>Warehouse_block_B</th>\n",
       "      <th>Warehouse_block_C</th>\n",
       "      <th>Warehouse_block_D</th>\n",
       "      <th>Warehouse_block_F</th>\n",
       "      <th>Mode_of_Shipment_Flight</th>\n",
       "      <th>Mode_of_Shipment_Road</th>\n",
       "      <th>Mode_of_Shipment_Ship</th>\n",
       "      <th>Product_importance_high</th>\n",
       "      <th>Product_importance_low</th>\n",
       "      <th>Product_importance_medium</th>\n",
       "      <th>Gender_F</th>\n",
       "    </tr>\n",
       "  </thead>\n",
       "  <tbody>\n",
       "    <tr>\n",
       "      <th>0</th>\n",
       "      <td>-0.050069</td>\n",
       "      <td>-1.151014</td>\n",
       "      <td>0.283359</td>\n",
       "      <td>-0.206372</td>\n",
       "      <td>1.134459</td>\n",
       "      <td>0.825691</td>\n",
       "      <td>-0.451142</td>\n",
       "      <td>-0.445841</td>\n",
       "      <td>-0.445291</td>\n",
       "      <td>-0.451689</td>\n",
       "      <td>1.42440</td>\n",
       "      <td>-0.442723</td>\n",
       "      <td>2.289198</td>\n",
       "      <td>-1.444023</td>\n",
       "      <td>-0.304585</td>\n",
       "      <td>1.038353</td>\n",
       "      <td>-0.875507</td>\n",
       "      <td>0.981197</td>\n",
       "    </tr>\n",
       "    <tr>\n",
       "      <th>1</th>\n",
       "      <td>-0.931185</td>\n",
       "      <td>0.912624</td>\n",
       "      <td>-0.372248</td>\n",
       "      <td>-0.453462</td>\n",
       "      <td>1.277373</td>\n",
       "      <td>-1.211106</td>\n",
       "      <td>2.216598</td>\n",
       "      <td>-0.445841</td>\n",
       "      <td>-0.445291</td>\n",
       "      <td>-0.451689</td>\n",
       "      <td>-0.70205</td>\n",
       "      <td>-0.442723</td>\n",
       "      <td>-0.436834</td>\n",
       "      <td>0.692510</td>\n",
       "      <td>-0.304585</td>\n",
       "      <td>-0.963064</td>\n",
       "      <td>1.142195</td>\n",
       "      <td>-1.019163</td>\n",
       "    </tr>\n",
       "    <tr>\n",
       "      <th>2</th>\n",
       "      <td>0.831047</td>\n",
       "      <td>0.349813</td>\n",
       "      <td>0.938966</td>\n",
       "      <td>-0.515235</td>\n",
       "      <td>-1.501171</td>\n",
       "      <td>-1.211106</td>\n",
       "      <td>2.216598</td>\n",
       "      <td>-0.445841</td>\n",
       "      <td>-0.445291</td>\n",
       "      <td>-0.451689</td>\n",
       "      <td>-0.70205</td>\n",
       "      <td>-0.442723</td>\n",
       "      <td>-0.436834</td>\n",
       "      <td>0.692510</td>\n",
       "      <td>-0.304585</td>\n",
       "      <td>-0.963064</td>\n",
       "      <td>1.142195</td>\n",
       "      <td>-1.019163</td>\n",
       "    </tr>\n",
       "    <tr>\n",
       "      <th>3</th>\n",
       "      <td>0.831047</td>\n",
       "      <td>1.308675</td>\n",
       "      <td>-0.372248</td>\n",
       "      <td>-0.453462</td>\n",
       "      <td>0.251826</td>\n",
       "      <td>0.825691</td>\n",
       "      <td>-0.451142</td>\n",
       "      <td>-0.445841</td>\n",
       "      <td>-0.445291</td>\n",
       "      <td>2.213912</td>\n",
       "      <td>-0.70205</td>\n",
       "      <td>-0.442723</td>\n",
       "      <td>-0.436834</td>\n",
       "      <td>0.692510</td>\n",
       "      <td>-0.304585</td>\n",
       "      <td>-0.963064</td>\n",
       "      <td>1.142195</td>\n",
       "      <td>-1.019163</td>\n",
       "    </tr>\n",
       "    <tr>\n",
       "      <th>4</th>\n",
       "      <td>-0.931185</td>\n",
       "      <td>-0.067083</td>\n",
       "      <td>2.250181</td>\n",
       "      <td>0.349581</td>\n",
       "      <td>-0.890260</td>\n",
       "      <td>0.825691</td>\n",
       "      <td>-0.451142</td>\n",
       "      <td>2.242954</td>\n",
       "      <td>-0.445291</td>\n",
       "      <td>-0.451689</td>\n",
       "      <td>-0.70205</td>\n",
       "      <td>2.258748</td>\n",
       "      <td>-0.436834</td>\n",
       "      <td>-1.444023</td>\n",
       "      <td>-0.304585</td>\n",
       "      <td>-0.963064</td>\n",
       "      <td>1.142195</td>\n",
       "      <td>-1.019163</td>\n",
       "    </tr>\n",
       "  </tbody>\n",
       "</table>\n",
       "</div>"
      ],
      "text/plain": [
       "   Customer_care_calls  Cost_of_the_Product  Prior_purchases  \\\n",
       "0            -0.050069            -1.151014         0.283359   \n",
       "1            -0.931185             0.912624        -0.372248   \n",
       "2             0.831047             0.349813         0.938966   \n",
       "3             0.831047             1.308675        -0.372248   \n",
       "4            -0.931185            -0.067083         2.250181   \n",
       "\n",
       "   Discount_offered  Weight_in_gms   On_time  Warehouse_block_A  \\\n",
       "0         -0.206372       1.134459  0.825691          -0.451142   \n",
       "1         -0.453462       1.277373 -1.211106           2.216598   \n",
       "2         -0.515235      -1.501171 -1.211106           2.216598   \n",
       "3         -0.453462       0.251826  0.825691          -0.451142   \n",
       "4          0.349581      -0.890260  0.825691          -0.451142   \n",
       "\n",
       "   Warehouse_block_B  Warehouse_block_C  Warehouse_block_D  Warehouse_block_F  \\\n",
       "0          -0.445841          -0.445291          -0.451689            1.42440   \n",
       "1          -0.445841          -0.445291          -0.451689           -0.70205   \n",
       "2          -0.445841          -0.445291          -0.451689           -0.70205   \n",
       "3          -0.445841          -0.445291           2.213912           -0.70205   \n",
       "4           2.242954          -0.445291          -0.451689           -0.70205   \n",
       "\n",
       "   Mode_of_Shipment_Flight  Mode_of_Shipment_Road  Mode_of_Shipment_Ship  \\\n",
       "0                -0.442723               2.289198              -1.444023   \n",
       "1                -0.442723              -0.436834               0.692510   \n",
       "2                -0.442723              -0.436834               0.692510   \n",
       "3                -0.442723              -0.436834               0.692510   \n",
       "4                 2.258748              -0.436834              -1.444023   \n",
       "\n",
       "   Product_importance_high  Product_importance_low  Product_importance_medium  \\\n",
       "0                -0.304585                1.038353                  -0.875507   \n",
       "1                -0.304585               -0.963064                   1.142195   \n",
       "2                -0.304585               -0.963064                   1.142195   \n",
       "3                -0.304585               -0.963064                   1.142195   \n",
       "4                -0.304585               -0.963064                   1.142195   \n",
       "\n",
       "   Gender_F  \n",
       "0  0.981197  \n",
       "1 -1.019163  \n",
       "2 -1.019163  \n",
       "3 -1.019163  \n",
       "4 -1.019163  "
      ]
     },
     "execution_count": 7,
     "metadata": {},
     "output_type": "execute_result"
    }
   ],
   "source": [
    "X_train_cr_scaled = pd.read_csv('X_train_cr_scaled.csv', index_col=0)\n",
    "X_train_cr_scaled.head()"
   ]
  },
  {
   "cell_type": "code",
   "execution_count": 8,
   "id": "liked-shape",
   "metadata": {},
   "outputs": [
    {
     "data": {
      "text/html": [
       "<div>\n",
       "<style scoped>\n",
       "    .dataframe tbody tr th:only-of-type {\n",
       "        vertical-align: middle;\n",
       "    }\n",
       "\n",
       "    .dataframe tbody tr th {\n",
       "        vertical-align: top;\n",
       "    }\n",
       "\n",
       "    .dataframe thead th {\n",
       "        text-align: right;\n",
       "    }\n",
       "</style>\n",
       "<table border=\"1\" class=\"dataframe\">\n",
       "  <thead>\n",
       "    <tr style=\"text-align: right;\">\n",
       "      <th></th>\n",
       "      <th>Customer_care_calls</th>\n",
       "      <th>Customer_rating</th>\n",
       "      <th>Cost_of_the_Product</th>\n",
       "      <th>Prior_purchases</th>\n",
       "      <th>Discount_offered</th>\n",
       "      <th>Weight_in_gms</th>\n",
       "      <th>Warehouse_block_A</th>\n",
       "      <th>Warehouse_block_B</th>\n",
       "      <th>Warehouse_block_C</th>\n",
       "      <th>Warehouse_block_D</th>\n",
       "      <th>Warehouse_block_F</th>\n",
       "      <th>Mode_of_Shipment_Flight</th>\n",
       "      <th>Mode_of_Shipment_Road</th>\n",
       "      <th>Mode_of_Shipment_Ship</th>\n",
       "      <th>Product_importance_high</th>\n",
       "      <th>Product_importance_low</th>\n",
       "      <th>Product_importance_medium</th>\n",
       "      <th>Gender_F</th>\n",
       "    </tr>\n",
       "  </thead>\n",
       "  <tbody>\n",
       "    <tr>\n",
       "      <th>8077</th>\n",
       "      <td>4</td>\n",
       "      <td>4</td>\n",
       "      <td>155</td>\n",
       "      <td>4</td>\n",
       "      <td>10</td>\n",
       "      <td>5483</td>\n",
       "      <td>0</td>\n",
       "      <td>0</td>\n",
       "      <td>0</td>\n",
       "      <td>0</td>\n",
       "      <td>1</td>\n",
       "      <td>0</td>\n",
       "      <td>1</td>\n",
       "      <td>0</td>\n",
       "      <td>0</td>\n",
       "      <td>1</td>\n",
       "      <td>0</td>\n",
       "      <td>1</td>\n",
       "    </tr>\n",
       "    <tr>\n",
       "      <th>4688</th>\n",
       "      <td>3</td>\n",
       "      <td>4</td>\n",
       "      <td>254</td>\n",
       "      <td>3</td>\n",
       "      <td>6</td>\n",
       "      <td>5716</td>\n",
       "      <td>1</td>\n",
       "      <td>0</td>\n",
       "      <td>0</td>\n",
       "      <td>0</td>\n",
       "      <td>0</td>\n",
       "      <td>0</td>\n",
       "      <td>0</td>\n",
       "      <td>1</td>\n",
       "      <td>0</td>\n",
       "      <td>0</td>\n",
       "      <td>1</td>\n",
       "      <td>0</td>\n",
       "    </tr>\n",
       "    <tr>\n",
       "      <th>10754</th>\n",
       "      <td>5</td>\n",
       "      <td>5</td>\n",
       "      <td>227</td>\n",
       "      <td>5</td>\n",
       "      <td>5</td>\n",
       "      <td>1186</td>\n",
       "      <td>1</td>\n",
       "      <td>0</td>\n",
       "      <td>0</td>\n",
       "      <td>0</td>\n",
       "      <td>0</td>\n",
       "      <td>0</td>\n",
       "      <td>0</td>\n",
       "      <td>1</td>\n",
       "      <td>0</td>\n",
       "      <td>0</td>\n",
       "      <td>1</td>\n",
       "      <td>0</td>\n",
       "    </tr>\n",
       "    <tr>\n",
       "      <th>3390</th>\n",
       "      <td>5</td>\n",
       "      <td>4</td>\n",
       "      <td>273</td>\n",
       "      <td>3</td>\n",
       "      <td>6</td>\n",
       "      <td>4044</td>\n",
       "      <td>0</td>\n",
       "      <td>0</td>\n",
       "      <td>0</td>\n",
       "      <td>1</td>\n",
       "      <td>0</td>\n",
       "      <td>0</td>\n",
       "      <td>0</td>\n",
       "      <td>1</td>\n",
       "      <td>0</td>\n",
       "      <td>0</td>\n",
       "      <td>1</td>\n",
       "      <td>0</td>\n",
       "    </tr>\n",
       "    <tr>\n",
       "      <th>693</th>\n",
       "      <td>3</td>\n",
       "      <td>3</td>\n",
       "      <td>207</td>\n",
       "      <td>7</td>\n",
       "      <td>19</td>\n",
       "      <td>2182</td>\n",
       "      <td>0</td>\n",
       "      <td>1</td>\n",
       "      <td>0</td>\n",
       "      <td>0</td>\n",
       "      <td>0</td>\n",
       "      <td>1</td>\n",
       "      <td>0</td>\n",
       "      <td>0</td>\n",
       "      <td>0</td>\n",
       "      <td>0</td>\n",
       "      <td>1</td>\n",
       "      <td>0</td>\n",
       "    </tr>\n",
       "  </tbody>\n",
       "</table>\n",
       "</div>"
      ],
      "text/plain": [
       "       Customer_care_calls  Customer_rating  Cost_of_the_Product  \\\n",
       "8077                     4                4                  155   \n",
       "4688                     3                4                  254   \n",
       "10754                    5                5                  227   \n",
       "3390                     5                4                  273   \n",
       "693                      3                3                  207   \n",
       "\n",
       "       Prior_purchases  Discount_offered  Weight_in_gms  Warehouse_block_A  \\\n",
       "8077                 4                10           5483                  0   \n",
       "4688                 3                 6           5716                  1   \n",
       "10754                5                 5           1186                  1   \n",
       "3390                 3                 6           4044                  0   \n",
       "693                  7                19           2182                  0   \n",
       "\n",
       "       Warehouse_block_B  Warehouse_block_C  Warehouse_block_D  \\\n",
       "8077                   0                  0                  0   \n",
       "4688                   0                  0                  0   \n",
       "10754                  0                  0                  0   \n",
       "3390                   0                  0                  1   \n",
       "693                    1                  0                  0   \n",
       "\n",
       "       Warehouse_block_F  Mode_of_Shipment_Flight  Mode_of_Shipment_Road  \\\n",
       "8077                   1                        0                      1   \n",
       "4688                   0                        0                      0   \n",
       "10754                  0                        0                      0   \n",
       "3390                   0                        0                      0   \n",
       "693                    0                        1                      0   \n",
       "\n",
       "       Mode_of_Shipment_Ship  Product_importance_high  Product_importance_low  \\\n",
       "8077                       0                        0                       1   \n",
       "4688                       1                        0                       0   \n",
       "10754                      1                        0                       0   \n",
       "3390                       1                        0                       0   \n",
       "693                        0                        0                       0   \n",
       "\n",
       "       Product_importance_medium  Gender_F  \n",
       "8077                           0         1  \n",
       "4688                           1         0  \n",
       "10754                          1         0  \n",
       "3390                           1         0  \n",
       "693                            1         0  "
      ]
     },
     "execution_count": 8,
     "metadata": {},
     "output_type": "execute_result"
    }
   ],
   "source": [
    "X_train_ot = pd.read_csv('X_train_ot.csv', index_col=0)\n",
    "X_train_ot.head()"
   ]
  },
  {
   "cell_type": "code",
   "execution_count": 9,
   "id": "checked-matrix",
   "metadata": {},
   "outputs": [
    {
     "data": {
      "text/html": [
       "<div>\n",
       "<style scoped>\n",
       "    .dataframe tbody tr th:only-of-type {\n",
       "        vertical-align: middle;\n",
       "    }\n",
       "\n",
       "    .dataframe tbody tr th {\n",
       "        vertical-align: top;\n",
       "    }\n",
       "\n",
       "    .dataframe thead th {\n",
       "        text-align: right;\n",
       "    }\n",
       "</style>\n",
       "<table border=\"1\" class=\"dataframe\">\n",
       "  <thead>\n",
       "    <tr style=\"text-align: right;\">\n",
       "      <th></th>\n",
       "      <th>Customer_care_calls</th>\n",
       "      <th>Customer_rating</th>\n",
       "      <th>Cost_of_the_Product</th>\n",
       "      <th>Prior_purchases</th>\n",
       "      <th>Discount_offered</th>\n",
       "      <th>Weight_in_gms</th>\n",
       "      <th>Warehouse_block_A</th>\n",
       "      <th>Warehouse_block_B</th>\n",
       "      <th>Warehouse_block_C</th>\n",
       "      <th>Warehouse_block_D</th>\n",
       "      <th>Warehouse_block_F</th>\n",
       "      <th>Mode_of_Shipment_Flight</th>\n",
       "      <th>Mode_of_Shipment_Road</th>\n",
       "      <th>Mode_of_Shipment_Ship</th>\n",
       "      <th>Product_importance_high</th>\n",
       "      <th>Product_importance_low</th>\n",
       "      <th>Product_importance_medium</th>\n",
       "      <th>Gender_F</th>\n",
       "    </tr>\n",
       "  </thead>\n",
       "  <tbody>\n",
       "    <tr>\n",
       "      <th>0</th>\n",
       "      <td>-0.050069</td>\n",
       "      <td>0.713332</td>\n",
       "      <td>-1.151014</td>\n",
       "      <td>0.283359</td>\n",
       "      <td>-0.206372</td>\n",
       "      <td>1.134459</td>\n",
       "      <td>-0.451142</td>\n",
       "      <td>-0.445841</td>\n",
       "      <td>-0.445291</td>\n",
       "      <td>-0.451689</td>\n",
       "      <td>1.42440</td>\n",
       "      <td>-0.442723</td>\n",
       "      <td>2.289198</td>\n",
       "      <td>-1.444023</td>\n",
       "      <td>-0.304585</td>\n",
       "      <td>1.038353</td>\n",
       "      <td>-0.875507</td>\n",
       "      <td>0.981197</td>\n",
       "    </tr>\n",
       "    <tr>\n",
       "      <th>1</th>\n",
       "      <td>-0.931185</td>\n",
       "      <td>0.713332</td>\n",
       "      <td>0.912624</td>\n",
       "      <td>-0.372248</td>\n",
       "      <td>-0.453462</td>\n",
       "      <td>1.277373</td>\n",
       "      <td>2.216598</td>\n",
       "      <td>-0.445841</td>\n",
       "      <td>-0.445291</td>\n",
       "      <td>-0.451689</td>\n",
       "      <td>-0.70205</td>\n",
       "      <td>-0.442723</td>\n",
       "      <td>-0.436834</td>\n",
       "      <td>0.692510</td>\n",
       "      <td>-0.304585</td>\n",
       "      <td>-0.963064</td>\n",
       "      <td>1.142195</td>\n",
       "      <td>-1.019163</td>\n",
       "    </tr>\n",
       "    <tr>\n",
       "      <th>2</th>\n",
       "      <td>0.831047</td>\n",
       "      <td>1.421113</td>\n",
       "      <td>0.349813</td>\n",
       "      <td>0.938966</td>\n",
       "      <td>-0.515235</td>\n",
       "      <td>-1.501171</td>\n",
       "      <td>2.216598</td>\n",
       "      <td>-0.445841</td>\n",
       "      <td>-0.445291</td>\n",
       "      <td>-0.451689</td>\n",
       "      <td>-0.70205</td>\n",
       "      <td>-0.442723</td>\n",
       "      <td>-0.436834</td>\n",
       "      <td>0.692510</td>\n",
       "      <td>-0.304585</td>\n",
       "      <td>-0.963064</td>\n",
       "      <td>1.142195</td>\n",
       "      <td>-1.019163</td>\n",
       "    </tr>\n",
       "    <tr>\n",
       "      <th>3</th>\n",
       "      <td>0.831047</td>\n",
       "      <td>0.713332</td>\n",
       "      <td>1.308675</td>\n",
       "      <td>-0.372248</td>\n",
       "      <td>-0.453462</td>\n",
       "      <td>0.251826</td>\n",
       "      <td>-0.451142</td>\n",
       "      <td>-0.445841</td>\n",
       "      <td>-0.445291</td>\n",
       "      <td>2.213912</td>\n",
       "      <td>-0.70205</td>\n",
       "      <td>-0.442723</td>\n",
       "      <td>-0.436834</td>\n",
       "      <td>0.692510</td>\n",
       "      <td>-0.304585</td>\n",
       "      <td>-0.963064</td>\n",
       "      <td>1.142195</td>\n",
       "      <td>-1.019163</td>\n",
       "    </tr>\n",
       "    <tr>\n",
       "      <th>4</th>\n",
       "      <td>-0.931185</td>\n",
       "      <td>0.005550</td>\n",
       "      <td>-0.067083</td>\n",
       "      <td>2.250181</td>\n",
       "      <td>0.349581</td>\n",
       "      <td>-0.890260</td>\n",
       "      <td>-0.451142</td>\n",
       "      <td>2.242954</td>\n",
       "      <td>-0.445291</td>\n",
       "      <td>-0.451689</td>\n",
       "      <td>-0.70205</td>\n",
       "      <td>2.258748</td>\n",
       "      <td>-0.436834</td>\n",
       "      <td>-1.444023</td>\n",
       "      <td>-0.304585</td>\n",
       "      <td>-0.963064</td>\n",
       "      <td>1.142195</td>\n",
       "      <td>-1.019163</td>\n",
       "    </tr>\n",
       "  </tbody>\n",
       "</table>\n",
       "</div>"
      ],
      "text/plain": [
       "   Customer_care_calls  Customer_rating  Cost_of_the_Product  Prior_purchases  \\\n",
       "0            -0.050069         0.713332            -1.151014         0.283359   \n",
       "1            -0.931185         0.713332             0.912624        -0.372248   \n",
       "2             0.831047         1.421113             0.349813         0.938966   \n",
       "3             0.831047         0.713332             1.308675        -0.372248   \n",
       "4            -0.931185         0.005550            -0.067083         2.250181   \n",
       "\n",
       "   Discount_offered  Weight_in_gms  Warehouse_block_A  Warehouse_block_B  \\\n",
       "0         -0.206372       1.134459          -0.451142          -0.445841   \n",
       "1         -0.453462       1.277373           2.216598          -0.445841   \n",
       "2         -0.515235      -1.501171           2.216598          -0.445841   \n",
       "3         -0.453462       0.251826          -0.451142          -0.445841   \n",
       "4          0.349581      -0.890260          -0.451142           2.242954   \n",
       "\n",
       "   Warehouse_block_C  Warehouse_block_D  Warehouse_block_F  \\\n",
       "0          -0.445291          -0.451689            1.42440   \n",
       "1          -0.445291          -0.451689           -0.70205   \n",
       "2          -0.445291          -0.451689           -0.70205   \n",
       "3          -0.445291           2.213912           -0.70205   \n",
       "4          -0.445291          -0.451689           -0.70205   \n",
       "\n",
       "   Mode_of_Shipment_Flight  Mode_of_Shipment_Road  Mode_of_Shipment_Ship  \\\n",
       "0                -0.442723               2.289198              -1.444023   \n",
       "1                -0.442723              -0.436834               0.692510   \n",
       "2                -0.442723              -0.436834               0.692510   \n",
       "3                -0.442723              -0.436834               0.692510   \n",
       "4                 2.258748              -0.436834              -1.444023   \n",
       "\n",
       "   Product_importance_high  Product_importance_low  Product_importance_medium  \\\n",
       "0                -0.304585                1.038353                  -0.875507   \n",
       "1                -0.304585               -0.963064                   1.142195   \n",
       "2                -0.304585               -0.963064                   1.142195   \n",
       "3                -0.304585               -0.963064                   1.142195   \n",
       "4                -0.304585               -0.963064                   1.142195   \n",
       "\n",
       "   Gender_F  \n",
       "0  0.981197  \n",
       "1 -1.019163  \n",
       "2 -1.019163  \n",
       "3 -1.019163  \n",
       "4 -1.019163  "
      ]
     },
     "execution_count": 9,
     "metadata": {},
     "output_type": "execute_result"
    }
   ],
   "source": [
    "X_train_ot_scaled = pd.read_csv('X_train_ot_scaled.csv', index_col=0)\n",
    "X_train_ot_scaled.head()"
   ]
  },
  {
   "cell_type": "code",
   "execution_count": 10,
   "id": "collected-nursing",
   "metadata": {},
   "outputs": [
    {
     "data": {
      "text/html": [
       "<div>\n",
       "<style scoped>\n",
       "    .dataframe tbody tr th:only-of-type {\n",
       "        vertical-align: middle;\n",
       "    }\n",
       "\n",
       "    .dataframe tbody tr th {\n",
       "        vertical-align: top;\n",
       "    }\n",
       "\n",
       "    .dataframe thead th {\n",
       "        text-align: right;\n",
       "    }\n",
       "</style>\n",
       "<table border=\"1\" class=\"dataframe\">\n",
       "  <thead>\n",
       "    <tr style=\"text-align: right;\">\n",
       "      <th></th>\n",
       "      <th>Customer_rating</th>\n",
       "    </tr>\n",
       "  </thead>\n",
       "  <tbody>\n",
       "    <tr>\n",
       "      <th>8442</th>\n",
       "      <td>5</td>\n",
       "    </tr>\n",
       "    <tr>\n",
       "      <th>8368</th>\n",
       "      <td>4</td>\n",
       "    </tr>\n",
       "    <tr>\n",
       "      <th>2972</th>\n",
       "      <td>4</td>\n",
       "    </tr>\n",
       "    <tr>\n",
       "      <th>6561</th>\n",
       "      <td>2</td>\n",
       "    </tr>\n",
       "    <tr>\n",
       "      <th>4885</th>\n",
       "      <td>1</td>\n",
       "    </tr>\n",
       "  </tbody>\n",
       "</table>\n",
       "</div>"
      ],
      "text/plain": [
       "      Customer_rating\n",
       "8442                5\n",
       "8368                4\n",
       "2972                4\n",
       "6561                2\n",
       "4885                1"
      ]
     },
     "execution_count": 10,
     "metadata": {},
     "output_type": "execute_result"
    }
   ],
   "source": [
    "y_test_cr = pd.read_csv('y_test_cr.csv', index_col=0)\n",
    "y_test_cr.head()"
   ]
  },
  {
   "cell_type": "code",
   "execution_count": 11,
   "id": "polar-medicare",
   "metadata": {},
   "outputs": [
    {
     "data": {
      "text/html": [
       "<div>\n",
       "<style scoped>\n",
       "    .dataframe tbody tr th:only-of-type {\n",
       "        vertical-align: middle;\n",
       "    }\n",
       "\n",
       "    .dataframe tbody tr th {\n",
       "        vertical-align: top;\n",
       "    }\n",
       "\n",
       "    .dataframe thead th {\n",
       "        text-align: right;\n",
       "    }\n",
       "</style>\n",
       "<table border=\"1\" class=\"dataframe\">\n",
       "  <thead>\n",
       "    <tr style=\"text-align: right;\">\n",
       "      <th></th>\n",
       "      <th>On_time</th>\n",
       "    </tr>\n",
       "  </thead>\n",
       "  <tbody>\n",
       "    <tr>\n",
       "      <th>8442</th>\n",
       "      <td>1</td>\n",
       "    </tr>\n",
       "    <tr>\n",
       "      <th>8368</th>\n",
       "      <td>1</td>\n",
       "    </tr>\n",
       "    <tr>\n",
       "      <th>2972</th>\n",
       "      <td>1</td>\n",
       "    </tr>\n",
       "    <tr>\n",
       "      <th>6561</th>\n",
       "      <td>0</td>\n",
       "    </tr>\n",
       "    <tr>\n",
       "      <th>4885</th>\n",
       "      <td>0</td>\n",
       "    </tr>\n",
       "  </tbody>\n",
       "</table>\n",
       "</div>"
      ],
      "text/plain": [
       "      On_time\n",
       "8442        1\n",
       "8368        1\n",
       "2972        1\n",
       "6561        0\n",
       "4885        0"
      ]
     },
     "execution_count": 11,
     "metadata": {},
     "output_type": "execute_result"
    }
   ],
   "source": [
    "y_test_ot = pd.read_csv('y_test_ot.csv', index_col=0)\n",
    "y_test_ot.head()"
   ]
  },
  {
   "cell_type": "code",
   "execution_count": 12,
   "id": "angry-purple",
   "metadata": {},
   "outputs": [
    {
     "data": {
      "text/html": [
       "<div>\n",
       "<style scoped>\n",
       "    .dataframe tbody tr th:only-of-type {\n",
       "        vertical-align: middle;\n",
       "    }\n",
       "\n",
       "    .dataframe tbody tr th {\n",
       "        vertical-align: top;\n",
       "    }\n",
       "\n",
       "    .dataframe thead th {\n",
       "        text-align: right;\n",
       "    }\n",
       "</style>\n",
       "<table border=\"1\" class=\"dataframe\">\n",
       "  <thead>\n",
       "    <tr style=\"text-align: right;\">\n",
       "      <th></th>\n",
       "      <th>Customer_rating</th>\n",
       "    </tr>\n",
       "  </thead>\n",
       "  <tbody>\n",
       "    <tr>\n",
       "      <th>8077</th>\n",
       "      <td>4</td>\n",
       "    </tr>\n",
       "    <tr>\n",
       "      <th>4688</th>\n",
       "      <td>4</td>\n",
       "    </tr>\n",
       "    <tr>\n",
       "      <th>10754</th>\n",
       "      <td>5</td>\n",
       "    </tr>\n",
       "    <tr>\n",
       "      <th>3390</th>\n",
       "      <td>4</td>\n",
       "    </tr>\n",
       "    <tr>\n",
       "      <th>693</th>\n",
       "      <td>3</td>\n",
       "    </tr>\n",
       "  </tbody>\n",
       "</table>\n",
       "</div>"
      ],
      "text/plain": [
       "       Customer_rating\n",
       "8077                 4\n",
       "4688                 4\n",
       "10754                5\n",
       "3390                 4\n",
       "693                  3"
      ]
     },
     "execution_count": 12,
     "metadata": {},
     "output_type": "execute_result"
    }
   ],
   "source": [
    "y_train_cr = pd.read_csv('y_train_cr.csv', index_col=0)\n",
    "y_train_cr.head()"
   ]
  },
  {
   "cell_type": "code",
   "execution_count": 13,
   "id": "antique-finland",
   "metadata": {},
   "outputs": [
    {
     "data": {
      "text/html": [
       "<div>\n",
       "<style scoped>\n",
       "    .dataframe tbody tr th:only-of-type {\n",
       "        vertical-align: middle;\n",
       "    }\n",
       "\n",
       "    .dataframe tbody tr th {\n",
       "        vertical-align: top;\n",
       "    }\n",
       "\n",
       "    .dataframe thead th {\n",
       "        text-align: right;\n",
       "    }\n",
       "</style>\n",
       "<table border=\"1\" class=\"dataframe\">\n",
       "  <thead>\n",
       "    <tr style=\"text-align: right;\">\n",
       "      <th></th>\n",
       "      <th>On_time</th>\n",
       "    </tr>\n",
       "  </thead>\n",
       "  <tbody>\n",
       "    <tr>\n",
       "      <th>8077</th>\n",
       "      <td>1</td>\n",
       "    </tr>\n",
       "    <tr>\n",
       "      <th>4688</th>\n",
       "      <td>0</td>\n",
       "    </tr>\n",
       "    <tr>\n",
       "      <th>10754</th>\n",
       "      <td>0</td>\n",
       "    </tr>\n",
       "    <tr>\n",
       "      <th>3390</th>\n",
       "      <td>1</td>\n",
       "    </tr>\n",
       "    <tr>\n",
       "      <th>693</th>\n",
       "      <td>1</td>\n",
       "    </tr>\n",
       "  </tbody>\n",
       "</table>\n",
       "</div>"
      ],
      "text/plain": [
       "       On_time\n",
       "8077         1\n",
       "4688         0\n",
       "10754        0\n",
       "3390         1\n",
       "693          1"
      ]
     },
     "execution_count": 13,
     "metadata": {},
     "output_type": "execute_result"
    }
   ],
   "source": [
    "y_train_ot = pd.read_csv('y_train_ot.csv', index_col=0)\n",
    "y_train_ot.head()"
   ]
  },
  {
   "cell_type": "markdown",
   "id": "julian-relay",
   "metadata": {},
   "source": [
    "# Logistic Regression"
   ]
  },
  {
   "cell_type": "code",
   "execution_count": 14,
   "id": "exclusive-hierarchy",
   "metadata": {},
   "outputs": [
    {
     "name": "stderr",
     "output_type": "stream",
     "text": [
      "/opt/miniconda3/envs/conda_env/lib/python3.7/site-packages/sklearn/utils/validation.py:63: DataConversionWarning: A column-vector y was passed when a 1d array was expected. Please change the shape of y to (n_samples, ), for example using ravel().\n",
      "  return f(*args, **kwargs)\n"
     ]
    },
    {
     "data": {
      "text/plain": [
       "LogisticRegression()"
      ]
     },
     "execution_count": 14,
     "metadata": {},
     "output_type": "execute_result"
    }
   ],
   "source": [
    "# baseline logistic regression model for On_time prediction\n",
    "lg = LogisticRegression()\n",
    "lg.fit(X_train_ot, y_train_ot)"
   ]
  },
  {
   "cell_type": "code",
   "execution_count": 15,
   "id": "excessive-operation",
   "metadata": {},
   "outputs": [
    {
     "name": "stdout",
     "output_type": "stream",
     "text": [
      "[[514 355]\n",
      " [456 875]]\n",
      "              precision    recall  f1-score   support\n",
      "\n",
      "           0       0.53      0.59      0.56       869\n",
      "           1       0.71      0.66      0.68      1331\n",
      "\n",
      "    accuracy                           0.63      2200\n",
      "   macro avg       0.62      0.62      0.62      2200\n",
      "weighted avg       0.64      0.63      0.63      2200\n",
      "\n"
     ]
    }
   ],
   "source": [
    "y_pred_ot = lg.predict(X_test_ot)\n",
    "print(confusion_matrix(y_test_ot, y_pred_ot))\n",
    "print(classification_report(y_test_ot, y_pred_ot))"
   ]
  },
  {
   "cell_type": "markdown",
   "id": "pending-thing",
   "metadata": {},
   "source": [
    "# KNN"
   ]
  },
  {
   "cell_type": "code",
   "execution_count": 16,
   "id": "weird-mustang",
   "metadata": {},
   "outputs": [
    {
     "name": "stderr",
     "output_type": "stream",
     "text": [
      "/opt/miniconda3/envs/conda_env/lib/python3.7/site-packages/sklearn/neighbors/_classification.py:179: DataConversionWarning: A column-vector y was passed when a 1d array was expected. Please change the shape of y to (n_samples,), for example using ravel().\n",
      "  return self._fit(X, y)\n"
     ]
    },
    {
     "data": {
      "text/plain": [
       "KNeighborsClassifier()"
      ]
     },
     "execution_count": 16,
     "metadata": {},
     "output_type": "execute_result"
    }
   ],
   "source": [
    "# baseline knn model for On_time prediction\n",
    "knn = KNeighborsClassifier()\n",
    "knn.fit(X_train_ot, y_train_ot)"
   ]
  },
  {
   "cell_type": "code",
   "execution_count": 17,
   "id": "serial-bronze",
   "metadata": {},
   "outputs": [
    {
     "name": "stdout",
     "output_type": "stream",
     "text": [
      "[[565 304]\n",
      " [434 897]]\n",
      "              precision    recall  f1-score   support\n",
      "\n",
      "           0       0.57      0.65      0.60       869\n",
      "           1       0.75      0.67      0.71      1331\n",
      "\n",
      "    accuracy                           0.66      2200\n",
      "   macro avg       0.66      0.66      0.66      2200\n",
      "weighted avg       0.68      0.66      0.67      2200\n",
      "\n"
     ]
    }
   ],
   "source": [
    "y_pred_ot2 = knn.predict(X_test_ot)\n",
    "print(confusion_matrix(y_test_ot, y_pred_ot2))\n",
    "print(classification_report(y_test_ot, y_pred_ot2))"
   ]
  },
  {
   "cell_type": "markdown",
   "id": "radical-mattress",
   "metadata": {},
   "source": [
    "KNN so far looks better than logistic regression. We want to limit false positives (predict product on time but actually not on time). 0 indicates product reached on time and 1 indicates product did not reach on time. (0=Positive, 1=Negative) LG = 456 false positives vs KNN = 434 false positives. We want to optimize precision for 0. Precision: 0.53 vs 0.57 in favor of KNN."
   ]
  },
  {
   "cell_type": "markdown",
   "id": "frozen-sapphire",
   "metadata": {},
   "source": [
    "# Modeling Scaled Data Sets"
   ]
  },
  {
   "cell_type": "code",
   "execution_count": 18,
   "id": "valid-replacement",
   "metadata": {},
   "outputs": [
    {
     "name": "stderr",
     "output_type": "stream",
     "text": [
      "/opt/miniconda3/envs/conda_env/lib/python3.7/site-packages/sklearn/utils/validation.py:63: DataConversionWarning: A column-vector y was passed when a 1d array was expected. Please change the shape of y to (n_samples, ), for example using ravel().\n",
      "  return f(*args, **kwargs)\n"
     ]
    },
    {
     "data": {
      "text/plain": [
       "LogisticRegression()"
      ]
     },
     "execution_count": 18,
     "metadata": {},
     "output_type": "execute_result"
    }
   ],
   "source": [
    "# logistic regression with X scaled\n",
    "lg_scaled = LogisticRegression()\n",
    "lg_scaled.fit(X_train_ot_scaled, y_train_ot)"
   ]
  },
  {
   "cell_type": "code",
   "execution_count": 19,
   "id": "protecting-carbon",
   "metadata": {},
   "outputs": [
    {
     "name": "stdout",
     "output_type": "stream",
     "text": [
      "[[504 365]\n",
      " [443 888]]\n",
      "              precision    recall  f1-score   support\n",
      "\n",
      "           0       0.53      0.58      0.56       869\n",
      "           1       0.71      0.67      0.69      1331\n",
      "\n",
      "    accuracy                           0.63      2200\n",
      "   macro avg       0.62      0.62      0.62      2200\n",
      "weighted avg       0.64      0.63      0.64      2200\n",
      "\n"
     ]
    }
   ],
   "source": [
    "y_pred_ots = lg_scaled.predict(X_test_ot_scaled)\n",
    "print(confusion_matrix(y_test_ot, y_pred_ots))\n",
    "print(classification_report(y_test_ot, y_pred_ots))"
   ]
  },
  {
   "cell_type": "code",
   "execution_count": 20,
   "id": "accessible-helping",
   "metadata": {},
   "outputs": [
    {
     "name": "stderr",
     "output_type": "stream",
     "text": [
      "/opt/miniconda3/envs/conda_env/lib/python3.7/site-packages/sklearn/neighbors/_classification.py:179: DataConversionWarning: A column-vector y was passed when a 1d array was expected. Please change the shape of y to (n_samples,), for example using ravel().\n",
      "  return self._fit(X, y)\n"
     ]
    },
    {
     "data": {
      "text/plain": [
       "KNeighborsClassifier()"
      ]
     },
     "execution_count": 20,
     "metadata": {},
     "output_type": "execute_result"
    }
   ],
   "source": [
    "# knn on X scaled\n",
    "knn_scaled = KNeighborsClassifier()\n",
    "knn_scaled.fit(X_train_ot_scaled, y_train_ot)"
   ]
  },
  {
   "cell_type": "code",
   "execution_count": 21,
   "id": "instant-vehicle",
   "metadata": {},
   "outputs": [
    {
     "name": "stdout",
     "output_type": "stream",
     "text": [
      "[[505 364]\n",
      " [445 886]]\n",
      "              precision    recall  f1-score   support\n",
      "\n",
      "           0       0.53      0.58      0.56       869\n",
      "           1       0.71      0.67      0.69      1331\n",
      "\n",
      "    accuracy                           0.63      2200\n",
      "   macro avg       0.62      0.62      0.62      2200\n",
      "weighted avg       0.64      0.63      0.63      2200\n",
      "\n"
     ]
    }
   ],
   "source": [
    "y_pred_ots2 = knn_scaled.predict(X_test_ot_scaled)\n",
    "print(confusion_matrix(y_test_ot, y_pred_ots2))\n",
    "print(classification_report(y_test_ot, y_pred_ots2))"
   ]
  },
  {
   "cell_type": "markdown",
   "id": "operating-synthetic",
   "metadata": {},
   "source": [
    "The scaled data sets gave us improved results for logistic regression but worse results for knn."
   ]
  },
  {
   "cell_type": "markdown",
   "id": "adaptive-singapore",
   "metadata": {},
   "source": [
    "# Hyperparameter Tuning"
   ]
  },
  {
   "cell_type": "code",
   "execution_count": 22,
   "id": "clinical-answer",
   "metadata": {},
   "outputs": [
    {
     "name": "stderr",
     "output_type": "stream",
     "text": [
      "/opt/miniconda3/envs/conda_env/lib/python3.7/site-packages/sklearn/utils/validation.py:63: DataConversionWarning: A column-vector y was passed when a 1d array was expected. Please change the shape of y to (n_samples, ), for example using ravel().\n",
      "  return f(*args, **kwargs)\n",
      "/opt/miniconda3/envs/conda_env/lib/python3.7/site-packages/sklearn/utils/validation.py:63: DataConversionWarning: A column-vector y was passed when a 1d array was expected. Please change the shape of y to (n_samples, ), for example using ravel().\n",
      "  return f(*args, **kwargs)\n",
      "/opt/miniconda3/envs/conda_env/lib/python3.7/site-packages/sklearn/utils/validation.py:63: DataConversionWarning: A column-vector y was passed when a 1d array was expected. Please change the shape of y to (n_samples, ), for example using ravel().\n",
      "  return f(*args, **kwargs)\n",
      "/opt/miniconda3/envs/conda_env/lib/python3.7/site-packages/sklearn/utils/validation.py:63: DataConversionWarning: A column-vector y was passed when a 1d array was expected. Please change the shape of y to (n_samples, ), for example using ravel().\n",
      "  return f(*args, **kwargs)\n",
      "/opt/miniconda3/envs/conda_env/lib/python3.7/site-packages/sklearn/utils/validation.py:63: DataConversionWarning: A column-vector y was passed when a 1d array was expected. Please change the shape of y to (n_samples, ), for example using ravel().\n",
      "  return f(*args, **kwargs)\n",
      "/opt/miniconda3/envs/conda_env/lib/python3.7/site-packages/sklearn/utils/validation.py:63: DataConversionWarning: A column-vector y was passed when a 1d array was expected. Please change the shape of y to (n_samples, ), for example using ravel().\n",
      "  return f(*args, **kwargs)\n",
      "/opt/miniconda3/envs/conda_env/lib/python3.7/site-packages/sklearn/utils/validation.py:63: DataConversionWarning: A column-vector y was passed when a 1d array was expected. Please change the shape of y to (n_samples, ), for example using ravel().\n",
      "  return f(*args, **kwargs)\n",
      "/opt/miniconda3/envs/conda_env/lib/python3.7/site-packages/sklearn/utils/validation.py:63: DataConversionWarning: A column-vector y was passed when a 1d array was expected. Please change the shape of y to (n_samples, ), for example using ravel().\n",
      "  return f(*args, **kwargs)\n",
      "/opt/miniconda3/envs/conda_env/lib/python3.7/site-packages/sklearn/utils/validation.py:63: DataConversionWarning: A column-vector y was passed when a 1d array was expected. Please change the shape of y to (n_samples, ), for example using ravel().\n",
      "  return f(*args, **kwargs)\n",
      "/opt/miniconda3/envs/conda_env/lib/python3.7/site-packages/sklearn/utils/validation.py:63: DataConversionWarning: A column-vector y was passed when a 1d array was expected. Please change the shape of y to (n_samples, ), for example using ravel().\n",
      "  return f(*args, **kwargs)\n",
      "/opt/miniconda3/envs/conda_env/lib/python3.7/site-packages/sklearn/utils/validation.py:63: DataConversionWarning: A column-vector y was passed when a 1d array was expected. Please change the shape of y to (n_samples, ), for example using ravel().\n",
      "  return f(*args, **kwargs)\n",
      "/opt/miniconda3/envs/conda_env/lib/python3.7/site-packages/sklearn/utils/validation.py:63: DataConversionWarning: A column-vector y was passed when a 1d array was expected. Please change the shape of y to (n_samples, ), for example using ravel().\n",
      "  return f(*args, **kwargs)\n",
      "/opt/miniconda3/envs/conda_env/lib/python3.7/site-packages/sklearn/utils/validation.py:63: DataConversionWarning: A column-vector y was passed when a 1d array was expected. Please change the shape of y to (n_samples, ), for example using ravel().\n",
      "  return f(*args, **kwargs)\n",
      "/opt/miniconda3/envs/conda_env/lib/python3.7/site-packages/sklearn/utils/validation.py:63: DataConversionWarning: A column-vector y was passed when a 1d array was expected. Please change the shape of y to (n_samples, ), for example using ravel().\n",
      "  return f(*args, **kwargs)\n",
      "/opt/miniconda3/envs/conda_env/lib/python3.7/site-packages/sklearn/utils/validation.py:63: DataConversionWarning: A column-vector y was passed when a 1d array was expected. Please change the shape of y to (n_samples, ), for example using ravel().\n",
      "  return f(*args, **kwargs)\n",
      "/opt/miniconda3/envs/conda_env/lib/python3.7/site-packages/sklearn/utils/validation.py:63: DataConversionWarning: A column-vector y was passed when a 1d array was expected. Please change the shape of y to (n_samples, ), for example using ravel().\n",
      "  return f(*args, **kwargs)\n",
      "/opt/miniconda3/envs/conda_env/lib/python3.7/site-packages/sklearn/utils/validation.py:63: DataConversionWarning: A column-vector y was passed when a 1d array was expected. Please change the shape of y to (n_samples, ), for example using ravel().\n",
      "  return f(*args, **kwargs)\n",
      "/opt/miniconda3/envs/conda_env/lib/python3.7/site-packages/sklearn/utils/validation.py:63: DataConversionWarning: A column-vector y was passed when a 1d array was expected. Please change the shape of y to (n_samples, ), for example using ravel().\n",
      "  return f(*args, **kwargs)\n",
      "/opt/miniconda3/envs/conda_env/lib/python3.7/site-packages/sklearn/utils/validation.py:63: DataConversionWarning: A column-vector y was passed when a 1d array was expected. Please change the shape of y to (n_samples, ), for example using ravel().\n",
      "  return f(*args, **kwargs)\n",
      "/opt/miniconda3/envs/conda_env/lib/python3.7/site-packages/sklearn/utils/validation.py:63: DataConversionWarning: A column-vector y was passed when a 1d array was expected. Please change the shape of y to (n_samples, ), for example using ravel().\n",
      "  return f(*args, **kwargs)\n",
      "/opt/miniconda3/envs/conda_env/lib/python3.7/site-packages/sklearn/utils/validation.py:63: DataConversionWarning: A column-vector y was passed when a 1d array was expected. Please change the shape of y to (n_samples, ), for example using ravel().\n",
      "  return f(*args, **kwargs)\n",
      "/opt/miniconda3/envs/conda_env/lib/python3.7/site-packages/sklearn/utils/validation.py:63: DataConversionWarning: A column-vector y was passed when a 1d array was expected. Please change the shape of y to (n_samples, ), for example using ravel().\n",
      "  return f(*args, **kwargs)\n",
      "/opt/miniconda3/envs/conda_env/lib/python3.7/site-packages/sklearn/utils/validation.py:63: DataConversionWarning: A column-vector y was passed when a 1d array was expected. Please change the shape of y to (n_samples, ), for example using ravel().\n",
      "  return f(*args, **kwargs)\n",
      "/opt/miniconda3/envs/conda_env/lib/python3.7/site-packages/sklearn/utils/validation.py:63: DataConversionWarning: A column-vector y was passed when a 1d array was expected. Please change the shape of y to (n_samples, ), for example using ravel().\n",
      "  return f(*args, **kwargs)\n",
      "/opt/miniconda3/envs/conda_env/lib/python3.7/site-packages/sklearn/utils/validation.py:63: DataConversionWarning: A column-vector y was passed when a 1d array was expected. Please change the shape of y to (n_samples, ), for example using ravel().\n",
      "  return f(*args, **kwargs)\n",
      "/opt/miniconda3/envs/conda_env/lib/python3.7/site-packages/sklearn/utils/validation.py:63: DataConversionWarning: A column-vector y was passed when a 1d array was expected. Please change the shape of y to (n_samples, ), for example using ravel().\n",
      "  return f(*args, **kwargs)\n",
      "/opt/miniconda3/envs/conda_env/lib/python3.7/site-packages/sklearn/utils/validation.py:63: DataConversionWarning: A column-vector y was passed when a 1d array was expected. Please change the shape of y to (n_samples, ), for example using ravel().\n",
      "  return f(*args, **kwargs)\n",
      "/opt/miniconda3/envs/conda_env/lib/python3.7/site-packages/sklearn/utils/validation.py:63: DataConversionWarning: A column-vector y was passed when a 1d array was expected. Please change the shape of y to (n_samples, ), for example using ravel().\n",
      "  return f(*args, **kwargs)\n",
      "/opt/miniconda3/envs/conda_env/lib/python3.7/site-packages/sklearn/utils/validation.py:63: DataConversionWarning: A column-vector y was passed when a 1d array was expected. Please change the shape of y to (n_samples, ), for example using ravel().\n",
      "  return f(*args, **kwargs)\n",
      "/opt/miniconda3/envs/conda_env/lib/python3.7/site-packages/sklearn/utils/validation.py:63: DataConversionWarning: A column-vector y was passed when a 1d array was expected. Please change the shape of y to (n_samples, ), for example using ravel().\n",
      "  return f(*args, **kwargs)\n",
      "/opt/miniconda3/envs/conda_env/lib/python3.7/site-packages/sklearn/utils/validation.py:63: DataConversionWarning: A column-vector y was passed when a 1d array was expected. Please change the shape of y to (n_samples, ), for example using ravel().\n",
      "  return f(*args, **kwargs)\n"
     ]
    },
    {
     "name": "stderr",
     "output_type": "stream",
     "text": [
      "/opt/miniconda3/envs/conda_env/lib/python3.7/site-packages/sklearn/utils/validation.py:63: DataConversionWarning: A column-vector y was passed when a 1d array was expected. Please change the shape of y to (n_samples, ), for example using ravel().\n",
      "  return f(*args, **kwargs)\n",
      "/opt/miniconda3/envs/conda_env/lib/python3.7/site-packages/sklearn/utils/validation.py:63: DataConversionWarning: A column-vector y was passed when a 1d array was expected. Please change the shape of y to (n_samples, ), for example using ravel().\n",
      "  return f(*args, **kwargs)\n",
      "/opt/miniconda3/envs/conda_env/lib/python3.7/site-packages/sklearn/utils/validation.py:63: DataConversionWarning: A column-vector y was passed when a 1d array was expected. Please change the shape of y to (n_samples, ), for example using ravel().\n",
      "  return f(*args, **kwargs)\n",
      "/opt/miniconda3/envs/conda_env/lib/python3.7/site-packages/sklearn/utils/validation.py:63: DataConversionWarning: A column-vector y was passed when a 1d array was expected. Please change the shape of y to (n_samples, ), for example using ravel().\n",
      "  return f(*args, **kwargs)\n",
      "/opt/miniconda3/envs/conda_env/lib/python3.7/site-packages/sklearn/utils/validation.py:63: DataConversionWarning: A column-vector y was passed when a 1d array was expected. Please change the shape of y to (n_samples, ), for example using ravel().\n",
      "  return f(*args, **kwargs)\n",
      "/opt/miniconda3/envs/conda_env/lib/python3.7/site-packages/sklearn/utils/validation.py:63: DataConversionWarning: A column-vector y was passed when a 1d array was expected. Please change the shape of y to (n_samples, ), for example using ravel().\n",
      "  return f(*args, **kwargs)\n",
      "/opt/miniconda3/envs/conda_env/lib/python3.7/site-packages/sklearn/utils/validation.py:63: DataConversionWarning: A column-vector y was passed when a 1d array was expected. Please change the shape of y to (n_samples, ), for example using ravel().\n",
      "  return f(*args, **kwargs)\n",
      "/opt/miniconda3/envs/conda_env/lib/python3.7/site-packages/sklearn/utils/validation.py:63: DataConversionWarning: A column-vector y was passed when a 1d array was expected. Please change the shape of y to (n_samples, ), for example using ravel().\n",
      "  return f(*args, **kwargs)\n",
      "/opt/miniconda3/envs/conda_env/lib/python3.7/site-packages/sklearn/utils/validation.py:63: DataConversionWarning: A column-vector y was passed when a 1d array was expected. Please change the shape of y to (n_samples, ), for example using ravel().\n",
      "  return f(*args, **kwargs)\n",
      "/opt/miniconda3/envs/conda_env/lib/python3.7/site-packages/sklearn/utils/validation.py:63: DataConversionWarning: A column-vector y was passed when a 1d array was expected. Please change the shape of y to (n_samples, ), for example using ravel().\n",
      "  return f(*args, **kwargs)\n",
      "/opt/miniconda3/envs/conda_env/lib/python3.7/site-packages/sklearn/utils/validation.py:63: DataConversionWarning: A column-vector y was passed when a 1d array was expected. Please change the shape of y to (n_samples, ), for example using ravel().\n",
      "  return f(*args, **kwargs)\n",
      "/opt/miniconda3/envs/conda_env/lib/python3.7/site-packages/sklearn/utils/validation.py:63: DataConversionWarning: A column-vector y was passed when a 1d array was expected. Please change the shape of y to (n_samples, ), for example using ravel().\n",
      "  return f(*args, **kwargs)\n",
      "/opt/miniconda3/envs/conda_env/lib/python3.7/site-packages/sklearn/utils/validation.py:63: DataConversionWarning: A column-vector y was passed when a 1d array was expected. Please change the shape of y to (n_samples, ), for example using ravel().\n",
      "  return f(*args, **kwargs)\n",
      "/opt/miniconda3/envs/conda_env/lib/python3.7/site-packages/sklearn/utils/validation.py:63: DataConversionWarning: A column-vector y was passed when a 1d array was expected. Please change the shape of y to (n_samples, ), for example using ravel().\n",
      "  return f(*args, **kwargs)\n",
      "/opt/miniconda3/envs/conda_env/lib/python3.7/site-packages/sklearn/utils/validation.py:63: DataConversionWarning: A column-vector y was passed when a 1d array was expected. Please change the shape of y to (n_samples, ), for example using ravel().\n",
      "  return f(*args, **kwargs)\n",
      "/opt/miniconda3/envs/conda_env/lib/python3.7/site-packages/sklearn/utils/validation.py:63: DataConversionWarning: A column-vector y was passed when a 1d array was expected. Please change the shape of y to (n_samples, ), for example using ravel().\n",
      "  return f(*args, **kwargs)\n",
      "/opt/miniconda3/envs/conda_env/lib/python3.7/site-packages/sklearn/utils/validation.py:63: DataConversionWarning: A column-vector y was passed when a 1d array was expected. Please change the shape of y to (n_samples, ), for example using ravel().\n",
      "  return f(*args, **kwargs)\n",
      "/opt/miniconda3/envs/conda_env/lib/python3.7/site-packages/sklearn/utils/validation.py:63: DataConversionWarning: A column-vector y was passed when a 1d array was expected. Please change the shape of y to (n_samples, ), for example using ravel().\n",
      "  return f(*args, **kwargs)\n",
      "/opt/miniconda3/envs/conda_env/lib/python3.7/site-packages/sklearn/utils/validation.py:63: DataConversionWarning: A column-vector y was passed when a 1d array was expected. Please change the shape of y to (n_samples, ), for example using ravel().\n",
      "  return f(*args, **kwargs)\n",
      "/opt/miniconda3/envs/conda_env/lib/python3.7/site-packages/sklearn/utils/validation.py:63: DataConversionWarning: A column-vector y was passed when a 1d array was expected. Please change the shape of y to (n_samples, ), for example using ravel().\n",
      "  return f(*args, **kwargs)\n"
     ]
    },
    {
     "name": "stdout",
     "output_type": "stream",
     "text": [
      "Tuned Logistic Regression Parameters: {'solver': 'liblinear', 'penalty': 'l1', 'C': 1438.44988828766}\n",
      "Best score is 0.6381400847589023\n"
     ]
    }
   ],
   "source": [
    "# tune hyperparameters using randomized search cross validation\n",
    "\n",
    "param_dist_lg = {'penalty' : ['l1', 'l2'],\n",
    "                 'C' : np.logspace(-4, 4, 20),\n",
    "                 'solver' : ['liblinear']}\n",
    "\n",
    "lg = LogisticRegression(random_state=42)\n",
    "lg_cv = RandomizedSearchCV(lg, param_dist_lg, cv=5)\n",
    "lg_cv.fit(X_train_ot, y_train_ot)\n",
    "\n",
    "print(\"Tuned Logistic Regression Parameters: {}\".format(lg_cv.best_params_))\n",
    "print(\"Best score is {}\".format(lg_cv.best_score_))"
   ]
  },
  {
   "cell_type": "code",
   "execution_count": 23,
   "id": "behavioral-madrid",
   "metadata": {},
   "outputs": [
    {
     "name": "stdout",
     "output_type": "stream",
     "text": [
      "[[505 364]\n",
      " [444 887]]\n",
      "              precision    recall  f1-score   support\n",
      "\n",
      "           0       0.53      0.58      0.56       869\n",
      "           1       0.71      0.67      0.69      1331\n",
      "\n",
      "    accuracy                           0.63      2200\n",
      "   macro avg       0.62      0.62      0.62      2200\n",
      "weighted avg       0.64      0.63      0.64      2200\n",
      "\n"
     ]
    }
   ],
   "source": [
    "best_lg = lg_cv.best_estimator_\n",
    "\n",
    "y_pred = best_lg.predict(X_test_ot)\n",
    "print(confusion_matrix(y_test_ot, y_pred))\n",
    "print(classification_report(y_test_ot, y_pred))"
   ]
  },
  {
   "cell_type": "code",
   "execution_count": 24,
   "id": "chief-budget",
   "metadata": {},
   "outputs": [
    {
     "name": "stderr",
     "output_type": "stream",
     "text": [
      "/opt/miniconda3/envs/conda_env/lib/python3.7/site-packages/sklearn/utils/validation.py:63: DataConversionWarning: A column-vector y was passed when a 1d array was expected. Please change the shape of y to (n_samples, ), for example using ravel().\n",
      "  return f(*args, **kwargs)\n",
      "/opt/miniconda3/envs/conda_env/lib/python3.7/site-packages/sklearn/utils/validation.py:63: DataConversionWarning: A column-vector y was passed when a 1d array was expected. Please change the shape of y to (n_samples, ), for example using ravel().\n",
      "  return f(*args, **kwargs)\n",
      "/opt/miniconda3/envs/conda_env/lib/python3.7/site-packages/sklearn/utils/validation.py:63: DataConversionWarning: A column-vector y was passed when a 1d array was expected. Please change the shape of y to (n_samples, ), for example using ravel().\n",
      "  return f(*args, **kwargs)\n",
      "/opt/miniconda3/envs/conda_env/lib/python3.7/site-packages/sklearn/utils/validation.py:63: DataConversionWarning: A column-vector y was passed when a 1d array was expected. Please change the shape of y to (n_samples, ), for example using ravel().\n",
      "  return f(*args, **kwargs)\n",
      "/opt/miniconda3/envs/conda_env/lib/python3.7/site-packages/sklearn/utils/validation.py:63: DataConversionWarning: A column-vector y was passed when a 1d array was expected. Please change the shape of y to (n_samples, ), for example using ravel().\n",
      "  return f(*args, **kwargs)\n",
      "/opt/miniconda3/envs/conda_env/lib/python3.7/site-packages/sklearn/utils/validation.py:63: DataConversionWarning: A column-vector y was passed when a 1d array was expected. Please change the shape of y to (n_samples, ), for example using ravel().\n",
      "  return f(*args, **kwargs)\n",
      "/opt/miniconda3/envs/conda_env/lib/python3.7/site-packages/sklearn/utils/validation.py:63: DataConversionWarning: A column-vector y was passed when a 1d array was expected. Please change the shape of y to (n_samples, ), for example using ravel().\n",
      "  return f(*args, **kwargs)\n",
      "/opt/miniconda3/envs/conda_env/lib/python3.7/site-packages/sklearn/utils/validation.py:63: DataConversionWarning: A column-vector y was passed when a 1d array was expected. Please change the shape of y to (n_samples, ), for example using ravel().\n",
      "  return f(*args, **kwargs)\n",
      "/opt/miniconda3/envs/conda_env/lib/python3.7/site-packages/sklearn/utils/validation.py:63: DataConversionWarning: A column-vector y was passed when a 1d array was expected. Please change the shape of y to (n_samples, ), for example using ravel().\n",
      "  return f(*args, **kwargs)\n",
      "/opt/miniconda3/envs/conda_env/lib/python3.7/site-packages/sklearn/utils/validation.py:63: DataConversionWarning: A column-vector y was passed when a 1d array was expected. Please change the shape of y to (n_samples, ), for example using ravel().\n",
      "  return f(*args, **kwargs)\n",
      "/opt/miniconda3/envs/conda_env/lib/python3.7/site-packages/sklearn/utils/validation.py:63: DataConversionWarning: A column-vector y was passed when a 1d array was expected. Please change the shape of y to (n_samples, ), for example using ravel().\n",
      "  return f(*args, **kwargs)\n",
      "/opt/miniconda3/envs/conda_env/lib/python3.7/site-packages/sklearn/utils/validation.py:63: DataConversionWarning: A column-vector y was passed when a 1d array was expected. Please change the shape of y to (n_samples, ), for example using ravel().\n",
      "  return f(*args, **kwargs)\n",
      "/opt/miniconda3/envs/conda_env/lib/python3.7/site-packages/sklearn/utils/validation.py:63: DataConversionWarning: A column-vector y was passed when a 1d array was expected. Please change the shape of y to (n_samples, ), for example using ravel().\n",
      "  return f(*args, **kwargs)\n",
      "/opt/miniconda3/envs/conda_env/lib/python3.7/site-packages/sklearn/utils/validation.py:63: DataConversionWarning: A column-vector y was passed when a 1d array was expected. Please change the shape of y to (n_samples, ), for example using ravel().\n",
      "  return f(*args, **kwargs)\n",
      "/opt/miniconda3/envs/conda_env/lib/python3.7/site-packages/sklearn/utils/validation.py:63: DataConversionWarning: A column-vector y was passed when a 1d array was expected. Please change the shape of y to (n_samples, ), for example using ravel().\n",
      "  return f(*args, **kwargs)\n",
      "/opt/miniconda3/envs/conda_env/lib/python3.7/site-packages/sklearn/utils/validation.py:63: DataConversionWarning: A column-vector y was passed when a 1d array was expected. Please change the shape of y to (n_samples, ), for example using ravel().\n",
      "  return f(*args, **kwargs)\n",
      "/opt/miniconda3/envs/conda_env/lib/python3.7/site-packages/sklearn/utils/validation.py:63: DataConversionWarning: A column-vector y was passed when a 1d array was expected. Please change the shape of y to (n_samples, ), for example using ravel().\n",
      "  return f(*args, **kwargs)\n",
      "/opt/miniconda3/envs/conda_env/lib/python3.7/site-packages/sklearn/utils/validation.py:63: DataConversionWarning: A column-vector y was passed when a 1d array was expected. Please change the shape of y to (n_samples, ), for example using ravel().\n",
      "  return f(*args, **kwargs)\n",
      "/opt/miniconda3/envs/conda_env/lib/python3.7/site-packages/sklearn/utils/validation.py:63: DataConversionWarning: A column-vector y was passed when a 1d array was expected. Please change the shape of y to (n_samples, ), for example using ravel().\n",
      "  return f(*args, **kwargs)\n",
      "/opt/miniconda3/envs/conda_env/lib/python3.7/site-packages/sklearn/utils/validation.py:63: DataConversionWarning: A column-vector y was passed when a 1d array was expected. Please change the shape of y to (n_samples, ), for example using ravel().\n",
      "  return f(*args, **kwargs)\n",
      "/opt/miniconda3/envs/conda_env/lib/python3.7/site-packages/sklearn/utils/validation.py:63: DataConversionWarning: A column-vector y was passed when a 1d array was expected. Please change the shape of y to (n_samples, ), for example using ravel().\n",
      "  return f(*args, **kwargs)\n",
      "/opt/miniconda3/envs/conda_env/lib/python3.7/site-packages/sklearn/utils/validation.py:63: DataConversionWarning: A column-vector y was passed when a 1d array was expected. Please change the shape of y to (n_samples, ), for example using ravel().\n",
      "  return f(*args, **kwargs)\n",
      "/opt/miniconda3/envs/conda_env/lib/python3.7/site-packages/sklearn/utils/validation.py:63: DataConversionWarning: A column-vector y was passed when a 1d array was expected. Please change the shape of y to (n_samples, ), for example using ravel().\n",
      "  return f(*args, **kwargs)\n",
      "/opt/miniconda3/envs/conda_env/lib/python3.7/site-packages/sklearn/utils/validation.py:63: DataConversionWarning: A column-vector y was passed when a 1d array was expected. Please change the shape of y to (n_samples, ), for example using ravel().\n",
      "  return f(*args, **kwargs)\n",
      "/opt/miniconda3/envs/conda_env/lib/python3.7/site-packages/sklearn/utils/validation.py:63: DataConversionWarning: A column-vector y was passed when a 1d array was expected. Please change the shape of y to (n_samples, ), for example using ravel().\n",
      "  return f(*args, **kwargs)\n",
      "/opt/miniconda3/envs/conda_env/lib/python3.7/site-packages/sklearn/utils/validation.py:63: DataConversionWarning: A column-vector y was passed when a 1d array was expected. Please change the shape of y to (n_samples, ), for example using ravel().\n",
      "  return f(*args, **kwargs)\n",
      "/opt/miniconda3/envs/conda_env/lib/python3.7/site-packages/sklearn/utils/validation.py:63: DataConversionWarning: A column-vector y was passed when a 1d array was expected. Please change the shape of y to (n_samples, ), for example using ravel().\n",
      "  return f(*args, **kwargs)\n",
      "/opt/miniconda3/envs/conda_env/lib/python3.7/site-packages/sklearn/utils/validation.py:63: DataConversionWarning: A column-vector y was passed when a 1d array was expected. Please change the shape of y to (n_samples, ), for example using ravel().\n",
      "  return f(*args, **kwargs)\n",
      "/opt/miniconda3/envs/conda_env/lib/python3.7/site-packages/sklearn/utils/validation.py:63: DataConversionWarning: A column-vector y was passed when a 1d array was expected. Please change the shape of y to (n_samples, ), for example using ravel().\n",
      "  return f(*args, **kwargs)\n",
      "/opt/miniconda3/envs/conda_env/lib/python3.7/site-packages/sklearn/utils/validation.py:63: DataConversionWarning: A column-vector y was passed when a 1d array was expected. Please change the shape of y to (n_samples, ), for example using ravel().\n",
      "  return f(*args, **kwargs)\n",
      "/opt/miniconda3/envs/conda_env/lib/python3.7/site-packages/sklearn/utils/validation.py:63: DataConversionWarning: A column-vector y was passed when a 1d array was expected. Please change the shape of y to (n_samples, ), for example using ravel().\n",
      "  return f(*args, **kwargs)\n"
     ]
    },
    {
     "name": "stderr",
     "output_type": "stream",
     "text": [
      "/opt/miniconda3/envs/conda_env/lib/python3.7/site-packages/sklearn/utils/validation.py:63: DataConversionWarning: A column-vector y was passed when a 1d array was expected. Please change the shape of y to (n_samples, ), for example using ravel().\n",
      "  return f(*args, **kwargs)\n",
      "/opt/miniconda3/envs/conda_env/lib/python3.7/site-packages/sklearn/utils/validation.py:63: DataConversionWarning: A column-vector y was passed when a 1d array was expected. Please change the shape of y to (n_samples, ), for example using ravel().\n",
      "  return f(*args, **kwargs)\n",
      "/opt/miniconda3/envs/conda_env/lib/python3.7/site-packages/sklearn/utils/validation.py:63: DataConversionWarning: A column-vector y was passed when a 1d array was expected. Please change the shape of y to (n_samples, ), for example using ravel().\n",
      "  return f(*args, **kwargs)\n",
      "/opt/miniconda3/envs/conda_env/lib/python3.7/site-packages/sklearn/utils/validation.py:63: DataConversionWarning: A column-vector y was passed when a 1d array was expected. Please change the shape of y to (n_samples, ), for example using ravel().\n",
      "  return f(*args, **kwargs)\n",
      "/opt/miniconda3/envs/conda_env/lib/python3.7/site-packages/sklearn/utils/validation.py:63: DataConversionWarning: A column-vector y was passed when a 1d array was expected. Please change the shape of y to (n_samples, ), for example using ravel().\n",
      "  return f(*args, **kwargs)\n",
      "/opt/miniconda3/envs/conda_env/lib/python3.7/site-packages/sklearn/utils/validation.py:63: DataConversionWarning: A column-vector y was passed when a 1d array was expected. Please change the shape of y to (n_samples, ), for example using ravel().\n",
      "  return f(*args, **kwargs)\n",
      "/opt/miniconda3/envs/conda_env/lib/python3.7/site-packages/sklearn/utils/validation.py:63: DataConversionWarning: A column-vector y was passed when a 1d array was expected. Please change the shape of y to (n_samples, ), for example using ravel().\n",
      "  return f(*args, **kwargs)\n",
      "/opt/miniconda3/envs/conda_env/lib/python3.7/site-packages/sklearn/utils/validation.py:63: DataConversionWarning: A column-vector y was passed when a 1d array was expected. Please change the shape of y to (n_samples, ), for example using ravel().\n",
      "  return f(*args, **kwargs)\n",
      "/opt/miniconda3/envs/conda_env/lib/python3.7/site-packages/sklearn/utils/validation.py:63: DataConversionWarning: A column-vector y was passed when a 1d array was expected. Please change the shape of y to (n_samples, ), for example using ravel().\n",
      "  return f(*args, **kwargs)\n",
      "/opt/miniconda3/envs/conda_env/lib/python3.7/site-packages/sklearn/utils/validation.py:63: DataConversionWarning: A column-vector y was passed when a 1d array was expected. Please change the shape of y to (n_samples, ), for example using ravel().\n",
      "  return f(*args, **kwargs)\n",
      "/opt/miniconda3/envs/conda_env/lib/python3.7/site-packages/sklearn/utils/validation.py:63: DataConversionWarning: A column-vector y was passed when a 1d array was expected. Please change the shape of y to (n_samples, ), for example using ravel().\n",
      "  return f(*args, **kwargs)\n",
      "/opt/miniconda3/envs/conda_env/lib/python3.7/site-packages/sklearn/utils/validation.py:63: DataConversionWarning: A column-vector y was passed when a 1d array was expected. Please change the shape of y to (n_samples, ), for example using ravel().\n",
      "  return f(*args, **kwargs)\n",
      "/opt/miniconda3/envs/conda_env/lib/python3.7/site-packages/sklearn/utils/validation.py:63: DataConversionWarning: A column-vector y was passed when a 1d array was expected. Please change the shape of y to (n_samples, ), for example using ravel().\n",
      "  return f(*args, **kwargs)\n",
      "/opt/miniconda3/envs/conda_env/lib/python3.7/site-packages/sklearn/utils/validation.py:63: DataConversionWarning: A column-vector y was passed when a 1d array was expected. Please change the shape of y to (n_samples, ), for example using ravel().\n",
      "  return f(*args, **kwargs)\n",
      "/opt/miniconda3/envs/conda_env/lib/python3.7/site-packages/sklearn/utils/validation.py:63: DataConversionWarning: A column-vector y was passed when a 1d array was expected. Please change the shape of y to (n_samples, ), for example using ravel().\n",
      "  return f(*args, **kwargs)\n",
      "/opt/miniconda3/envs/conda_env/lib/python3.7/site-packages/sklearn/utils/validation.py:63: DataConversionWarning: A column-vector y was passed when a 1d array was expected. Please change the shape of y to (n_samples, ), for example using ravel().\n",
      "  return f(*args, **kwargs)\n",
      "/opt/miniconda3/envs/conda_env/lib/python3.7/site-packages/sklearn/utils/validation.py:63: DataConversionWarning: A column-vector y was passed when a 1d array was expected. Please change the shape of y to (n_samples, ), for example using ravel().\n",
      "  return f(*args, **kwargs)\n",
      "/opt/miniconda3/envs/conda_env/lib/python3.7/site-packages/sklearn/utils/validation.py:63: DataConversionWarning: A column-vector y was passed when a 1d array was expected. Please change the shape of y to (n_samples, ), for example using ravel().\n",
      "  return f(*args, **kwargs)\n",
      "/opt/miniconda3/envs/conda_env/lib/python3.7/site-packages/sklearn/utils/validation.py:63: DataConversionWarning: A column-vector y was passed when a 1d array was expected. Please change the shape of y to (n_samples, ), for example using ravel().\n",
      "  return f(*args, **kwargs)\n"
     ]
    },
    {
     "name": "stdout",
     "output_type": "stream",
     "text": [
      "Tuned Logistic Regression Parameters: {'solver': 'liblinear', 'penalty': 'l2', 'C': 0.0006951927961775605}\n",
      "Best score is 0.6550749392733476\n"
     ]
    },
    {
     "name": "stderr",
     "output_type": "stream",
     "text": [
      "/opt/miniconda3/envs/conda_env/lib/python3.7/site-packages/sklearn/utils/validation.py:63: DataConversionWarning: A column-vector y was passed when a 1d array was expected. Please change the shape of y to (n_samples, ), for example using ravel().\n",
      "  return f(*args, **kwargs)\n"
     ]
    }
   ],
   "source": [
    "# tune logistic regression hyperparameters for scaled data set\n",
    "lg = LogisticRegression(random_state=42)\n",
    "lg_cv_scaled = RandomizedSearchCV(lg, param_dist_lg, cv=5)\n",
    "lg_cv_scaled.fit(X_train_ot_scaled, y_train_ot)\n",
    "\n",
    "print(\"Tuned Logistic Regression Parameters: {}\".format(lg_cv_scaled.best_params_))\n",
    "print(\"Best score is {}\".format(lg_cv_scaled.best_score_))"
   ]
  },
  {
   "cell_type": "code",
   "execution_count": 25,
   "id": "cognitive-sheet",
   "metadata": {},
   "outputs": [
    {
     "name": "stdout",
     "output_type": "stream",
     "text": [
      "[[545 324]\n",
      " [463 868]]\n",
      "              precision    recall  f1-score   support\n",
      "\n",
      "           0       0.54      0.63      0.58       869\n",
      "           1       0.73      0.65      0.69      1331\n",
      "\n",
      "    accuracy                           0.64      2200\n",
      "   macro avg       0.63      0.64      0.63      2200\n",
      "weighted avg       0.65      0.64      0.65      2200\n",
      "\n"
     ]
    }
   ],
   "source": [
    "best_lg_scaled = lg_cv_scaled.best_estimator_\n",
    "\n",
    "y_pred = best_lg_scaled.predict(X_test_ot_scaled)\n",
    "print(confusion_matrix(y_test_ot, y_pred))\n",
    "print(classification_report(y_test_ot, y_pred))"
   ]
  },
  {
   "cell_type": "markdown",
   "id": "promotional-universe",
   "metadata": {},
   "source": [
    "The logistic model with scaled data had better accuracy but lower precision."
   ]
  },
  {
   "cell_type": "code",
   "execution_count": 26,
   "id": "sustainable-european",
   "metadata": {},
   "outputs": [
    {
     "name": "stderr",
     "output_type": "stream",
     "text": [
      "/opt/miniconda3/envs/conda_env/lib/python3.7/site-packages/sklearn/neighbors/_classification.py:179: DataConversionWarning: A column-vector y was passed when a 1d array was expected. Please change the shape of y to (n_samples,), for example using ravel().\n",
      "  return self._fit(X, y)\n",
      "/opt/miniconda3/envs/conda_env/lib/python3.7/site-packages/sklearn/neighbors/_classification.py:179: DataConversionWarning: A column-vector y was passed when a 1d array was expected. Please change the shape of y to (n_samples,), for example using ravel().\n",
      "  return self._fit(X, y)\n",
      "/opt/miniconda3/envs/conda_env/lib/python3.7/site-packages/sklearn/neighbors/_classification.py:179: DataConversionWarning: A column-vector y was passed when a 1d array was expected. Please change the shape of y to (n_samples,), for example using ravel().\n",
      "  return self._fit(X, y)\n",
      "/opt/miniconda3/envs/conda_env/lib/python3.7/site-packages/sklearn/neighbors/_classification.py:179: DataConversionWarning: A column-vector y was passed when a 1d array was expected. Please change the shape of y to (n_samples,), for example using ravel().\n",
      "  return self._fit(X, y)\n",
      "/opt/miniconda3/envs/conda_env/lib/python3.7/site-packages/sklearn/neighbors/_classification.py:179: DataConversionWarning: A column-vector y was passed when a 1d array was expected. Please change the shape of y to (n_samples,), for example using ravel().\n",
      "  return self._fit(X, y)\n",
      "/opt/miniconda3/envs/conda_env/lib/python3.7/site-packages/sklearn/neighbors/_classification.py:179: DataConversionWarning: A column-vector y was passed when a 1d array was expected. Please change the shape of y to (n_samples,), for example using ravel().\n",
      "  return self._fit(X, y)\n",
      "/opt/miniconda3/envs/conda_env/lib/python3.7/site-packages/sklearn/neighbors/_classification.py:179: DataConversionWarning: A column-vector y was passed when a 1d array was expected. Please change the shape of y to (n_samples,), for example using ravel().\n",
      "  return self._fit(X, y)\n",
      "/opt/miniconda3/envs/conda_env/lib/python3.7/site-packages/sklearn/neighbors/_classification.py:179: DataConversionWarning: A column-vector y was passed when a 1d array was expected. Please change the shape of y to (n_samples,), for example using ravel().\n",
      "  return self._fit(X, y)\n",
      "/opt/miniconda3/envs/conda_env/lib/python3.7/site-packages/sklearn/neighbors/_classification.py:179: DataConversionWarning: A column-vector y was passed when a 1d array was expected. Please change the shape of y to (n_samples,), for example using ravel().\n",
      "  return self._fit(X, y)\n",
      "/opt/miniconda3/envs/conda_env/lib/python3.7/site-packages/sklearn/neighbors/_classification.py:179: DataConversionWarning: A column-vector y was passed when a 1d array was expected. Please change the shape of y to (n_samples,), for example using ravel().\n",
      "  return self._fit(X, y)\n",
      "/opt/miniconda3/envs/conda_env/lib/python3.7/site-packages/sklearn/neighbors/_classification.py:179: DataConversionWarning: A column-vector y was passed when a 1d array was expected. Please change the shape of y to (n_samples,), for example using ravel().\n",
      "  return self._fit(X, y)\n",
      "/opt/miniconda3/envs/conda_env/lib/python3.7/site-packages/sklearn/neighbors/_classification.py:179: DataConversionWarning: A column-vector y was passed when a 1d array was expected. Please change the shape of y to (n_samples,), for example using ravel().\n",
      "  return self._fit(X, y)\n",
      "/opt/miniconda3/envs/conda_env/lib/python3.7/site-packages/sklearn/neighbors/_classification.py:179: DataConversionWarning: A column-vector y was passed when a 1d array was expected. Please change the shape of y to (n_samples,), for example using ravel().\n",
      "  return self._fit(X, y)\n",
      "/opt/miniconda3/envs/conda_env/lib/python3.7/site-packages/sklearn/neighbors/_classification.py:179: DataConversionWarning: A column-vector y was passed when a 1d array was expected. Please change the shape of y to (n_samples,), for example using ravel().\n",
      "  return self._fit(X, y)\n",
      "/opt/miniconda3/envs/conda_env/lib/python3.7/site-packages/sklearn/neighbors/_classification.py:179: DataConversionWarning: A column-vector y was passed when a 1d array was expected. Please change the shape of y to (n_samples,), for example using ravel().\n",
      "  return self._fit(X, y)\n",
      "/opt/miniconda3/envs/conda_env/lib/python3.7/site-packages/sklearn/neighbors/_classification.py:179: DataConversionWarning: A column-vector y was passed when a 1d array was expected. Please change the shape of y to (n_samples,), for example using ravel().\n",
      "  return self._fit(X, y)\n",
      "/opt/miniconda3/envs/conda_env/lib/python3.7/site-packages/sklearn/neighbors/_classification.py:179: DataConversionWarning: A column-vector y was passed when a 1d array was expected. Please change the shape of y to (n_samples,), for example using ravel().\n",
      "  return self._fit(X, y)\n",
      "/opt/miniconda3/envs/conda_env/lib/python3.7/site-packages/sklearn/neighbors/_classification.py:179: DataConversionWarning: A column-vector y was passed when a 1d array was expected. Please change the shape of y to (n_samples,), for example using ravel().\n",
      "  return self._fit(X, y)\n",
      "/opt/miniconda3/envs/conda_env/lib/python3.7/site-packages/sklearn/neighbors/_classification.py:179: DataConversionWarning: A column-vector y was passed when a 1d array was expected. Please change the shape of y to (n_samples,), for example using ravel().\n",
      "  return self._fit(X, y)\n",
      "/opt/miniconda3/envs/conda_env/lib/python3.7/site-packages/sklearn/neighbors/_classification.py:179: DataConversionWarning: A column-vector y was passed when a 1d array was expected. Please change the shape of y to (n_samples,), for example using ravel().\n",
      "  return self._fit(X, y)\n",
      "/opt/miniconda3/envs/conda_env/lib/python3.7/site-packages/sklearn/neighbors/_classification.py:179: DataConversionWarning: A column-vector y was passed when a 1d array was expected. Please change the shape of y to (n_samples,), for example using ravel().\n",
      "  return self._fit(X, y)\n",
      "/opt/miniconda3/envs/conda_env/lib/python3.7/site-packages/sklearn/neighbors/_classification.py:179: DataConversionWarning: A column-vector y was passed when a 1d array was expected. Please change the shape of y to (n_samples,), for example using ravel().\n",
      "  return self._fit(X, y)\n",
      "/opt/miniconda3/envs/conda_env/lib/python3.7/site-packages/sklearn/neighbors/_classification.py:179: DataConversionWarning: A column-vector y was passed when a 1d array was expected. Please change the shape of y to (n_samples,), for example using ravel().\n",
      "  return self._fit(X, y)\n",
      "/opt/miniconda3/envs/conda_env/lib/python3.7/site-packages/sklearn/neighbors/_classification.py:179: DataConversionWarning: A column-vector y was passed when a 1d array was expected. Please change the shape of y to (n_samples,), for example using ravel().\n",
      "  return self._fit(X, y)\n",
      "/opt/miniconda3/envs/conda_env/lib/python3.7/site-packages/sklearn/neighbors/_classification.py:179: DataConversionWarning: A column-vector y was passed when a 1d array was expected. Please change the shape of y to (n_samples,), for example using ravel().\n",
      "  return self._fit(X, y)\n",
      "/opt/miniconda3/envs/conda_env/lib/python3.7/site-packages/sklearn/neighbors/_classification.py:179: DataConversionWarning: A column-vector y was passed when a 1d array was expected. Please change the shape of y to (n_samples,), for example using ravel().\n",
      "  return self._fit(X, y)\n",
      "/opt/miniconda3/envs/conda_env/lib/python3.7/site-packages/sklearn/neighbors/_classification.py:179: DataConversionWarning: A column-vector y was passed when a 1d array was expected. Please change the shape of y to (n_samples,), for example using ravel().\n",
      "  return self._fit(X, y)\n",
      "/opt/miniconda3/envs/conda_env/lib/python3.7/site-packages/sklearn/neighbors/_classification.py:179: DataConversionWarning: A column-vector y was passed when a 1d array was expected. Please change the shape of y to (n_samples,), for example using ravel().\n",
      "  return self._fit(X, y)\n",
      "/opt/miniconda3/envs/conda_env/lib/python3.7/site-packages/sklearn/neighbors/_classification.py:179: DataConversionWarning: A column-vector y was passed when a 1d array was expected. Please change the shape of y to (n_samples,), for example using ravel().\n",
      "  return self._fit(X, y)\n",
      "/opt/miniconda3/envs/conda_env/lib/python3.7/site-packages/sklearn/neighbors/_classification.py:179: DataConversionWarning: A column-vector y was passed when a 1d array was expected. Please change the shape of y to (n_samples,), for example using ravel().\n",
      "  return self._fit(X, y)\n"
     ]
    },
    {
     "name": "stderr",
     "output_type": "stream",
     "text": [
      "/opt/miniconda3/envs/conda_env/lib/python3.7/site-packages/sklearn/neighbors/_classification.py:179: DataConversionWarning: A column-vector y was passed when a 1d array was expected. Please change the shape of y to (n_samples,), for example using ravel().\n",
      "  return self._fit(X, y)\n",
      "/opt/miniconda3/envs/conda_env/lib/python3.7/site-packages/sklearn/neighbors/_classification.py:179: DataConversionWarning: A column-vector y was passed when a 1d array was expected. Please change the shape of y to (n_samples,), for example using ravel().\n",
      "  return self._fit(X, y)\n",
      "/opt/miniconda3/envs/conda_env/lib/python3.7/site-packages/sklearn/neighbors/_classification.py:179: DataConversionWarning: A column-vector y was passed when a 1d array was expected. Please change the shape of y to (n_samples,), for example using ravel().\n",
      "  return self._fit(X, y)\n",
      "/opt/miniconda3/envs/conda_env/lib/python3.7/site-packages/sklearn/neighbors/_classification.py:179: DataConversionWarning: A column-vector y was passed when a 1d array was expected. Please change the shape of y to (n_samples,), for example using ravel().\n",
      "  return self._fit(X, y)\n",
      "/opt/miniconda3/envs/conda_env/lib/python3.7/site-packages/sklearn/neighbors/_classification.py:179: DataConversionWarning: A column-vector y was passed when a 1d array was expected. Please change the shape of y to (n_samples,), for example using ravel().\n",
      "  return self._fit(X, y)\n",
      "/opt/miniconda3/envs/conda_env/lib/python3.7/site-packages/sklearn/neighbors/_classification.py:179: DataConversionWarning: A column-vector y was passed when a 1d array was expected. Please change the shape of y to (n_samples,), for example using ravel().\n",
      "  return self._fit(X, y)\n",
      "/opt/miniconda3/envs/conda_env/lib/python3.7/site-packages/sklearn/neighbors/_classification.py:179: DataConversionWarning: A column-vector y was passed when a 1d array was expected. Please change the shape of y to (n_samples,), for example using ravel().\n",
      "  return self._fit(X, y)\n",
      "/opt/miniconda3/envs/conda_env/lib/python3.7/site-packages/sklearn/neighbors/_classification.py:179: DataConversionWarning: A column-vector y was passed when a 1d array was expected. Please change the shape of y to (n_samples,), for example using ravel().\n",
      "  return self._fit(X, y)\n",
      "/opt/miniconda3/envs/conda_env/lib/python3.7/site-packages/sklearn/neighbors/_classification.py:179: DataConversionWarning: A column-vector y was passed when a 1d array was expected. Please change the shape of y to (n_samples,), for example using ravel().\n",
      "  return self._fit(X, y)\n",
      "/opt/miniconda3/envs/conda_env/lib/python3.7/site-packages/sklearn/neighbors/_classification.py:179: DataConversionWarning: A column-vector y was passed when a 1d array was expected. Please change the shape of y to (n_samples,), for example using ravel().\n",
      "  return self._fit(X, y)\n",
      "/opt/miniconda3/envs/conda_env/lib/python3.7/site-packages/sklearn/neighbors/_classification.py:179: DataConversionWarning: A column-vector y was passed when a 1d array was expected. Please change the shape of y to (n_samples,), for example using ravel().\n",
      "  return self._fit(X, y)\n",
      "/opt/miniconda3/envs/conda_env/lib/python3.7/site-packages/sklearn/neighbors/_classification.py:179: DataConversionWarning: A column-vector y was passed when a 1d array was expected. Please change the shape of y to (n_samples,), for example using ravel().\n",
      "  return self._fit(X, y)\n",
      "/opt/miniconda3/envs/conda_env/lib/python3.7/site-packages/sklearn/neighbors/_classification.py:179: DataConversionWarning: A column-vector y was passed when a 1d array was expected. Please change the shape of y to (n_samples,), for example using ravel().\n",
      "  return self._fit(X, y)\n",
      "/opt/miniconda3/envs/conda_env/lib/python3.7/site-packages/sklearn/neighbors/_classification.py:179: DataConversionWarning: A column-vector y was passed when a 1d array was expected. Please change the shape of y to (n_samples,), for example using ravel().\n",
      "  return self._fit(X, y)\n",
      "/opt/miniconda3/envs/conda_env/lib/python3.7/site-packages/sklearn/neighbors/_classification.py:179: DataConversionWarning: A column-vector y was passed when a 1d array was expected. Please change the shape of y to (n_samples,), for example using ravel().\n",
      "  return self._fit(X, y)\n",
      "/opt/miniconda3/envs/conda_env/lib/python3.7/site-packages/sklearn/neighbors/_classification.py:179: DataConversionWarning: A column-vector y was passed when a 1d array was expected. Please change the shape of y to (n_samples,), for example using ravel().\n",
      "  return self._fit(X, y)\n",
      "/opt/miniconda3/envs/conda_env/lib/python3.7/site-packages/sklearn/neighbors/_classification.py:179: DataConversionWarning: A column-vector y was passed when a 1d array was expected. Please change the shape of y to (n_samples,), for example using ravel().\n",
      "  return self._fit(X, y)\n",
      "/opt/miniconda3/envs/conda_env/lib/python3.7/site-packages/sklearn/neighbors/_classification.py:179: DataConversionWarning: A column-vector y was passed when a 1d array was expected. Please change the shape of y to (n_samples,), for example using ravel().\n",
      "  return self._fit(X, y)\n",
      "/opt/miniconda3/envs/conda_env/lib/python3.7/site-packages/sklearn/neighbors/_classification.py:179: DataConversionWarning: A column-vector y was passed when a 1d array was expected. Please change the shape of y to (n_samples,), for example using ravel().\n",
      "  return self._fit(X, y)\n",
      "/opt/miniconda3/envs/conda_env/lib/python3.7/site-packages/sklearn/neighbors/_classification.py:179: DataConversionWarning: A column-vector y was passed when a 1d array was expected. Please change the shape of y to (n_samples,), for example using ravel().\n",
      "  return self._fit(X, y)\n"
     ]
    },
    {
     "name": "stdout",
     "output_type": "stream",
     "text": [
      "Tuned KNN Parameters: {'p': 1, 'n_neighbors': 28, 'leaf_size': 1}\n",
      "Best score is 0.668826489741072\n"
     ]
    },
    {
     "name": "stderr",
     "output_type": "stream",
     "text": [
      "/opt/miniconda3/envs/conda_env/lib/python3.7/site-packages/sklearn/neighbors/_classification.py:179: DataConversionWarning: A column-vector y was passed when a 1d array was expected. Please change the shape of y to (n_samples,), for example using ravel().\n",
      "  return self._fit(X, y)\n"
     ]
    }
   ],
   "source": [
    "# KNN hyperparameter tuning\n",
    "param_dist_knn = {'leaf_size' : list(range(1,50)),\n",
    "                  'n_neighbors' : list(range(1,30)),\n",
    "                  'p' : [1,2]}\n",
    "\n",
    "knn = KNeighborsClassifier()\n",
    "knn_cv = RandomizedSearchCV(knn, param_dist_knn, cv=5)\n",
    "knn_cv.fit(X_train_ot, y_train_ot)\n",
    "\n",
    "print(\"Tuned KNN Parameters: {}\".format(knn_cv.best_params_))\n",
    "print(\"Best score is {}\".format(knn_cv.best_score_))"
   ]
  },
  {
   "cell_type": "code",
   "execution_count": 27,
   "id": "objective-reflection",
   "metadata": {},
   "outputs": [
    {
     "name": "stdout",
     "output_type": "stream",
     "text": [
      "[[702 167]\n",
      " [560 771]]\n",
      "              precision    recall  f1-score   support\n",
      "\n",
      "           0       0.56      0.81      0.66       869\n",
      "           1       0.82      0.58      0.68      1331\n",
      "\n",
      "    accuracy                           0.67      2200\n",
      "   macro avg       0.69      0.69      0.67      2200\n",
      "weighted avg       0.72      0.67      0.67      2200\n",
      "\n"
     ]
    }
   ],
   "source": [
    "best_knn = knn_cv.best_estimator_\n",
    "\n",
    "y_pred = best_knn.predict(X_test_ot)\n",
    "print(confusion_matrix(y_test_ot, y_pred))\n",
    "print(classification_report(y_test_ot, y_pred))"
   ]
  },
  {
   "cell_type": "markdown",
   "id": "ignored-saturn",
   "metadata": {},
   "source": [
    "Accuracy improved but precision for on time went down."
   ]
  },
  {
   "cell_type": "code",
   "execution_count": 28,
   "id": "eastern-integral",
   "metadata": {},
   "outputs": [
    {
     "name": "stderr",
     "output_type": "stream",
     "text": [
      "/opt/miniconda3/envs/conda_env/lib/python3.7/site-packages/sklearn/neighbors/_classification.py:179: DataConversionWarning: A column-vector y was passed when a 1d array was expected. Please change the shape of y to (n_samples,), for example using ravel().\n",
      "  return self._fit(X, y)\n",
      "/opt/miniconda3/envs/conda_env/lib/python3.7/site-packages/sklearn/neighbors/_classification.py:179: DataConversionWarning: A column-vector y was passed when a 1d array was expected. Please change the shape of y to (n_samples,), for example using ravel().\n",
      "  return self._fit(X, y)\n",
      "/opt/miniconda3/envs/conda_env/lib/python3.7/site-packages/sklearn/neighbors/_classification.py:179: DataConversionWarning: A column-vector y was passed when a 1d array was expected. Please change the shape of y to (n_samples,), for example using ravel().\n",
      "  return self._fit(X, y)\n",
      "/opt/miniconda3/envs/conda_env/lib/python3.7/site-packages/sklearn/neighbors/_classification.py:179: DataConversionWarning: A column-vector y was passed when a 1d array was expected. Please change the shape of y to (n_samples,), for example using ravel().\n",
      "  return self._fit(X, y)\n",
      "/opt/miniconda3/envs/conda_env/lib/python3.7/site-packages/sklearn/neighbors/_classification.py:179: DataConversionWarning: A column-vector y was passed when a 1d array was expected. Please change the shape of y to (n_samples,), for example using ravel().\n",
      "  return self._fit(X, y)\n",
      "/opt/miniconda3/envs/conda_env/lib/python3.7/site-packages/sklearn/neighbors/_classification.py:179: DataConversionWarning: A column-vector y was passed when a 1d array was expected. Please change the shape of y to (n_samples,), for example using ravel().\n",
      "  return self._fit(X, y)\n",
      "/opt/miniconda3/envs/conda_env/lib/python3.7/site-packages/sklearn/neighbors/_classification.py:179: DataConversionWarning: A column-vector y was passed when a 1d array was expected. Please change the shape of y to (n_samples,), for example using ravel().\n",
      "  return self._fit(X, y)\n",
      "/opt/miniconda3/envs/conda_env/lib/python3.7/site-packages/sklearn/neighbors/_classification.py:179: DataConversionWarning: A column-vector y was passed when a 1d array was expected. Please change the shape of y to (n_samples,), for example using ravel().\n",
      "  return self._fit(X, y)\n",
      "/opt/miniconda3/envs/conda_env/lib/python3.7/site-packages/sklearn/neighbors/_classification.py:179: DataConversionWarning: A column-vector y was passed when a 1d array was expected. Please change the shape of y to (n_samples,), for example using ravel().\n",
      "  return self._fit(X, y)\n",
      "/opt/miniconda3/envs/conda_env/lib/python3.7/site-packages/sklearn/neighbors/_classification.py:179: DataConversionWarning: A column-vector y was passed when a 1d array was expected. Please change the shape of y to (n_samples,), for example using ravel().\n",
      "  return self._fit(X, y)\n",
      "/opt/miniconda3/envs/conda_env/lib/python3.7/site-packages/sklearn/neighbors/_classification.py:179: DataConversionWarning: A column-vector y was passed when a 1d array was expected. Please change the shape of y to (n_samples,), for example using ravel().\n",
      "  return self._fit(X, y)\n",
      "/opt/miniconda3/envs/conda_env/lib/python3.7/site-packages/sklearn/neighbors/_classification.py:179: DataConversionWarning: A column-vector y was passed when a 1d array was expected. Please change the shape of y to (n_samples,), for example using ravel().\n",
      "  return self._fit(X, y)\n",
      "/opt/miniconda3/envs/conda_env/lib/python3.7/site-packages/sklearn/neighbors/_classification.py:179: DataConversionWarning: A column-vector y was passed when a 1d array was expected. Please change the shape of y to (n_samples,), for example using ravel().\n",
      "  return self._fit(X, y)\n",
      "/opt/miniconda3/envs/conda_env/lib/python3.7/site-packages/sklearn/neighbors/_classification.py:179: DataConversionWarning: A column-vector y was passed when a 1d array was expected. Please change the shape of y to (n_samples,), for example using ravel().\n",
      "  return self._fit(X, y)\n",
      "/opt/miniconda3/envs/conda_env/lib/python3.7/site-packages/sklearn/neighbors/_classification.py:179: DataConversionWarning: A column-vector y was passed when a 1d array was expected. Please change the shape of y to (n_samples,), for example using ravel().\n",
      "  return self._fit(X, y)\n",
      "/opt/miniconda3/envs/conda_env/lib/python3.7/site-packages/sklearn/neighbors/_classification.py:179: DataConversionWarning: A column-vector y was passed when a 1d array was expected. Please change the shape of y to (n_samples,), for example using ravel().\n",
      "  return self._fit(X, y)\n",
      "/opt/miniconda3/envs/conda_env/lib/python3.7/site-packages/sklearn/neighbors/_classification.py:179: DataConversionWarning: A column-vector y was passed when a 1d array was expected. Please change the shape of y to (n_samples,), for example using ravel().\n",
      "  return self._fit(X, y)\n",
      "/opt/miniconda3/envs/conda_env/lib/python3.7/site-packages/sklearn/neighbors/_classification.py:179: DataConversionWarning: A column-vector y was passed when a 1d array was expected. Please change the shape of y to (n_samples,), for example using ravel().\n",
      "  return self._fit(X, y)\n",
      "/opt/miniconda3/envs/conda_env/lib/python3.7/site-packages/sklearn/neighbors/_classification.py:179: DataConversionWarning: A column-vector y was passed when a 1d array was expected. Please change the shape of y to (n_samples,), for example using ravel().\n",
      "  return self._fit(X, y)\n",
      "/opt/miniconda3/envs/conda_env/lib/python3.7/site-packages/sklearn/neighbors/_classification.py:179: DataConversionWarning: A column-vector y was passed when a 1d array was expected. Please change the shape of y to (n_samples,), for example using ravel().\n",
      "  return self._fit(X, y)\n",
      "/opt/miniconda3/envs/conda_env/lib/python3.7/site-packages/sklearn/neighbors/_classification.py:179: DataConversionWarning: A column-vector y was passed when a 1d array was expected. Please change the shape of y to (n_samples,), for example using ravel().\n",
      "  return self._fit(X, y)\n",
      "/opt/miniconda3/envs/conda_env/lib/python3.7/site-packages/sklearn/neighbors/_classification.py:179: DataConversionWarning: A column-vector y was passed when a 1d array was expected. Please change the shape of y to (n_samples,), for example using ravel().\n",
      "  return self._fit(X, y)\n",
      "/opt/miniconda3/envs/conda_env/lib/python3.7/site-packages/sklearn/neighbors/_classification.py:179: DataConversionWarning: A column-vector y was passed when a 1d array was expected. Please change the shape of y to (n_samples,), for example using ravel().\n",
      "  return self._fit(X, y)\n",
      "/opt/miniconda3/envs/conda_env/lib/python3.7/site-packages/sklearn/neighbors/_classification.py:179: DataConversionWarning: A column-vector y was passed when a 1d array was expected. Please change the shape of y to (n_samples,), for example using ravel().\n",
      "  return self._fit(X, y)\n",
      "/opt/miniconda3/envs/conda_env/lib/python3.7/site-packages/sklearn/neighbors/_classification.py:179: DataConversionWarning: A column-vector y was passed when a 1d array was expected. Please change the shape of y to (n_samples,), for example using ravel().\n",
      "  return self._fit(X, y)\n",
      "/opt/miniconda3/envs/conda_env/lib/python3.7/site-packages/sklearn/neighbors/_classification.py:179: DataConversionWarning: A column-vector y was passed when a 1d array was expected. Please change the shape of y to (n_samples,), for example using ravel().\n",
      "  return self._fit(X, y)\n",
      "/opt/miniconda3/envs/conda_env/lib/python3.7/site-packages/sklearn/neighbors/_classification.py:179: DataConversionWarning: A column-vector y was passed when a 1d array was expected. Please change the shape of y to (n_samples,), for example using ravel().\n",
      "  return self._fit(X, y)\n",
      "/opt/miniconda3/envs/conda_env/lib/python3.7/site-packages/sklearn/neighbors/_classification.py:179: DataConversionWarning: A column-vector y was passed when a 1d array was expected. Please change the shape of y to (n_samples,), for example using ravel().\n",
      "  return self._fit(X, y)\n",
      "/opt/miniconda3/envs/conda_env/lib/python3.7/site-packages/sklearn/neighbors/_classification.py:179: DataConversionWarning: A column-vector y was passed when a 1d array was expected. Please change the shape of y to (n_samples,), for example using ravel().\n",
      "  return self._fit(X, y)\n",
      "/opt/miniconda3/envs/conda_env/lib/python3.7/site-packages/sklearn/neighbors/_classification.py:179: DataConversionWarning: A column-vector y was passed when a 1d array was expected. Please change the shape of y to (n_samples,), for example using ravel().\n",
      "  return self._fit(X, y)\n"
     ]
    },
    {
     "name": "stderr",
     "output_type": "stream",
     "text": [
      "/opt/miniconda3/envs/conda_env/lib/python3.7/site-packages/sklearn/neighbors/_classification.py:179: DataConversionWarning: A column-vector y was passed when a 1d array was expected. Please change the shape of y to (n_samples,), for example using ravel().\n",
      "  return self._fit(X, y)\n",
      "/opt/miniconda3/envs/conda_env/lib/python3.7/site-packages/sklearn/neighbors/_classification.py:179: DataConversionWarning: A column-vector y was passed when a 1d array was expected. Please change the shape of y to (n_samples,), for example using ravel().\n",
      "  return self._fit(X, y)\n",
      "/opt/miniconda3/envs/conda_env/lib/python3.7/site-packages/sklearn/neighbors/_classification.py:179: DataConversionWarning: A column-vector y was passed when a 1d array was expected. Please change the shape of y to (n_samples,), for example using ravel().\n",
      "  return self._fit(X, y)\n",
      "/opt/miniconda3/envs/conda_env/lib/python3.7/site-packages/sklearn/neighbors/_classification.py:179: DataConversionWarning: A column-vector y was passed when a 1d array was expected. Please change the shape of y to (n_samples,), for example using ravel().\n",
      "  return self._fit(X, y)\n",
      "/opt/miniconda3/envs/conda_env/lib/python3.7/site-packages/sklearn/neighbors/_classification.py:179: DataConversionWarning: A column-vector y was passed when a 1d array was expected. Please change the shape of y to (n_samples,), for example using ravel().\n",
      "  return self._fit(X, y)\n",
      "/opt/miniconda3/envs/conda_env/lib/python3.7/site-packages/sklearn/neighbors/_classification.py:179: DataConversionWarning: A column-vector y was passed when a 1d array was expected. Please change the shape of y to (n_samples,), for example using ravel().\n",
      "  return self._fit(X, y)\n",
      "/opt/miniconda3/envs/conda_env/lib/python3.7/site-packages/sklearn/neighbors/_classification.py:179: DataConversionWarning: A column-vector y was passed when a 1d array was expected. Please change the shape of y to (n_samples,), for example using ravel().\n",
      "  return self._fit(X, y)\n",
      "/opt/miniconda3/envs/conda_env/lib/python3.7/site-packages/sklearn/neighbors/_classification.py:179: DataConversionWarning: A column-vector y was passed when a 1d array was expected. Please change the shape of y to (n_samples,), for example using ravel().\n",
      "  return self._fit(X, y)\n",
      "/opt/miniconda3/envs/conda_env/lib/python3.7/site-packages/sklearn/neighbors/_classification.py:179: DataConversionWarning: A column-vector y was passed when a 1d array was expected. Please change the shape of y to (n_samples,), for example using ravel().\n",
      "  return self._fit(X, y)\n",
      "/opt/miniconda3/envs/conda_env/lib/python3.7/site-packages/sklearn/neighbors/_classification.py:179: DataConversionWarning: A column-vector y was passed when a 1d array was expected. Please change the shape of y to (n_samples,), for example using ravel().\n",
      "  return self._fit(X, y)\n",
      "/opt/miniconda3/envs/conda_env/lib/python3.7/site-packages/sklearn/neighbors/_classification.py:179: DataConversionWarning: A column-vector y was passed when a 1d array was expected. Please change the shape of y to (n_samples,), for example using ravel().\n",
      "  return self._fit(X, y)\n",
      "/opt/miniconda3/envs/conda_env/lib/python3.7/site-packages/sklearn/neighbors/_classification.py:179: DataConversionWarning: A column-vector y was passed when a 1d array was expected. Please change the shape of y to (n_samples,), for example using ravel().\n",
      "  return self._fit(X, y)\n",
      "/opt/miniconda3/envs/conda_env/lib/python3.7/site-packages/sklearn/neighbors/_classification.py:179: DataConversionWarning: A column-vector y was passed when a 1d array was expected. Please change the shape of y to (n_samples,), for example using ravel().\n",
      "  return self._fit(X, y)\n",
      "/opt/miniconda3/envs/conda_env/lib/python3.7/site-packages/sklearn/neighbors/_classification.py:179: DataConversionWarning: A column-vector y was passed when a 1d array was expected. Please change the shape of y to (n_samples,), for example using ravel().\n",
      "  return self._fit(X, y)\n",
      "/opt/miniconda3/envs/conda_env/lib/python3.7/site-packages/sklearn/neighbors/_classification.py:179: DataConversionWarning: A column-vector y was passed when a 1d array was expected. Please change the shape of y to (n_samples,), for example using ravel().\n",
      "  return self._fit(X, y)\n",
      "/opt/miniconda3/envs/conda_env/lib/python3.7/site-packages/sklearn/neighbors/_classification.py:179: DataConversionWarning: A column-vector y was passed when a 1d array was expected. Please change the shape of y to (n_samples,), for example using ravel().\n",
      "  return self._fit(X, y)\n",
      "/opt/miniconda3/envs/conda_env/lib/python3.7/site-packages/sklearn/neighbors/_classification.py:179: DataConversionWarning: A column-vector y was passed when a 1d array was expected. Please change the shape of y to (n_samples,), for example using ravel().\n",
      "  return self._fit(X, y)\n",
      "/opt/miniconda3/envs/conda_env/lib/python3.7/site-packages/sklearn/neighbors/_classification.py:179: DataConversionWarning: A column-vector y was passed when a 1d array was expected. Please change the shape of y to (n_samples,), for example using ravel().\n",
      "  return self._fit(X, y)\n",
      "/opt/miniconda3/envs/conda_env/lib/python3.7/site-packages/sklearn/neighbors/_classification.py:179: DataConversionWarning: A column-vector y was passed when a 1d array was expected. Please change the shape of y to (n_samples,), for example using ravel().\n",
      "  return self._fit(X, y)\n",
      "/opt/miniconda3/envs/conda_env/lib/python3.7/site-packages/sklearn/neighbors/_classification.py:179: DataConversionWarning: A column-vector y was passed when a 1d array was expected. Please change the shape of y to (n_samples,), for example using ravel().\n",
      "  return self._fit(X, y)\n"
     ]
    },
    {
     "name": "stdout",
     "output_type": "stream",
     "text": [
      "Tuned KNN Parameters: {'p': 1, 'n_neighbors': 15, 'leaf_size': 40}\n",
      "Best score is 0.6390511783554705\n"
     ]
    },
    {
     "name": "stderr",
     "output_type": "stream",
     "text": [
      "/opt/miniconda3/envs/conda_env/lib/python3.7/site-packages/sklearn/neighbors/_classification.py:179: DataConversionWarning: A column-vector y was passed when a 1d array was expected. Please change the shape of y to (n_samples,), for example using ravel().\n",
      "  return self._fit(X, y)\n"
     ]
    }
   ],
   "source": [
    "# KNN hyperparameter tuning for scaled data set\n",
    "knn = KNeighborsClassifier()\n",
    "knn_cv_scaled = RandomizedSearchCV(knn, param_dist_knn, cv=5)\n",
    "knn_cv_scaled.fit(X_train_ot_scaled, y_train_ot)\n",
    "\n",
    "print(\"Tuned KNN Parameters: {}\".format(knn_cv_scaled.best_params_))\n",
    "print(\"Best score is {}\".format(knn_cv_scaled.best_score_))"
   ]
  },
  {
   "cell_type": "code",
   "execution_count": 29,
   "id": "revised-proposal",
   "metadata": {
    "scrolled": true
   },
   "outputs": [
    {
     "name": "stdout",
     "output_type": "stream",
     "text": [
      "[[521 348]\n",
      " [477 854]]\n",
      "              precision    recall  f1-score   support\n",
      "\n",
      "           0       0.52      0.60      0.56       869\n",
      "           1       0.71      0.64      0.67      1331\n",
      "\n",
      "    accuracy                           0.62      2200\n",
      "   macro avg       0.62      0.62      0.62      2200\n",
      "weighted avg       0.64      0.62      0.63      2200\n",
      "\n"
     ]
    }
   ],
   "source": [
    "best_knn_scaled = knn_cv_scaled.best_estimator_\n",
    "\n",
    "y_pred = best_knn_scaled.predict(X_test_ot_scaled)\n",
    "print(confusion_matrix(y_test_ot, y_pred))\n",
    "print(classification_report(y_test_ot, y_pred))"
   ]
  },
  {
   "cell_type": "markdown",
   "id": "unlikely-enterprise",
   "metadata": {},
   "source": [
    "# Decision Tree"
   ]
  },
  {
   "cell_type": "code",
   "execution_count": 30,
   "id": "perfect-candy",
   "metadata": {},
   "outputs": [
    {
     "name": "stdout",
     "output_type": "stream",
     "text": [
      "[[454 415]\n",
      " [402 929]]\n",
      "              precision    recall  f1-score   support\n",
      "\n",
      "           0       0.53      0.52      0.53       869\n",
      "           1       0.69      0.70      0.69      1331\n",
      "\n",
      "    accuracy                           0.63      2200\n",
      "   macro avg       0.61      0.61      0.61      2200\n",
      "weighted avg       0.63      0.63      0.63      2200\n",
      "\n"
     ]
    }
   ],
   "source": [
    "# let's try decision tree to see if we get better results\n",
    "from sklearn.tree import DecisionTreeClassifier\n",
    "\n",
    "tree = DecisionTreeClassifier(random_state=42)\n",
    "tree.fit(X_train_ot, y_train_ot)\n",
    "y_pred = tree.predict(X_test_ot)\n",
    "print(confusion_matrix(y_test_ot, y_pred))\n",
    "print(classification_report(y_test_ot, y_pred))"
   ]
  },
  {
   "cell_type": "markdown",
   "id": "approved-institution",
   "metadata": {},
   "source": [
    "This gives us the lowest false positives so far with 402."
   ]
  },
  {
   "cell_type": "code",
   "execution_count": 31,
   "id": "buried-sellers",
   "metadata": {},
   "outputs": [
    {
     "name": "stdout",
     "output_type": "stream",
     "text": [
      "[[451 418]\n",
      " [402 929]]\n",
      "              precision    recall  f1-score   support\n",
      "\n",
      "           0       0.53      0.52      0.52       869\n",
      "           1       0.69      0.70      0.69      1331\n",
      "\n",
      "    accuracy                           0.63      2200\n",
      "   macro avg       0.61      0.61      0.61      2200\n",
      "weighted avg       0.63      0.63      0.63      2200\n",
      "\n"
     ]
    }
   ],
   "source": [
    "# model with scaled data set\n",
    "tree_scaled = DecisionTreeClassifier(random_state=42)\n",
    "tree_scaled.fit(X_train_ot_scaled, y_train_ot)\n",
    "y_pred = tree_scaled.predict(X_test_ot_scaled)\n",
    "print(confusion_matrix(y_test_ot, y_pred))\n",
    "print(classification_report(y_test_ot, y_pred))"
   ]
  },
  {
   "cell_type": "markdown",
   "id": "first-venezuela",
   "metadata": {},
   "source": [
    "Results are slightly worse but about the same."
   ]
  },
  {
   "cell_type": "code",
   "execution_count": 32,
   "id": "scenic-affair",
   "metadata": {},
   "outputs": [
    {
     "name": "stdout",
     "output_type": "stream",
     "text": [
      "Tuned Decision Tree Parameters: {'criterion': 'entropy', 'max_depth': 3, 'max_features': 8, 'min_samples_leaf': 7}\n",
      "Best score is 0.6816683678743087\n"
     ]
    }
   ],
   "source": [
    "# hyperparameter tuning\n",
    "from scipy.stats import randint\n",
    "\n",
    "param_dist = {\"max_depth\": [3, None],\n",
    "              \"max_features\": randint(1, 9),\n",
    "              \"min_samples_leaf\": randint(1, 9),\n",
    "              \"criterion\": [\"gini\", \"entropy\"]}\n",
    "\n",
    "tree = DecisionTreeClassifier(random_state=42)\n",
    "tree_cv = RandomizedSearchCV(tree, param_dist, cv=5)\n",
    "tree_cv.fit(X_train_ot, y_train_ot)\n",
    "\n",
    "print(\"Tuned Decision Tree Parameters: {}\".format(tree_cv.best_params_))\n",
    "print(\"Best score is {}\".format(tree_cv.best_score_))"
   ]
  },
  {
   "cell_type": "code",
   "execution_count": 33,
   "id": "judicial-forge",
   "metadata": {},
   "outputs": [
    {
     "name": "stdout",
     "output_type": "stream",
     "text": [
      "[[828  41]\n",
      " [709 622]]\n",
      "              precision    recall  f1-score   support\n",
      "\n",
      "           0       0.54      0.95      0.69       869\n",
      "           1       0.94      0.47      0.62      1331\n",
      "\n",
      "    accuracy                           0.66      2200\n",
      "   macro avg       0.74      0.71      0.66      2200\n",
      "weighted avg       0.78      0.66      0.65      2200\n",
      "\n"
     ]
    }
   ],
   "source": [
    "best_tree = tree_cv.best_estimator_\n",
    "\n",
    "y_pred = best_tree.predict(X_test_ot)\n",
    "print(confusion_matrix(y_test_ot, y_pred))\n",
    "print(classification_report(y_test_ot, y_pred))"
   ]
  },
  {
   "cell_type": "markdown",
   "id": "regulation-claim",
   "metadata": {},
   "source": [
    "This gives us a better accuracy, precision and more true positives, but there are a lot more false positives."
   ]
  },
  {
   "cell_type": "code",
   "execution_count": 34,
   "id": "numerical-defensive",
   "metadata": {},
   "outputs": [
    {
     "name": "stdout",
     "output_type": "stream",
     "text": [
      "Tuned Decision Tree Parameters: {'criterion': 'gini', 'max_depth': 3, 'max_features': 7, 'min_samples_leaf': 6}\n",
      "Best score is 0.6816683678743087\n"
     ]
    }
   ],
   "source": [
    "# tune for scaled data set\n",
    "tree = DecisionTreeClassifier(random_state=42)\n",
    "tree_cv_scaled = RandomizedSearchCV(tree, param_dist, cv=5)\n",
    "tree_cv_scaled.fit(X_train_ot_scaled, y_train_ot)\n",
    "\n",
    "print(\"Tuned Decision Tree Parameters: {}\".format(tree_cv_scaled.best_params_))\n",
    "print(\"Best score is {}\".format(tree_cv_scaled.best_score_))"
   ]
  },
  {
   "cell_type": "code",
   "execution_count": 35,
   "id": "agreed-captain",
   "metadata": {},
   "outputs": [
    {
     "name": "stdout",
     "output_type": "stream",
     "text": [
      "[[828  41]\n",
      " [709 622]]\n",
      "              precision    recall  f1-score   support\n",
      "\n",
      "           0       0.54      0.95      0.69       869\n",
      "           1       0.94      0.47      0.62      1331\n",
      "\n",
      "    accuracy                           0.66      2200\n",
      "   macro avg       0.74      0.71      0.66      2200\n",
      "weighted avg       0.78      0.66      0.65      2200\n",
      "\n"
     ]
    }
   ],
   "source": [
    "best_tree_scaled = tree_cv_scaled.best_estimator_\n",
    "\n",
    "y_pred = best_tree_scaled.predict(X_test_ot_scaled)\n",
    "print(confusion_matrix(y_test_ot, y_pred))\n",
    "print(classification_report(y_test_ot, y_pred))"
   ]
  },
  {
   "cell_type": "markdown",
   "id": "available-stopping",
   "metadata": {},
   "source": [
    "This gives us the exact same result. Overall our original KNN model with the default hyperparameters gave us the best results:\n",
    "\n",
    "[[565 304]\n",
    " [434 897]]\n",
    "              precision    recall  f1-score   support\n",
    "\n",
    "           0       0.57      0.65      0.60       869\n",
    "           1       0.75      0.67      0.71      1331\n",
    "\n",
    "    accuracy                           0.66      2200\n",
    "   macro avg       0.66      0.66      0.66      2200\n",
    "weighted avg       0.68      0.66      0.67      2200\n",
    "\n",
    "Accuracy is the same, precision for on time is higher, and much less false positives."
   ]
  },
  {
   "cell_type": "code",
   "execution_count": 36,
   "id": "realistic-shelf",
   "metadata": {},
   "outputs": [
    {
     "name": "stderr",
     "output_type": "stream",
     "text": [
      "/opt/miniconda3/envs/conda_env/lib/python3.7/site-packages/sklearn/neighbors/_classification.py:179: DataConversionWarning: A column-vector y was passed when a 1d array was expected. Please change the shape of y to (n_samples,), for example using ravel().\n",
      "  return self._fit(X, y)\n"
     ]
    },
    {
     "data": {
      "text/plain": [
       "KNeighborsClassifier()"
      ]
     },
     "execution_count": 36,
     "metadata": {},
     "output_type": "execute_result"
    }
   ],
   "source": [
    "# set best model for on time prediction\n",
    "best_model_ot = KNeighborsClassifier()\n",
    "best_model_ot.fit(X_train_ot, y_train_ot)"
   ]
  },
  {
   "cell_type": "code",
   "execution_count": 37,
   "id": "previous-means",
   "metadata": {},
   "outputs": [
    {
     "data": {
      "text/html": [
       "<div>\n",
       "<style scoped>\n",
       "    .dataframe tbody tr th:only-of-type {\n",
       "        vertical-align: middle;\n",
       "    }\n",
       "\n",
       "    .dataframe tbody tr th {\n",
       "        vertical-align: top;\n",
       "    }\n",
       "\n",
       "    .dataframe thead th {\n",
       "        text-align: right;\n",
       "    }\n",
       "</style>\n",
       "<table border=\"1\" class=\"dataframe\">\n",
       "  <thead>\n",
       "    <tr style=\"text-align: right;\">\n",
       "      <th></th>\n",
       "      <th>Customer_care_calls</th>\n",
       "      <th>Customer_rating</th>\n",
       "      <th>Cost_of_the_Product</th>\n",
       "      <th>Prior_purchases</th>\n",
       "      <th>Discount_offered</th>\n",
       "      <th>Weight_in_gms</th>\n",
       "      <th>Warehouse_block_A</th>\n",
       "      <th>Warehouse_block_B</th>\n",
       "      <th>Warehouse_block_C</th>\n",
       "      <th>Warehouse_block_D</th>\n",
       "      <th>Warehouse_block_F</th>\n",
       "      <th>Mode_of_Shipment_Flight</th>\n",
       "      <th>Mode_of_Shipment_Road</th>\n",
       "      <th>Mode_of_Shipment_Ship</th>\n",
       "      <th>Product_importance_high</th>\n",
       "      <th>Product_importance_low</th>\n",
       "      <th>Product_importance_medium</th>\n",
       "      <th>Gender_F</th>\n",
       "    </tr>\n",
       "  </thead>\n",
       "  <tbody>\n",
       "    <tr>\n",
       "      <th>8442</th>\n",
       "      <td>3</td>\n",
       "      <td>5</td>\n",
       "      <td>252</td>\n",
       "      <td>2</td>\n",
       "      <td>4</td>\n",
       "      <td>4098</td>\n",
       "      <td>0</td>\n",
       "      <td>0</td>\n",
       "      <td>0</td>\n",
       "      <td>1</td>\n",
       "      <td>0</td>\n",
       "      <td>0</td>\n",
       "      <td>0</td>\n",
       "      <td>1</td>\n",
       "      <td>1</td>\n",
       "      <td>0</td>\n",
       "      <td>0</td>\n",
       "      <td>0</td>\n",
       "    </tr>\n",
       "    <tr>\n",
       "      <th>4885</th>\n",
       "      <td>5</td>\n",
       "      <td>1</td>\n",
       "      <td>172</td>\n",
       "      <td>2</td>\n",
       "      <td>7</td>\n",
       "      <td>5165</td>\n",
       "      <td>0</td>\n",
       "      <td>0</td>\n",
       "      <td>0</td>\n",
       "      <td>0</td>\n",
       "      <td>1</td>\n",
       "      <td>0</td>\n",
       "      <td>0</td>\n",
       "      <td>1</td>\n",
       "      <td>1</td>\n",
       "      <td>0</td>\n",
       "      <td>0</td>\n",
       "      <td>1</td>\n",
       "    </tr>\n",
       "    <tr>\n",
       "      <th>2084</th>\n",
       "      <td>3</td>\n",
       "      <td>2</td>\n",
       "      <td>173</td>\n",
       "      <td>3</td>\n",
       "      <td>40</td>\n",
       "      <td>1723</td>\n",
       "      <td>1</td>\n",
       "      <td>0</td>\n",
       "      <td>0</td>\n",
       "      <td>0</td>\n",
       "      <td>0</td>\n",
       "      <td>0</td>\n",
       "      <td>0</td>\n",
       "      <td>1</td>\n",
       "      <td>1</td>\n",
       "      <td>0</td>\n",
       "      <td>0</td>\n",
       "      <td>0</td>\n",
       "    </tr>\n",
       "    <tr>\n",
       "      <th>6759</th>\n",
       "      <td>5</td>\n",
       "      <td>2</td>\n",
       "      <td>192</td>\n",
       "      <td>3</td>\n",
       "      <td>7</td>\n",
       "      <td>5695</td>\n",
       "      <td>0</td>\n",
       "      <td>1</td>\n",
       "      <td>0</td>\n",
       "      <td>0</td>\n",
       "      <td>0</td>\n",
       "      <td>0</td>\n",
       "      <td>0</td>\n",
       "      <td>1</td>\n",
       "      <td>1</td>\n",
       "      <td>0</td>\n",
       "      <td>0</td>\n",
       "      <td>1</td>\n",
       "    </tr>\n",
       "    <tr>\n",
       "      <th>3147</th>\n",
       "      <td>4</td>\n",
       "      <td>2</td>\n",
       "      <td>272</td>\n",
       "      <td>3</td>\n",
       "      <td>6</td>\n",
       "      <td>4559</td>\n",
       "      <td>0</td>\n",
       "      <td>1</td>\n",
       "      <td>0</td>\n",
       "      <td>0</td>\n",
       "      <td>0</td>\n",
       "      <td>1</td>\n",
       "      <td>0</td>\n",
       "      <td>0</td>\n",
       "      <td>1</td>\n",
       "      <td>0</td>\n",
       "      <td>0</td>\n",
       "      <td>1</td>\n",
       "    </tr>\n",
       "  </tbody>\n",
       "</table>\n",
       "</div>"
      ],
      "text/plain": [
       "      Customer_care_calls  Customer_rating  Cost_of_the_Product  \\\n",
       "8442                    3                5                  252   \n",
       "4885                    5                1                  172   \n",
       "2084                    3                2                  173   \n",
       "6759                    5                2                  192   \n",
       "3147                    4                2                  272   \n",
       "\n",
       "      Prior_purchases  Discount_offered  Weight_in_gms  Warehouse_block_A  \\\n",
       "8442                2                 4           4098                  0   \n",
       "4885                2                 7           5165                  0   \n",
       "2084                3                40           1723                  1   \n",
       "6759                3                 7           5695                  0   \n",
       "3147                3                 6           4559                  0   \n",
       "\n",
       "      Warehouse_block_B  Warehouse_block_C  Warehouse_block_D  \\\n",
       "8442                  0                  0                  1   \n",
       "4885                  0                  0                  0   \n",
       "2084                  0                  0                  0   \n",
       "6759                  1                  0                  0   \n",
       "3147                  1                  0                  0   \n",
       "\n",
       "      Warehouse_block_F  Mode_of_Shipment_Flight  Mode_of_Shipment_Road  \\\n",
       "8442                  0                        0                      0   \n",
       "4885                  1                        0                      0   \n",
       "2084                  0                        0                      0   \n",
       "6759                  0                        0                      0   \n",
       "3147                  0                        1                      0   \n",
       "\n",
       "      Mode_of_Shipment_Ship  Product_importance_high  Product_importance_low  \\\n",
       "8442                      1                        1                       0   \n",
       "4885                      1                        1                       0   \n",
       "2084                      1                        1                       0   \n",
       "6759                      1                        1                       0   \n",
       "3147                      0                        1                       0   \n",
       "\n",
       "      Product_importance_medium  Gender_F  \n",
       "8442                          0         0  \n",
       "4885                          0         1  \n",
       "2084                          0         0  \n",
       "6759                          0         1  \n",
       "3147                          0         1  "
      ]
     },
     "execution_count": 37,
     "metadata": {},
     "output_type": "execute_result"
    }
   ],
   "source": [
    "# use this model to predict what effect product importance has on on-time performance\n",
    "high = X_test_ot.loc[X_test_ot['Product_importance_high'] == 1]\n",
    "high.head()"
   ]
  },
  {
   "cell_type": "code",
   "execution_count": 38,
   "id": "imperial-gnome",
   "metadata": {},
   "outputs": [
    {
     "name": "stdout",
     "output_type": "stream",
     "text": [
      "46.27 % of high importance shipments are predicted to be on time.\n"
     ]
    }
   ],
   "source": [
    "import collections\n",
    "\n",
    "high_pred = best_model_ot.predict(high)\n",
    "high_ontime = collections.Counter(high_pred)[0]\n",
    "high_performance = round(high_ontime/len(high)*100,2)\n",
    "print(high_performance, '% of high importance shipments are predicted to be on time.')"
   ]
  },
  {
   "cell_type": "code",
   "execution_count": 39,
   "id": "developed-rebate",
   "metadata": {},
   "outputs": [
    {
     "name": "stdout",
     "output_type": "stream",
     "text": [
      "47.01 % of medium importance shipments are predicted to be on time.\n"
     ]
    }
   ],
   "source": [
    "# medium importance\n",
    "medium = X_test_ot.loc[X_test_ot['Product_importance_medium'] == 1]\n",
    "medium_pred = best_model_ot.predict(medium)\n",
    "medium_ontime = collections.Counter(medium_pred)[0]\n",
    "medium_performance = round(medium_ontime/len(medium)*100,2)\n",
    "print(medium_performance, '% of medium importance shipments are predicted to be on time.')"
   ]
  },
  {
   "cell_type": "code",
   "execution_count": 40,
   "id": "breathing-words",
   "metadata": {},
   "outputs": [
    {
     "name": "stdout",
     "output_type": "stream",
     "text": [
      "43.84 % of low importance shipments are predicted to be on time.\n"
     ]
    }
   ],
   "source": [
    "# low importance\n",
    "low = X_test_ot.loc[X_test_ot['Product_importance_low'] == 1]\n",
    "low_pred = best_model_ot.predict(low)\n",
    "low_ontime = collections.Counter(low_pred)[0]\n",
    "low_performance = round(low_ontime/len(low)*100,2)\n",
    "print(low_performance, '% of low importance shipments are predicted to be on time.')"
   ]
  },
  {
   "cell_type": "markdown",
   "id": "coral-flash",
   "metadata": {},
   "source": [
    "How can we improve the on-time performance of the high importance shipments? Let's look at the warehouse blocks."
   ]
  },
  {
   "cell_type": "code",
   "execution_count": 41,
   "id": "tribal-niagara",
   "metadata": {},
   "outputs": [
    {
     "name": "stdout",
     "output_type": "stream",
     "text": [
      "44.64 % of warehouse block A shipments are predicted to be on time.\n"
     ]
    }
   ],
   "source": [
    "# block A\n",
    "A = X_test_ot.loc[X_test_ot['Warehouse_block_A'] == 1]\n",
    "A_pred = best_model_ot.predict(A)\n",
    "A_ontime = collections.Counter(A_pred)[0]\n",
    "A_performance = round(A_ontime/len(A)*100,2)\n",
    "print(A_performance, '% of warehouse block A shipments are predicted to be on time.')"
   ]
  },
  {
   "cell_type": "code",
   "execution_count": 42,
   "id": "christian-paper",
   "metadata": {},
   "outputs": [
    {
     "name": "stdout",
     "output_type": "stream",
     "text": [
      "47.06 % of warehouse block B shipments are predicted to be on time.\n"
     ]
    }
   ],
   "source": [
    "# block B\n",
    "B = X_test_ot.loc[X_test_ot['Warehouse_block_B'] == 1]\n",
    "B_pred = best_model_ot.predict(B)\n",
    "B_ontime = collections.Counter(B_pred)[0]\n",
    "B_performance = round(B_ontime/len(B)*100,2)\n",
    "print(B_performance, '% of warehouse block B shipments are predicted to be on time.')"
   ]
  },
  {
   "cell_type": "code",
   "execution_count": 43,
   "id": "solid-spank",
   "metadata": {},
   "outputs": [
    {
     "name": "stdout",
     "output_type": "stream",
     "text": [
      "48.28 % of warehouse block C shipments are predicted to be on time.\n"
     ]
    }
   ],
   "source": [
    "# block C\n",
    "C = X_test_ot.loc[X_test_ot['Warehouse_block_C'] == 1]\n",
    "C_pred = best_model_ot.predict(C)\n",
    "C_ontime = collections.Counter(C_pred)[0]\n",
    "C_performance = round(C_ontime/len(C)*100,2)\n",
    "print(C_performance, '% of warehouse block C shipments are predicted to be on time.')"
   ]
  },
  {
   "cell_type": "code",
   "execution_count": 44,
   "id": "fantastic-waste",
   "metadata": {},
   "outputs": [
    {
     "name": "stdout",
     "output_type": "stream",
     "text": [
      "41.98 % of warehouse block D shipments are predicted to be on time.\n"
     ]
    }
   ],
   "source": [
    "# block D\n",
    "D = X_test_ot.loc[X_test_ot['Warehouse_block_D'] == 1]\n",
    "D_pred = best_model_ot.predict(D)\n",
    "D_ontime = collections.Counter(D_pred)[0]\n",
    "D_performance = round(D_ontime/len(D)*100,2)\n",
    "print(D_performance, '% of warehouse block D shipments are predicted to be on time.')"
   ]
  },
  {
   "cell_type": "code",
   "execution_count": 45,
   "id": "female-suffering",
   "metadata": {},
   "outputs": [
    {
     "name": "stdout",
     "output_type": "stream",
     "text": [
      "45.07 % of warehouse block F shipments are predicted to be on time.\n"
     ]
    }
   ],
   "source": [
    "# block F\n",
    "F = X_test_ot.loc[X_test_ot['Warehouse_block_F'] == 1]\n",
    "F_pred = best_model_ot.predict(F)\n",
    "F_ontime = collections.Counter(F_pred)[0]\n",
    "F_performance = round(F_ontime/len(F)*100,2)\n",
    "print(F_performance, '% of warehouse block F shipments are predicted to be on time.')"
   ]
  },
  {
   "cell_type": "code",
   "execution_count": 46,
   "id": "above-opera",
   "metadata": {},
   "outputs": [
    {
     "data": {
      "image/png": "[encoded data removed]",
      "text/plain": [
       "<Figure size 432x288 with 1 Axes>"
      ]
     },
     "metadata": {
      "needs_background": "light"
     },
     "output_type": "display_data"
    }
   ],
   "source": [
    "# plot a bar chart\n",
    "blocks = ['A', 'B', 'C', 'D', 'F']\n",
    "performance = [A_performance, B_performance, C_performance, D_performance, F_performance]\n",
    "plt.bar(blocks, performance)\n",
    "plt.title('Performance of Each Warehouse Block')\n",
    "plt.xlabel('Block')\n",
    "plt.ylabel('On-time Percentage')\n",
    "plt.show()"
   ]
  },
  {
   "cell_type": "markdown",
   "id": "accomplished-impact",
   "metadata": {},
   "source": [
    "Block C has the highest predicted on-time percentage so maybe the company can have all the high importance products stored in warehouse block C. Let's look at what percentage of high importance products were not in warehouse block C and did not arrive on time."
   ]
  },
  {
   "cell_type": "code",
   "execution_count": 47,
   "id": "thermal-mouse",
   "metadata": {},
   "outputs": [
    {
     "name": "stdout",
     "output_type": "stream",
     "text": [
      "53.48 % were late that were not in block C\n"
     ]
    }
   ],
   "source": [
    "# import our full data set\n",
    "df = pd.read_csv('df.csv')\n",
    "late_high = round(100*len(df.loc[(df['Product_importance_high']==1) & (df['Warehouse_block_C']==0) & (df['On_time']==1)])/len(df.loc[df['Product_importance_high']==1]),2)\n",
    "print(late_high, '% were late that were not in block C')"
   ]
  },
  {
   "cell_type": "markdown",
   "id": "proof-navigator",
   "metadata": {},
   "source": [
    "Warehouse block D has the lowest predicted on-time percentage. So we can see if any of those late shipments were from that block."
   ]
  },
  {
   "cell_type": "code",
   "execution_count": 48,
   "id": "micro-employer",
   "metadata": {},
   "outputs": [
    {
     "name": "stdout",
     "output_type": "stream",
     "text": [
      "20.51 % that were late and not in block C were in block D\n"
     ]
    }
   ],
   "source": [
    "late_high_d = round(100*len(df.loc[(df['Product_importance_high']==1) & (df['Warehouse_block_D']==1) & (df['On_time']==1)])/len(df.loc[(df['Product_importance_high']==1) & (df['Warehouse_block_C']==0) & (df['On_time']==1)]),2)\n",
    "print(late_high_d, '% that were late and not in block C were in block D')"
   ]
  },
  {
   "cell_type": "markdown",
   "id": "proper-monthly",
   "metadata": {},
   "source": [
    "So more than half of the high importance products that were late were not in warehouse block C, which has the best on-time performance. And of that total, over 20% were in warehouse block D, which has the worst on-time performance. Block C's on time performance is over 6% better than block D's. Just moving all the high importance products from D to C would increase on-time performance for high importance products. "
   ]
  },
  {
   "cell_type": "markdown",
   "id": "impaired-brighton",
   "metadata": {},
   "source": [
    "# Customer Rating Model"
   ]
  },
  {
   "cell_type": "code",
   "execution_count": 49,
   "id": "voluntary-doubt",
   "metadata": {},
   "outputs": [
    {
     "data": {
      "text/plain": [
       "LinearRegression()"
      ]
     },
     "execution_count": 49,
     "metadata": {},
     "output_type": "execute_result"
    }
   ],
   "source": [
    "# use linear regression model to predict customer rating\n",
    "ln = LinearRegression()\n",
    "ln.fit(X_train_cr, y_train_cr)"
   ]
  },
  {
   "cell_type": "code",
   "execution_count": 50,
   "id": "nearby-insight",
   "metadata": {},
   "outputs": [
    {
     "name": "stdout",
     "output_type": "stream",
     "text": [
      "R^2 Score:  -0.0018485263708267752\n",
      "Mean Absolute Error:  1.2102255219696454\n",
      "Mean Squared Error:  2.0093634997270673\n"
     ]
    }
   ],
   "source": [
    "y_pred = ln.predict(X_test_cr)\n",
    "print('R^2 Score: ', r2_score(y_test_cr, y_pred))\n",
    "print('Mean Absolute Error: ', mean_absolute_error(y_test_cr, y_pred))\n",
    "print('Mean Squared Error: ', mean_squared_error(y_test_cr, y_pred))"
   ]
  },
  {
   "cell_type": "markdown",
   "id": "apparent-surveillance",
   "metadata": {},
   "source": [
    "Very low r2 score. Let's try using the scaled data set."
   ]
  },
  {
   "cell_type": "code",
   "execution_count": 51,
   "id": "spare-instrument",
   "metadata": {},
   "outputs": [
    {
     "name": "stdout",
     "output_type": "stream",
     "text": [
      "R^2 Score:  -0.00022001484990852305\n",
      "Mean Absolute Error:  1.2099862780038932\n",
      "Mean Squared Error:  2.006097265837527\n"
     ]
    }
   ],
   "source": [
    "ln_scaled = LinearRegression()\n",
    "ln_scaled.fit(X_train_cr_scaled, y_train_cr)\n",
    "y_pred = ln_scaled.predict(X_test_cr_scaled)\n",
    "print('R^2 Score: ', r2_score(y_test_cr, y_pred))\n",
    "print('Mean Absolute Error: ', mean_absolute_error(y_test_cr, y_pred))\n",
    "print('Mean Squared Error: ', mean_squared_error(y_test_cr, y_pred))"
   ]
  },
  {
   "cell_type": "markdown",
   "id": "broad-preserve",
   "metadata": {},
   "source": [
    "# Lasso"
   ]
  },
  {
   "cell_type": "code",
   "execution_count": 52,
   "id": "interior-joining",
   "metadata": {},
   "outputs": [
    {
     "name": "stdout",
     "output_type": "stream",
     "text": [
      "R^2 Score:  -3.2448824513808816e-05\n",
      "Mean Absolute Error:  1.2046503734928555\n",
      "Mean Squared Error:  2.0057210729148482\n"
     ]
    }
   ],
   "source": [
    "from sklearn.linear_model import Lasso\n",
    "\n",
    "lasso = Lasso(0.4, normalize=True)\n",
    "lasso.fit(X_train_cr, y_train_cr)\n",
    "y_pred = lasso.predict(X_test_cr)\n",
    "print('R^2 Score: ', r2_score(y_test_cr, y_pred))\n",
    "print('Mean Absolute Error: ', mean_absolute_error(y_test_cr, y_pred))\n",
    "print('Mean Squared Error: ', mean_squared_error(y_test_cr, y_pred))"
   ]
  },
  {
   "cell_type": "markdown",
   "id": "christian-civilization",
   "metadata": {},
   "source": [
    "Maybe we need to do multiclass classification."
   ]
  },
  {
   "cell_type": "markdown",
   "id": "representative-boards",
   "metadata": {},
   "source": [
    "# SVC"
   ]
  },
  {
   "cell_type": "code",
   "execution_count": 53,
   "id": "rough-missile",
   "metadata": {},
   "outputs": [
    {
     "name": "stderr",
     "output_type": "stream",
     "text": [
      "/opt/miniconda3/envs/conda_env/lib/python3.7/site-packages/sklearn/utils/validation.py:63: DataConversionWarning: A column-vector y was passed when a 1d array was expected. Please change the shape of y to (n_samples, ), for example using ravel().\n",
      "  return f(*args, **kwargs)\n"
     ]
    },
    {
     "data": {
      "text/plain": [
       "SVC()"
      ]
     },
     "execution_count": 53,
     "metadata": {},
     "output_type": "execute_result"
    }
   ],
   "source": [
    "from sklearn.svm import SVC\n",
    "\n",
    "svc = SVC()\n",
    "svc.fit(X_train_cr, y_train_cr)"
   ]
  },
  {
   "cell_type": "code",
   "execution_count": 54,
   "id": "exact-devil",
   "metadata": {},
   "outputs": [
    {
     "name": "stdout",
     "output_type": "stream",
     "text": [
      "[[  0 144  50 253   0]\n",
      " [  0 138  36 273   0]\n",
      " [  0 151  32 253   0]\n",
      " [  0 144  39 251   0]\n",
      " [  0 147  52 237   0]]\n",
      "              precision    recall  f1-score   support\n",
      "\n",
      "           1       0.00      0.00      0.00       447\n",
      "           2       0.19      0.31      0.24       447\n",
      "           3       0.15      0.07      0.10       436\n",
      "           4       0.20      0.58      0.30       434\n",
      "           5       0.00      0.00      0.00       436\n",
      "\n",
      "    accuracy                           0.19      2200\n",
      "   macro avg       0.11      0.19      0.13      2200\n",
      "weighted avg       0.11      0.19      0.13      2200\n",
      "\n"
     ]
    },
    {
     "name": "stderr",
     "output_type": "stream",
     "text": [
      "/opt/miniconda3/envs/conda_env/lib/python3.7/site-packages/sklearn/metrics/_classification.py:1245: UndefinedMetricWarning: Precision and F-score are ill-defined and being set to 0.0 in labels with no predicted samples. Use `zero_division` parameter to control this behavior.\n",
      "  _warn_prf(average, modifier, msg_start, len(result))\n",
      "/opt/miniconda3/envs/conda_env/lib/python3.7/site-packages/sklearn/metrics/_classification.py:1245: UndefinedMetricWarning: Precision and F-score are ill-defined and being set to 0.0 in labels with no predicted samples. Use `zero_division` parameter to control this behavior.\n",
      "  _warn_prf(average, modifier, msg_start, len(result))\n",
      "/opt/miniconda3/envs/conda_env/lib/python3.7/site-packages/sklearn/metrics/_classification.py:1245: UndefinedMetricWarning: Precision and F-score are ill-defined and being set to 0.0 in labels with no predicted samples. Use `zero_division` parameter to control this behavior.\n",
      "  _warn_prf(average, modifier, msg_start, len(result))\n"
     ]
    }
   ],
   "source": [
    "y_pred = svc.predict(X_test_cr)\n",
    "print(confusion_matrix(y_test_cr, y_pred))\n",
    "print(classification_report(y_test_cr, y_pred))"
   ]
  },
  {
   "cell_type": "code",
   "execution_count": 55,
   "id": "irish-cycling",
   "metadata": {},
   "outputs": [
    {
     "name": "stderr",
     "output_type": "stream",
     "text": [
      "/opt/miniconda3/envs/conda_env/lib/python3.7/site-packages/sklearn/utils/validation.py:63: DataConversionWarning: A column-vector y was passed when a 1d array was expected. Please change the shape of y to (n_samples, ), for example using ravel().\n",
      "  return f(*args, **kwargs)\n"
     ]
    },
    {
     "name": "stdout",
     "output_type": "stream",
     "text": [
      "[[109  69 134  71  64]\n",
      " [112  64 145  75  51]\n",
      " [ 86  55 158  67  70]\n",
      " [ 92  68 136  73  65]\n",
      " [ 97  65 137  58  79]]\n",
      "              precision    recall  f1-score   support\n",
      "\n",
      "           1       0.22      0.24      0.23       447\n",
      "           2       0.20      0.14      0.17       447\n",
      "           3       0.22      0.36      0.28       436\n",
      "           4       0.21      0.17      0.19       434\n",
      "           5       0.24      0.18      0.21       436\n",
      "\n",
      "    accuracy                           0.22      2200\n",
      "   macro avg       0.22      0.22      0.21      2200\n",
      "weighted avg       0.22      0.22      0.21      2200\n",
      "\n"
     ]
    }
   ],
   "source": [
    "# model using scaled data set\n",
    "svc_scaled = SVC()\n",
    "svc_scaled.fit(X_train_cr_scaled, y_train_cr)\n",
    "y_pred = svc_scaled.predict(X_test_cr_scaled)\n",
    "print(confusion_matrix(y_test_cr, y_pred))\n",
    "print(classification_report(y_test_cr, y_pred))"
   ]
  },
  {
   "cell_type": "markdown",
   "id": "cathedral-entity",
   "metadata": {},
   "source": [
    "The scaled data gives improved results but still very low accuracy. Let's try random forest classifier."
   ]
  },
  {
   "cell_type": "markdown",
   "id": "radical-hartford",
   "metadata": {},
   "source": [
    "# Random Forest"
   ]
  },
  {
   "cell_type": "code",
   "execution_count": 56,
   "id": "therapeutic-turkey",
   "metadata": {},
   "outputs": [
    {
     "name": "stderr",
     "output_type": "stream",
     "text": [
      "/opt/miniconda3/envs/conda_env/lib/python3.7/site-packages/ipykernel_launcher.py:4: DataConversionWarning: A column-vector y was passed when a 1d array was expected. Please change the shape of y to (n_samples,), for example using ravel().\n",
      "  after removing the cwd from sys.path.\n"
     ]
    },
    {
     "name": "stdout",
     "output_type": "stream",
     "text": [
      "[[104  89  76  84  94]\n",
      " [ 93  82  99  95  78]\n",
      " [ 87  85  95  78  91]\n",
      " [ 91  87  85  78  93]\n",
      " [ 85  98  98  68  87]]\n",
      "              precision    recall  f1-score   support\n",
      "\n",
      "           1       0.23      0.23      0.23       447\n",
      "           2       0.19      0.18      0.18       447\n",
      "           3       0.21      0.22      0.21       436\n",
      "           4       0.19      0.18      0.19       434\n",
      "           5       0.20      0.20      0.20       436\n",
      "\n",
      "    accuracy                           0.20      2200\n",
      "   macro avg       0.20      0.20      0.20      2200\n",
      "weighted avg       0.20      0.20      0.20      2200\n",
      "\n"
     ]
    }
   ],
   "source": [
    "from sklearn.ensemble import RandomForestClassifier\n",
    "\n",
    "rf = RandomForestClassifier()\n",
    "rf.fit(X_train_cr, y_train_cr)\n",
    "y_pred = rf.predict(X_test_cr)\n",
    "print(confusion_matrix(y_test_cr, y_pred))\n",
    "print(classification_report(y_test_cr, y_pred))"
   ]
  },
  {
   "cell_type": "code",
   "execution_count": 57,
   "id": "german-shelter",
   "metadata": {},
   "outputs": [
    {
     "name": "stderr",
     "output_type": "stream",
     "text": [
      "/opt/miniconda3/envs/conda_env/lib/python3.7/site-packages/ipykernel_launcher.py:3: DataConversionWarning: A column-vector y was passed when a 1d array was expected. Please change the shape of y to (n_samples,), for example using ravel().\n",
      "  This is separate from the ipykernel package so we can avoid doing imports until\n"
     ]
    },
    {
     "name": "stdout",
     "output_type": "stream",
     "text": [
      "[[110  84  92  70  91]\n",
      " [ 92  90  98  97  70]\n",
      " [ 89  82  97  78  90]\n",
      " [ 88  84  85  75 102]\n",
      " [ 97  88  81  75  95]]\n",
      "              precision    recall  f1-score   support\n",
      "\n",
      "           1       0.23      0.25      0.24       447\n",
      "           2       0.21      0.20      0.21       447\n",
      "           3       0.21      0.22      0.22       436\n",
      "           4       0.19      0.17      0.18       434\n",
      "           5       0.21      0.22      0.21       436\n",
      "\n",
      "    accuracy                           0.21      2200\n",
      "   macro avg       0.21      0.21      0.21      2200\n",
      "weighted avg       0.21      0.21      0.21      2200\n",
      "\n"
     ]
    }
   ],
   "source": [
    "# random forest on scaled data set\n",
    "rf_scaled = RandomForestClassifier()\n",
    "rf_scaled.fit(X_train_cr_scaled, y_train_cr)\n",
    "y_pred = rf_scaled.predict(X_test_cr_scaled)\n",
    "print(confusion_matrix(y_test_cr, y_pred))\n",
    "print(classification_report(y_test_cr, y_pred))"
   ]
  },
  {
   "cell_type": "markdown",
   "id": "liberal-chicago",
   "metadata": {},
   "source": [
    "Results are about the same. I'm going to try Linear SVC."
   ]
  },
  {
   "cell_type": "markdown",
   "id": "after-helen",
   "metadata": {},
   "source": [
    "# Linear SVC"
   ]
  },
  {
   "cell_type": "code",
   "execution_count": 58,
   "id": "facial-voltage",
   "metadata": {},
   "outputs": [
    {
     "name": "stderr",
     "output_type": "stream",
     "text": [
      "/opt/miniconda3/envs/conda_env/lib/python3.7/site-packages/sklearn/utils/validation.py:63: DataConversionWarning: A column-vector y was passed when a 1d array was expected. Please change the shape of y to (n_samples, ), for example using ravel().\n",
      "  return f(*args, **kwargs)\n"
     ]
    },
    {
     "name": "stdout",
     "output_type": "stream",
     "text": [
      "[[  0   0 447   0   0]\n",
      " [  0   0 447   0   0]\n",
      " [  0   0 436   0   0]\n",
      " [  0   0 434   0   0]\n",
      " [  0   0 436   0   0]]\n",
      "              precision    recall  f1-score   support\n",
      "\n",
      "           1       0.00      0.00      0.00       447\n",
      "           2       0.00      0.00      0.00       447\n",
      "           3       0.20      1.00      0.33       436\n",
      "           4       0.00      0.00      0.00       434\n",
      "           5       0.00      0.00      0.00       436\n",
      "\n",
      "    accuracy                           0.20      2200\n",
      "   macro avg       0.04      0.20      0.07      2200\n",
      "weighted avg       0.04      0.20      0.07      2200\n",
      "\n"
     ]
    },
    {
     "name": "stderr",
     "output_type": "stream",
     "text": [
      "/opt/miniconda3/envs/conda_env/lib/python3.7/site-packages/sklearn/svm/_base.py:986: ConvergenceWarning: Liblinear failed to converge, increase the number of iterations.\n",
      "  \"the number of iterations.\", ConvergenceWarning)\n",
      "/opt/miniconda3/envs/conda_env/lib/python3.7/site-packages/sklearn/metrics/_classification.py:1245: UndefinedMetricWarning: Precision and F-score are ill-defined and being set to 0.0 in labels with no predicted samples. Use `zero_division` parameter to control this behavior.\n",
      "  _warn_prf(average, modifier, msg_start, len(result))\n",
      "/opt/miniconda3/envs/conda_env/lib/python3.7/site-packages/sklearn/metrics/_classification.py:1245: UndefinedMetricWarning: Precision and F-score are ill-defined and being set to 0.0 in labels with no predicted samples. Use `zero_division` parameter to control this behavior.\n",
      "  _warn_prf(average, modifier, msg_start, len(result))\n",
      "/opt/miniconda3/envs/conda_env/lib/python3.7/site-packages/sklearn/metrics/_classification.py:1245: UndefinedMetricWarning: Precision and F-score are ill-defined and being set to 0.0 in labels with no predicted samples. Use `zero_division` parameter to control this behavior.\n",
      "  _warn_prf(average, modifier, msg_start, len(result))\n"
     ]
    }
   ],
   "source": [
    "from sklearn.svm import LinearSVC\n",
    "\n",
    "lsvc = LinearSVC()\n",
    "lsvc.fit(X_train_cr, y_train_cr)\n",
    "y_pred = lsvc.predict(X_test_cr)\n",
    "print(confusion_matrix(y_test_cr, y_pred))\n",
    "print(classification_report(y_test_cr, y_pred))"
   ]
  },
  {
   "cell_type": "markdown",
   "id": "sustainable-perry",
   "metadata": {},
   "source": [
    "# KNN"
   ]
  },
  {
   "cell_type": "code",
   "execution_count": 59,
   "id": "favorite-cover",
   "metadata": {},
   "outputs": [
    {
     "name": "stderr",
     "output_type": "stream",
     "text": [
      "/opt/miniconda3/envs/conda_env/lib/python3.7/site-packages/sklearn/neighbors/_classification.py:179: DataConversionWarning: A column-vector y was passed when a 1d array was expected. Please change the shape of y to (n_samples,), for example using ravel().\n",
      "  return self._fit(X, y)\n"
     ]
    },
    {
     "name": "stdout",
     "output_type": "stream",
     "text": [
      "[[136  92  92  78  49]\n",
      " [121 105  96  67  58]\n",
      " [122 106  99  63  46]\n",
      " [128  85  88  72  61]\n",
      " [117  90  89  82  58]]\n",
      "              precision    recall  f1-score   support\n",
      "\n",
      "           1       0.22      0.30      0.25       447\n",
      "           2       0.22      0.23      0.23       447\n",
      "           3       0.21      0.23      0.22       436\n",
      "           4       0.20      0.17      0.18       434\n",
      "           5       0.21      0.13      0.16       436\n",
      "\n",
      "    accuracy                           0.21      2200\n",
      "   macro avg       0.21      0.21      0.21      2200\n",
      "weighted avg       0.21      0.21      0.21      2200\n",
      "\n"
     ]
    }
   ],
   "source": [
    "knn = KNeighborsClassifier()\n",
    "knn.fit(X_train_cr, y_train_cr)\n",
    "y_pred = knn.predict(X_test_cr)\n",
    "print(confusion_matrix(y_test_cr, y_pred))\n",
    "print(classification_report(y_test_cr, y_pred))"
   ]
  },
  {
   "cell_type": "markdown",
   "id": "seven-midwest",
   "metadata": {},
   "source": [
    "# Decision Tree"
   ]
  },
  {
   "cell_type": "code",
   "execution_count": 60,
   "id": "regulated-bruce",
   "metadata": {},
   "outputs": [
    {
     "name": "stdout",
     "output_type": "stream",
     "text": [
      "[[96 99 73 86 93]\n",
      " [88 93 93 85 88]\n",
      " [76 95 96 70 99]\n",
      " [87 77 89 84 97]\n",
      " [91 89 85 86 85]]\n",
      "              precision    recall  f1-score   support\n",
      "\n",
      "           1       0.22      0.21      0.22       447\n",
      "           2       0.21      0.21      0.21       447\n",
      "           3       0.22      0.22      0.22       436\n",
      "           4       0.20      0.19      0.20       434\n",
      "           5       0.18      0.19      0.19       436\n",
      "\n",
      "    accuracy                           0.21      2200\n",
      "   macro avg       0.21      0.21      0.21      2200\n",
      "weighted avg       0.21      0.21      0.21      2200\n",
      "\n"
     ]
    }
   ],
   "source": [
    "# Decision tree\n",
    "tree = DecisionTreeClassifier()\n",
    "tree.fit(X_train_cr, y_train_cr)\n",
    "y_pred = tree.predict(X_test_cr)\n",
    "print(confusion_matrix(y_test_cr, y_pred))\n",
    "print(classification_report(y_test_cr, y_pred))"
   ]
  },
  {
   "cell_type": "markdown",
   "id": "european-frank",
   "metadata": {},
   "source": [
    "There doesn't seem to be a modeling method that can accurately predict the customer ratings. They all have an accuracy of about 20% which is the same probability as guessing any of the 5 ratings."
   ]
  }
 ],
 "metadata": {
  "kernelspec": {
   "display_name": "Python 3",
   "language": "python",
   "name": "python3"
  },
  "language_info": {
   "codemirror_mode": {
    "name": "ipython",
    "version": 3
   },
   "file_extension": ".py",
   "mimetype": "text/x-python",
   "name": "python",
   "nbconvert_exporter": "python",
   "pygments_lexer": "ipython3",
   "version": "3.7.9"
  }
 },
 "nbformat": 4,
 "nbformat_minor": 5
}
