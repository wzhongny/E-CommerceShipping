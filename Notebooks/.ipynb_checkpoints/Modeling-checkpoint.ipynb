{
 "cells": [
  {
   "cell_type": "markdown",
   "id": "weighted-cruise",
   "metadata": {},
   "source": [
    "# Models"
   ]
  },
  {
   "cell_type": "code",
   "execution_count": 1,
   "id": "cathedral-organization",
   "metadata": {},
   "outputs": [],
   "source": [
    "# import libraries\n",
    "import pandas as pd\n",
    "import numpy as np\n",
    "import matplotlib.pyplot as plt\n",
    "import seaborn as sns\n",
    "from sklearn.linear_model import LogisticRegression\n",
    "from sklearn.neighbors import KNeighborsClassifier\n",
    "from sklearn.ensemble import GradientBoostingClassifier\n",
    "from sklearn.metrics import classification_report, confusion_matrix\n",
    "from sklearn.model_selection import RandomizedSearchCV"
   ]
  },
  {
   "cell_type": "code",
   "execution_count": 2,
   "id": "comfortable-litigation",
   "metadata": {},
   "outputs": [
    {
     "data": {
      "text/html": [
       "<div>\n",
       "<style scoped>\n",
       "    .dataframe tbody tr th:only-of-type {\n",
       "        vertical-align: middle;\n",
       "    }\n",
       "\n",
       "    .dataframe tbody tr th {\n",
       "        vertical-align: top;\n",
       "    }\n",
       "\n",
       "    .dataframe thead th {\n",
       "        text-align: right;\n",
       "    }\n",
       "</style>\n",
       "<table border=\"1\" class=\"dataframe\">\n",
       "  <thead>\n",
       "    <tr style=\"text-align: right;\">\n",
       "      <th></th>\n",
       "      <th>Customer_care_calls</th>\n",
       "      <th>Customer_rating</th>\n",
       "      <th>Cost_of_the_Product</th>\n",
       "      <th>Prior_purchases</th>\n",
       "      <th>Discount_offered</th>\n",
       "      <th>Weight_in_gms</th>\n",
       "      <th>Warehouse_block_A</th>\n",
       "      <th>Warehouse_block_B</th>\n",
       "      <th>Warehouse_block_C</th>\n",
       "      <th>Warehouse_block_D</th>\n",
       "      <th>Warehouse_block_F</th>\n",
       "      <th>Mode_of_Shipment_Flight</th>\n",
       "      <th>Mode_of_Shipment_Road</th>\n",
       "      <th>Mode_of_Shipment_Ship</th>\n",
       "      <th>Product_importance_high</th>\n",
       "      <th>Product_importance_low</th>\n",
       "      <th>Product_importance_medium</th>\n",
       "      <th>Gender_F</th>\n",
       "    </tr>\n",
       "  </thead>\n",
       "  <tbody>\n",
       "    <tr>\n",
       "      <th>8442</th>\n",
       "      <td>3</td>\n",
       "      <td>5</td>\n",
       "      <td>252</td>\n",
       "      <td>2</td>\n",
       "      <td>4</td>\n",
       "      <td>4098</td>\n",
       "      <td>0</td>\n",
       "      <td>0</td>\n",
       "      <td>0</td>\n",
       "      <td>1</td>\n",
       "      <td>0</td>\n",
       "      <td>0</td>\n",
       "      <td>0</td>\n",
       "      <td>1</td>\n",
       "      <td>1</td>\n",
       "      <td>0</td>\n",
       "      <td>0</td>\n",
       "      <td>0</td>\n",
       "    </tr>\n",
       "    <tr>\n",
       "      <th>8368</th>\n",
       "      <td>4</td>\n",
       "      <td>4</td>\n",
       "      <td>147</td>\n",
       "      <td>3</td>\n",
       "      <td>9</td>\n",
       "      <td>4534</td>\n",
       "      <td>0</td>\n",
       "      <td>0</td>\n",
       "      <td>1</td>\n",
       "      <td>0</td>\n",
       "      <td>0</td>\n",
       "      <td>1</td>\n",
       "      <td>0</td>\n",
       "      <td>0</td>\n",
       "      <td>0</td>\n",
       "      <td>0</td>\n",
       "      <td>1</td>\n",
       "      <td>0</td>\n",
       "    </tr>\n",
       "    <tr>\n",
       "      <th>2972</th>\n",
       "      <td>3</td>\n",
       "      <td>4</td>\n",
       "      <td>228</td>\n",
       "      <td>2</td>\n",
       "      <td>46</td>\n",
       "      <td>3306</td>\n",
       "      <td>1</td>\n",
       "      <td>0</td>\n",
       "      <td>0</td>\n",
       "      <td>0</td>\n",
       "      <td>0</td>\n",
       "      <td>0</td>\n",
       "      <td>0</td>\n",
       "      <td>1</td>\n",
       "      <td>0</td>\n",
       "      <td>0</td>\n",
       "      <td>1</td>\n",
       "      <td>0</td>\n",
       "    </tr>\n",
       "    <tr>\n",
       "      <th>6561</th>\n",
       "      <td>6</td>\n",
       "      <td>2</td>\n",
       "      <td>161</td>\n",
       "      <td>4</td>\n",
       "      <td>9</td>\n",
       "      <td>1377</td>\n",
       "      <td>0</td>\n",
       "      <td>1</td>\n",
       "      <td>0</td>\n",
       "      <td>0</td>\n",
       "      <td>0</td>\n",
       "      <td>0</td>\n",
       "      <td>1</td>\n",
       "      <td>0</td>\n",
       "      <td>0</td>\n",
       "      <td>1</td>\n",
       "      <td>0</td>\n",
       "      <td>1</td>\n",
       "    </tr>\n",
       "    <tr>\n",
       "      <th>4885</th>\n",
       "      <td>5</td>\n",
       "      <td>1</td>\n",
       "      <td>172</td>\n",
       "      <td>2</td>\n",
       "      <td>7</td>\n",
       "      <td>5165</td>\n",
       "      <td>0</td>\n",
       "      <td>0</td>\n",
       "      <td>0</td>\n",
       "      <td>0</td>\n",
       "      <td>1</td>\n",
       "      <td>0</td>\n",
       "      <td>0</td>\n",
       "      <td>1</td>\n",
       "      <td>1</td>\n",
       "      <td>0</td>\n",
       "      <td>0</td>\n",
       "      <td>1</td>\n",
       "    </tr>\n",
       "  </tbody>\n",
       "</table>\n",
       "</div>"
      ],
      "text/plain": [
       "      Customer_care_calls  Customer_rating  Cost_of_the_Product  \\\n",
       "8442                    3                5                  252   \n",
       "8368                    4                4                  147   \n",
       "2972                    3                4                  228   \n",
       "6561                    6                2                  161   \n",
       "4885                    5                1                  172   \n",
       "\n",
       "      Prior_purchases  Discount_offered  Weight_in_gms  Warehouse_block_A  \\\n",
       "8442                2                 4           4098                  0   \n",
       "8368                3                 9           4534                  0   \n",
       "2972                2                46           3306                  1   \n",
       "6561                4                 9           1377                  0   \n",
       "4885                2                 7           5165                  0   \n",
       "\n",
       "      Warehouse_block_B  Warehouse_block_C  Warehouse_block_D  \\\n",
       "8442                  0                  0                  1   \n",
       "8368                  0                  1                  0   \n",
       "2972                  0                  0                  0   \n",
       "6561                  1                  0                  0   \n",
       "4885                  0                  0                  0   \n",
       "\n",
       "      Warehouse_block_F  Mode_of_Shipment_Flight  Mode_of_Shipment_Road  \\\n",
       "8442                  0                        0                      0   \n",
       "8368                  0                        1                      0   \n",
       "2972                  0                        0                      0   \n",
       "6561                  0                        0                      1   \n",
       "4885                  1                        0                      0   \n",
       "\n",
       "      Mode_of_Shipment_Ship  Product_importance_high  Product_importance_low  \\\n",
       "8442                      1                        1                       0   \n",
       "8368                      0                        0                       0   \n",
       "2972                      1                        0                       0   \n",
       "6561                      0                        0                       1   \n",
       "4885                      1                        1                       0   \n",
       "\n",
       "      Product_importance_medium  Gender_F  \n",
       "8442                          0         0  \n",
       "8368                          1         0  \n",
       "2972                          1         0  \n",
       "6561                          0         1  \n",
       "4885                          0         1  "
      ]
     },
     "execution_count": 2,
     "metadata": {},
     "output_type": "execute_result"
    }
   ],
   "source": [
    "X_test_ot = pd.read_csv('X_test_ot.csv', index_col=0)\n",
    "X_test_ot.head()"
   ]
  },
  {
   "cell_type": "code",
   "execution_count": 3,
   "id": "colored-lightning",
   "metadata": {},
   "outputs": [
    {
     "data": {
      "text/html": [
       "<div>\n",
       "<style scoped>\n",
       "    .dataframe tbody tr th:only-of-type {\n",
       "        vertical-align: middle;\n",
       "    }\n",
       "\n",
       "    .dataframe tbody tr th {\n",
       "        vertical-align: top;\n",
       "    }\n",
       "\n",
       "    .dataframe thead th {\n",
       "        text-align: right;\n",
       "    }\n",
       "</style>\n",
       "<table border=\"1\" class=\"dataframe\">\n",
       "  <thead>\n",
       "    <tr style=\"text-align: right;\">\n",
       "      <th></th>\n",
       "      <th>Customer_care_calls</th>\n",
       "      <th>Customer_rating</th>\n",
       "      <th>Cost_of_the_Product</th>\n",
       "      <th>Prior_purchases</th>\n",
       "      <th>Discount_offered</th>\n",
       "      <th>Weight_in_gms</th>\n",
       "      <th>Warehouse_block_A</th>\n",
       "      <th>Warehouse_block_B</th>\n",
       "      <th>Warehouse_block_C</th>\n",
       "      <th>Warehouse_block_D</th>\n",
       "      <th>Warehouse_block_F</th>\n",
       "      <th>Mode_of_Shipment_Flight</th>\n",
       "      <th>Mode_of_Shipment_Road</th>\n",
       "      <th>Mode_of_Shipment_Ship</th>\n",
       "      <th>Product_importance_high</th>\n",
       "      <th>Product_importance_low</th>\n",
       "      <th>Product_importance_medium</th>\n",
       "      <th>Gender_F</th>\n",
       "    </tr>\n",
       "  </thead>\n",
       "  <tbody>\n",
       "    <tr>\n",
       "      <th>0</th>\n",
       "      <td>-0.931185</td>\n",
       "      <td>1.421113</td>\n",
       "      <td>0.870934</td>\n",
       "      <td>-1.027856</td>\n",
       "      <td>-0.577007</td>\n",
       "      <td>0.284948</td>\n",
       "      <td>-0.451142</td>\n",
       "      <td>-0.445841</td>\n",
       "      <td>-0.445291</td>\n",
       "      <td>2.213912</td>\n",
       "      <td>-0.70205</td>\n",
       "      <td>-0.442723</td>\n",
       "      <td>-0.436834</td>\n",
       "      <td>0.692510</td>\n",
       "      <td>3.283156</td>\n",
       "      <td>-0.963064</td>\n",
       "      <td>-0.875507</td>\n",
       "      <td>-1.019163</td>\n",
       "    </tr>\n",
       "    <tr>\n",
       "      <th>1</th>\n",
       "      <td>-0.050069</td>\n",
       "      <td>0.713332</td>\n",
       "      <td>-1.317772</td>\n",
       "      <td>-0.372248</td>\n",
       "      <td>-0.268145</td>\n",
       "      <td>0.552375</td>\n",
       "      <td>-0.451142</td>\n",
       "      <td>-0.445841</td>\n",
       "      <td>2.245722</td>\n",
       "      <td>-0.451689</td>\n",
       "      <td>-0.70205</td>\n",
       "      <td>2.258748</td>\n",
       "      <td>-0.436834</td>\n",
       "      <td>-1.444023</td>\n",
       "      <td>-0.304585</td>\n",
       "      <td>-0.963064</td>\n",
       "      <td>1.142195</td>\n",
       "      <td>-1.019163</td>\n",
       "    </tr>\n",
       "    <tr>\n",
       "      <th>2</th>\n",
       "      <td>-0.931185</td>\n",
       "      <td>0.713332</td>\n",
       "      <td>0.370658</td>\n",
       "      <td>-1.027856</td>\n",
       "      <td>2.017441</td>\n",
       "      <td>-0.200837</td>\n",
       "      <td>2.216598</td>\n",
       "      <td>-0.445841</td>\n",
       "      <td>-0.445291</td>\n",
       "      <td>-0.451689</td>\n",
       "      <td>-0.70205</td>\n",
       "      <td>-0.442723</td>\n",
       "      <td>-0.436834</td>\n",
       "      <td>0.692510</td>\n",
       "      <td>-0.304585</td>\n",
       "      <td>-0.963064</td>\n",
       "      <td>1.142195</td>\n",
       "      <td>-1.019163</td>\n",
       "    </tr>\n",
       "    <tr>\n",
       "      <th>3</th>\n",
       "      <td>1.712162</td>\n",
       "      <td>-0.702231</td>\n",
       "      <td>-1.025945</td>\n",
       "      <td>0.283359</td>\n",
       "      <td>-0.268145</td>\n",
       "      <td>-1.384019</td>\n",
       "      <td>-0.451142</td>\n",
       "      <td>2.242954</td>\n",
       "      <td>-0.445291</td>\n",
       "      <td>-0.451689</td>\n",
       "      <td>-0.70205</td>\n",
       "      <td>-0.442723</td>\n",
       "      <td>2.289198</td>\n",
       "      <td>-1.444023</td>\n",
       "      <td>-0.304585</td>\n",
       "      <td>1.038353</td>\n",
       "      <td>-0.875507</td>\n",
       "      <td>0.981197</td>\n",
       "    </tr>\n",
       "    <tr>\n",
       "      <th>4</th>\n",
       "      <td>0.831047</td>\n",
       "      <td>-1.410013</td>\n",
       "      <td>-0.796652</td>\n",
       "      <td>-1.027856</td>\n",
       "      <td>-0.391690</td>\n",
       "      <td>0.939408</td>\n",
       "      <td>-0.451142</td>\n",
       "      <td>-0.445841</td>\n",
       "      <td>-0.445291</td>\n",
       "      <td>-0.451689</td>\n",
       "      <td>1.42440</td>\n",
       "      <td>-0.442723</td>\n",
       "      <td>-0.436834</td>\n",
       "      <td>0.692510</td>\n",
       "      <td>3.283156</td>\n",
       "      <td>-0.963064</td>\n",
       "      <td>-0.875507</td>\n",
       "      <td>0.981197</td>\n",
       "    </tr>\n",
       "  </tbody>\n",
       "</table>\n",
       "</div>"
      ],
      "text/plain": [
       "   Customer_care_calls  Customer_rating  Cost_of_the_Product  Prior_purchases  \\\n",
       "0            -0.931185         1.421113             0.870934        -1.027856   \n",
       "1            -0.050069         0.713332            -1.317772        -0.372248   \n",
       "2            -0.931185         0.713332             0.370658        -1.027856   \n",
       "3             1.712162        -0.702231            -1.025945         0.283359   \n",
       "4             0.831047        -1.410013            -0.796652        -1.027856   \n",
       "\n",
       "   Discount_offered  Weight_in_gms  Warehouse_block_A  Warehouse_block_B  \\\n",
       "0         -0.577007       0.284948          -0.451142          -0.445841   \n",
       "1         -0.268145       0.552375          -0.451142          -0.445841   \n",
       "2          2.017441      -0.200837           2.216598          -0.445841   \n",
       "3         -0.268145      -1.384019          -0.451142           2.242954   \n",
       "4         -0.391690       0.939408          -0.451142          -0.445841   \n",
       "\n",
       "   Warehouse_block_C  Warehouse_block_D  Warehouse_block_F  \\\n",
       "0          -0.445291           2.213912           -0.70205   \n",
       "1           2.245722          -0.451689           -0.70205   \n",
       "2          -0.445291          -0.451689           -0.70205   \n",
       "3          -0.445291          -0.451689           -0.70205   \n",
       "4          -0.445291          -0.451689            1.42440   \n",
       "\n",
       "   Mode_of_Shipment_Flight  Mode_of_Shipment_Road  Mode_of_Shipment_Ship  \\\n",
       "0                -0.442723              -0.436834               0.692510   \n",
       "1                 2.258748              -0.436834              -1.444023   \n",
       "2                -0.442723              -0.436834               0.692510   \n",
       "3                -0.442723               2.289198              -1.444023   \n",
       "4                -0.442723              -0.436834               0.692510   \n",
       "\n",
       "   Product_importance_high  Product_importance_low  Product_importance_medium  \\\n",
       "0                 3.283156               -0.963064                  -0.875507   \n",
       "1                -0.304585               -0.963064                   1.142195   \n",
       "2                -0.304585               -0.963064                   1.142195   \n",
       "3                -0.304585                1.038353                  -0.875507   \n",
       "4                 3.283156               -0.963064                  -0.875507   \n",
       "\n",
       "   Gender_F  \n",
       "0 -1.019163  \n",
       "1 -1.019163  \n",
       "2 -1.019163  \n",
       "3  0.981197  \n",
       "4  0.981197  "
      ]
     },
     "execution_count": 3,
     "metadata": {},
     "output_type": "execute_result"
    }
   ],
   "source": [
    "X_test_ot_scaled = pd.read_csv('X_test_ot_scaled.csv', index_col=0)\n",
    "X_test_ot_scaled.head()"
   ]
  },
  {
   "cell_type": "code",
   "execution_count": 4,
   "id": "liked-shape",
   "metadata": {},
   "outputs": [
    {
     "data": {
      "text/html": [
       "<div>\n",
       "<style scoped>\n",
       "    .dataframe tbody tr th:only-of-type {\n",
       "        vertical-align: middle;\n",
       "    }\n",
       "\n",
       "    .dataframe tbody tr th {\n",
       "        vertical-align: top;\n",
       "    }\n",
       "\n",
       "    .dataframe thead th {\n",
       "        text-align: right;\n",
       "    }\n",
       "</style>\n",
       "<table border=\"1\" class=\"dataframe\">\n",
       "  <thead>\n",
       "    <tr style=\"text-align: right;\">\n",
       "      <th></th>\n",
       "      <th>Customer_care_calls</th>\n",
       "      <th>Customer_rating</th>\n",
       "      <th>Cost_of_the_Product</th>\n",
       "      <th>Prior_purchases</th>\n",
       "      <th>Discount_offered</th>\n",
       "      <th>Weight_in_gms</th>\n",
       "      <th>Warehouse_block_A</th>\n",
       "      <th>Warehouse_block_B</th>\n",
       "      <th>Warehouse_block_C</th>\n",
       "      <th>Warehouse_block_D</th>\n",
       "      <th>Warehouse_block_F</th>\n",
       "      <th>Mode_of_Shipment_Flight</th>\n",
       "      <th>Mode_of_Shipment_Road</th>\n",
       "      <th>Mode_of_Shipment_Ship</th>\n",
       "      <th>Product_importance_high</th>\n",
       "      <th>Product_importance_low</th>\n",
       "      <th>Product_importance_medium</th>\n",
       "      <th>Gender_F</th>\n",
       "    </tr>\n",
       "  </thead>\n",
       "  <tbody>\n",
       "    <tr>\n",
       "      <th>8077</th>\n",
       "      <td>4</td>\n",
       "      <td>4</td>\n",
       "      <td>155</td>\n",
       "      <td>4</td>\n",
       "      <td>10</td>\n",
       "      <td>5483</td>\n",
       "      <td>0</td>\n",
       "      <td>0</td>\n",
       "      <td>0</td>\n",
       "      <td>0</td>\n",
       "      <td>1</td>\n",
       "      <td>0</td>\n",
       "      <td>1</td>\n",
       "      <td>0</td>\n",
       "      <td>0</td>\n",
       "      <td>1</td>\n",
       "      <td>0</td>\n",
       "      <td>1</td>\n",
       "    </tr>\n",
       "    <tr>\n",
       "      <th>4688</th>\n",
       "      <td>3</td>\n",
       "      <td>4</td>\n",
       "      <td>254</td>\n",
       "      <td>3</td>\n",
       "      <td>6</td>\n",
       "      <td>5716</td>\n",
       "      <td>1</td>\n",
       "      <td>0</td>\n",
       "      <td>0</td>\n",
       "      <td>0</td>\n",
       "      <td>0</td>\n",
       "      <td>0</td>\n",
       "      <td>0</td>\n",
       "      <td>1</td>\n",
       "      <td>0</td>\n",
       "      <td>0</td>\n",
       "      <td>1</td>\n",
       "      <td>0</td>\n",
       "    </tr>\n",
       "    <tr>\n",
       "      <th>10754</th>\n",
       "      <td>5</td>\n",
       "      <td>5</td>\n",
       "      <td>227</td>\n",
       "      <td>5</td>\n",
       "      <td>5</td>\n",
       "      <td>1186</td>\n",
       "      <td>1</td>\n",
       "      <td>0</td>\n",
       "      <td>0</td>\n",
       "      <td>0</td>\n",
       "      <td>0</td>\n",
       "      <td>0</td>\n",
       "      <td>0</td>\n",
       "      <td>1</td>\n",
       "      <td>0</td>\n",
       "      <td>0</td>\n",
       "      <td>1</td>\n",
       "      <td>0</td>\n",
       "    </tr>\n",
       "    <tr>\n",
       "      <th>3390</th>\n",
       "      <td>5</td>\n",
       "      <td>4</td>\n",
       "      <td>273</td>\n",
       "      <td>3</td>\n",
       "      <td>6</td>\n",
       "      <td>4044</td>\n",
       "      <td>0</td>\n",
       "      <td>0</td>\n",
       "      <td>0</td>\n",
       "      <td>1</td>\n",
       "      <td>0</td>\n",
       "      <td>0</td>\n",
       "      <td>0</td>\n",
       "      <td>1</td>\n",
       "      <td>0</td>\n",
       "      <td>0</td>\n",
       "      <td>1</td>\n",
       "      <td>0</td>\n",
       "    </tr>\n",
       "    <tr>\n",
       "      <th>693</th>\n",
       "      <td>3</td>\n",
       "      <td>3</td>\n",
       "      <td>207</td>\n",
       "      <td>7</td>\n",
       "      <td>19</td>\n",
       "      <td>2182</td>\n",
       "      <td>0</td>\n",
       "      <td>1</td>\n",
       "      <td>0</td>\n",
       "      <td>0</td>\n",
       "      <td>0</td>\n",
       "      <td>1</td>\n",
       "      <td>0</td>\n",
       "      <td>0</td>\n",
       "      <td>0</td>\n",
       "      <td>0</td>\n",
       "      <td>1</td>\n",
       "      <td>0</td>\n",
       "    </tr>\n",
       "  </tbody>\n",
       "</table>\n",
       "</div>"
      ],
      "text/plain": [
       "       Customer_care_calls  Customer_rating  Cost_of_the_Product  \\\n",
       "8077                     4                4                  155   \n",
       "4688                     3                4                  254   \n",
       "10754                    5                5                  227   \n",
       "3390                     5                4                  273   \n",
       "693                      3                3                  207   \n",
       "\n",
       "       Prior_purchases  Discount_offered  Weight_in_gms  Warehouse_block_A  \\\n",
       "8077                 4                10           5483                  0   \n",
       "4688                 3                 6           5716                  1   \n",
       "10754                5                 5           1186                  1   \n",
       "3390                 3                 6           4044                  0   \n",
       "693                  7                19           2182                  0   \n",
       "\n",
       "       Warehouse_block_B  Warehouse_block_C  Warehouse_block_D  \\\n",
       "8077                   0                  0                  0   \n",
       "4688                   0                  0                  0   \n",
       "10754                  0                  0                  0   \n",
       "3390                   0                  0                  1   \n",
       "693                    1                  0                  0   \n",
       "\n",
       "       Warehouse_block_F  Mode_of_Shipment_Flight  Mode_of_Shipment_Road  \\\n",
       "8077                   1                        0                      1   \n",
       "4688                   0                        0                      0   \n",
       "10754                  0                        0                      0   \n",
       "3390                   0                        0                      0   \n",
       "693                    0                        1                      0   \n",
       "\n",
       "       Mode_of_Shipment_Ship  Product_importance_high  Product_importance_low  \\\n",
       "8077                       0                        0                       1   \n",
       "4688                       1                        0                       0   \n",
       "10754                      1                        0                       0   \n",
       "3390                       1                        0                       0   \n",
       "693                        0                        0                       0   \n",
       "\n",
       "       Product_importance_medium  Gender_F  \n",
       "8077                           0         1  \n",
       "4688                           1         0  \n",
       "10754                          1         0  \n",
       "3390                           1         0  \n",
       "693                            1         0  "
      ]
     },
     "execution_count": 4,
     "metadata": {},
     "output_type": "execute_result"
    }
   ],
   "source": [
    "X_train_ot = pd.read_csv('X_train_ot.csv', index_col=0)\n",
    "X_train_ot.head()"
   ]
  },
  {
   "cell_type": "code",
   "execution_count": 5,
   "id": "checked-matrix",
   "metadata": {},
   "outputs": [
    {
     "data": {
      "text/html": [
       "<div>\n",
       "<style scoped>\n",
       "    .dataframe tbody tr th:only-of-type {\n",
       "        vertical-align: middle;\n",
       "    }\n",
       "\n",
       "    .dataframe tbody tr th {\n",
       "        vertical-align: top;\n",
       "    }\n",
       "\n",
       "    .dataframe thead th {\n",
       "        text-align: right;\n",
       "    }\n",
       "</style>\n",
       "<table border=\"1\" class=\"dataframe\">\n",
       "  <thead>\n",
       "    <tr style=\"text-align: right;\">\n",
       "      <th></th>\n",
       "      <th>Customer_care_calls</th>\n",
       "      <th>Customer_rating</th>\n",
       "      <th>Cost_of_the_Product</th>\n",
       "      <th>Prior_purchases</th>\n",
       "      <th>Discount_offered</th>\n",
       "      <th>Weight_in_gms</th>\n",
       "      <th>Warehouse_block_A</th>\n",
       "      <th>Warehouse_block_B</th>\n",
       "      <th>Warehouse_block_C</th>\n",
       "      <th>Warehouse_block_D</th>\n",
       "      <th>Warehouse_block_F</th>\n",
       "      <th>Mode_of_Shipment_Flight</th>\n",
       "      <th>Mode_of_Shipment_Road</th>\n",
       "      <th>Mode_of_Shipment_Ship</th>\n",
       "      <th>Product_importance_high</th>\n",
       "      <th>Product_importance_low</th>\n",
       "      <th>Product_importance_medium</th>\n",
       "      <th>Gender_F</th>\n",
       "    </tr>\n",
       "  </thead>\n",
       "  <tbody>\n",
       "    <tr>\n",
       "      <th>0</th>\n",
       "      <td>-0.050069</td>\n",
       "      <td>0.713332</td>\n",
       "      <td>-1.151014</td>\n",
       "      <td>0.283359</td>\n",
       "      <td>-0.206372</td>\n",
       "      <td>1.134459</td>\n",
       "      <td>-0.451142</td>\n",
       "      <td>-0.445841</td>\n",
       "      <td>-0.445291</td>\n",
       "      <td>-0.451689</td>\n",
       "      <td>1.42440</td>\n",
       "      <td>-0.442723</td>\n",
       "      <td>2.289198</td>\n",
       "      <td>-1.444023</td>\n",
       "      <td>-0.304585</td>\n",
       "      <td>1.038353</td>\n",
       "      <td>-0.875507</td>\n",
       "      <td>0.981197</td>\n",
       "    </tr>\n",
       "    <tr>\n",
       "      <th>1</th>\n",
       "      <td>-0.931185</td>\n",
       "      <td>0.713332</td>\n",
       "      <td>0.912624</td>\n",
       "      <td>-0.372248</td>\n",
       "      <td>-0.453462</td>\n",
       "      <td>1.277373</td>\n",
       "      <td>2.216598</td>\n",
       "      <td>-0.445841</td>\n",
       "      <td>-0.445291</td>\n",
       "      <td>-0.451689</td>\n",
       "      <td>-0.70205</td>\n",
       "      <td>-0.442723</td>\n",
       "      <td>-0.436834</td>\n",
       "      <td>0.692510</td>\n",
       "      <td>-0.304585</td>\n",
       "      <td>-0.963064</td>\n",
       "      <td>1.142195</td>\n",
       "      <td>-1.019163</td>\n",
       "    </tr>\n",
       "    <tr>\n",
       "      <th>2</th>\n",
       "      <td>0.831047</td>\n",
       "      <td>1.421113</td>\n",
       "      <td>0.349813</td>\n",
       "      <td>0.938966</td>\n",
       "      <td>-0.515235</td>\n",
       "      <td>-1.501171</td>\n",
       "      <td>2.216598</td>\n",
       "      <td>-0.445841</td>\n",
       "      <td>-0.445291</td>\n",
       "      <td>-0.451689</td>\n",
       "      <td>-0.70205</td>\n",
       "      <td>-0.442723</td>\n",
       "      <td>-0.436834</td>\n",
       "      <td>0.692510</td>\n",
       "      <td>-0.304585</td>\n",
       "      <td>-0.963064</td>\n",
       "      <td>1.142195</td>\n",
       "      <td>-1.019163</td>\n",
       "    </tr>\n",
       "    <tr>\n",
       "      <th>3</th>\n",
       "      <td>0.831047</td>\n",
       "      <td>0.713332</td>\n",
       "      <td>1.308675</td>\n",
       "      <td>-0.372248</td>\n",
       "      <td>-0.453462</td>\n",
       "      <td>0.251826</td>\n",
       "      <td>-0.451142</td>\n",
       "      <td>-0.445841</td>\n",
       "      <td>-0.445291</td>\n",
       "      <td>2.213912</td>\n",
       "      <td>-0.70205</td>\n",
       "      <td>-0.442723</td>\n",
       "      <td>-0.436834</td>\n",
       "      <td>0.692510</td>\n",
       "      <td>-0.304585</td>\n",
       "      <td>-0.963064</td>\n",
       "      <td>1.142195</td>\n",
       "      <td>-1.019163</td>\n",
       "    </tr>\n",
       "    <tr>\n",
       "      <th>4</th>\n",
       "      <td>-0.931185</td>\n",
       "      <td>0.005550</td>\n",
       "      <td>-0.067083</td>\n",
       "      <td>2.250181</td>\n",
       "      <td>0.349581</td>\n",
       "      <td>-0.890260</td>\n",
       "      <td>-0.451142</td>\n",
       "      <td>2.242954</td>\n",
       "      <td>-0.445291</td>\n",
       "      <td>-0.451689</td>\n",
       "      <td>-0.70205</td>\n",
       "      <td>2.258748</td>\n",
       "      <td>-0.436834</td>\n",
       "      <td>-1.444023</td>\n",
       "      <td>-0.304585</td>\n",
       "      <td>-0.963064</td>\n",
       "      <td>1.142195</td>\n",
       "      <td>-1.019163</td>\n",
       "    </tr>\n",
       "  </tbody>\n",
       "</table>\n",
       "</div>"
      ],
      "text/plain": [
       "   Customer_care_calls  Customer_rating  Cost_of_the_Product  Prior_purchases  \\\n",
       "0            -0.050069         0.713332            -1.151014         0.283359   \n",
       "1            -0.931185         0.713332             0.912624        -0.372248   \n",
       "2             0.831047         1.421113             0.349813         0.938966   \n",
       "3             0.831047         0.713332             1.308675        -0.372248   \n",
       "4            -0.931185         0.005550            -0.067083         2.250181   \n",
       "\n",
       "   Discount_offered  Weight_in_gms  Warehouse_block_A  Warehouse_block_B  \\\n",
       "0         -0.206372       1.134459          -0.451142          -0.445841   \n",
       "1         -0.453462       1.277373           2.216598          -0.445841   \n",
       "2         -0.515235      -1.501171           2.216598          -0.445841   \n",
       "3         -0.453462       0.251826          -0.451142          -0.445841   \n",
       "4          0.349581      -0.890260          -0.451142           2.242954   \n",
       "\n",
       "   Warehouse_block_C  Warehouse_block_D  Warehouse_block_F  \\\n",
       "0          -0.445291          -0.451689            1.42440   \n",
       "1          -0.445291          -0.451689           -0.70205   \n",
       "2          -0.445291          -0.451689           -0.70205   \n",
       "3          -0.445291           2.213912           -0.70205   \n",
       "4          -0.445291          -0.451689           -0.70205   \n",
       "\n",
       "   Mode_of_Shipment_Flight  Mode_of_Shipment_Road  Mode_of_Shipment_Ship  \\\n",
       "0                -0.442723               2.289198              -1.444023   \n",
       "1                -0.442723              -0.436834               0.692510   \n",
       "2                -0.442723              -0.436834               0.692510   \n",
       "3                -0.442723              -0.436834               0.692510   \n",
       "4                 2.258748              -0.436834              -1.444023   \n",
       "\n",
       "   Product_importance_high  Product_importance_low  Product_importance_medium  \\\n",
       "0                -0.304585                1.038353                  -0.875507   \n",
       "1                -0.304585               -0.963064                   1.142195   \n",
       "2                -0.304585               -0.963064                   1.142195   \n",
       "3                -0.304585               -0.963064                   1.142195   \n",
       "4                -0.304585               -0.963064                   1.142195   \n",
       "\n",
       "   Gender_F  \n",
       "0  0.981197  \n",
       "1 -1.019163  \n",
       "2 -1.019163  \n",
       "3 -1.019163  \n",
       "4 -1.019163  "
      ]
     },
     "execution_count": 5,
     "metadata": {},
     "output_type": "execute_result"
    }
   ],
   "source": [
    "X_train_ot_scaled = pd.read_csv('X_train_ot_scaled.csv', index_col=0)\n",
    "X_train_ot_scaled.head()"
   ]
  },
  {
   "cell_type": "code",
   "execution_count": 6,
   "id": "polar-medicare",
   "metadata": {},
   "outputs": [
    {
     "data": {
      "text/html": [
       "<div>\n",
       "<style scoped>\n",
       "    .dataframe tbody tr th:only-of-type {\n",
       "        vertical-align: middle;\n",
       "    }\n",
       "\n",
       "    .dataframe tbody tr th {\n",
       "        vertical-align: top;\n",
       "    }\n",
       "\n",
       "    .dataframe thead th {\n",
       "        text-align: right;\n",
       "    }\n",
       "</style>\n",
       "<table border=\"1\" class=\"dataframe\">\n",
       "  <thead>\n",
       "    <tr style=\"text-align: right;\">\n",
       "      <th></th>\n",
       "      <th>On_time</th>\n",
       "    </tr>\n",
       "  </thead>\n",
       "  <tbody>\n",
       "    <tr>\n",
       "      <th>8442</th>\n",
       "      <td>1</td>\n",
       "    </tr>\n",
       "    <tr>\n",
       "      <th>8368</th>\n",
       "      <td>1</td>\n",
       "    </tr>\n",
       "    <tr>\n",
       "      <th>2972</th>\n",
       "      <td>1</td>\n",
       "    </tr>\n",
       "    <tr>\n",
       "      <th>6561</th>\n",
       "      <td>0</td>\n",
       "    </tr>\n",
       "    <tr>\n",
       "      <th>4885</th>\n",
       "      <td>0</td>\n",
       "    </tr>\n",
       "  </tbody>\n",
       "</table>\n",
       "</div>"
      ],
      "text/plain": [
       "      On_time\n",
       "8442        1\n",
       "8368        1\n",
       "2972        1\n",
       "6561        0\n",
       "4885        0"
      ]
     },
     "execution_count": 6,
     "metadata": {},
     "output_type": "execute_result"
    }
   ],
   "source": [
    "y_test_ot = pd.read_csv('y_test_ot.csv', index_col=0)\n",
    "y_test_ot.head()"
   ]
  },
  {
   "cell_type": "code",
   "execution_count": 7,
   "id": "antique-finland",
   "metadata": {},
   "outputs": [
    {
     "data": {
      "text/html": [
       "<div>\n",
       "<style scoped>\n",
       "    .dataframe tbody tr th:only-of-type {\n",
       "        vertical-align: middle;\n",
       "    }\n",
       "\n",
       "    .dataframe tbody tr th {\n",
       "        vertical-align: top;\n",
       "    }\n",
       "\n",
       "    .dataframe thead th {\n",
       "        text-align: right;\n",
       "    }\n",
       "</style>\n",
       "<table border=\"1\" class=\"dataframe\">\n",
       "  <thead>\n",
       "    <tr style=\"text-align: right;\">\n",
       "      <th></th>\n",
       "      <th>On_time</th>\n",
       "    </tr>\n",
       "  </thead>\n",
       "  <tbody>\n",
       "    <tr>\n",
       "      <th>8077</th>\n",
       "      <td>1</td>\n",
       "    </tr>\n",
       "    <tr>\n",
       "      <th>4688</th>\n",
       "      <td>0</td>\n",
       "    </tr>\n",
       "    <tr>\n",
       "      <th>10754</th>\n",
       "      <td>0</td>\n",
       "    </tr>\n",
       "    <tr>\n",
       "      <th>3390</th>\n",
       "      <td>1</td>\n",
       "    </tr>\n",
       "    <tr>\n",
       "      <th>693</th>\n",
       "      <td>1</td>\n",
       "    </tr>\n",
       "  </tbody>\n",
       "</table>\n",
       "</div>"
      ],
      "text/plain": [
       "       On_time\n",
       "8077         1\n",
       "4688         0\n",
       "10754        0\n",
       "3390         1\n",
       "693          1"
      ]
     },
     "execution_count": 7,
     "metadata": {},
     "output_type": "execute_result"
    }
   ],
   "source": [
    "y_train_ot = pd.read_csv('y_train_ot.csv', index_col=0)\n",
    "y_train_ot.head()"
   ]
  },
  {
   "cell_type": "code",
   "execution_count": 8,
   "id": "protecting-parallel",
   "metadata": {},
   "outputs": [],
   "source": [
    "y_test_ot = y_test_ot['On_time'].to_numpy()"
   ]
  },
  {
   "cell_type": "code",
   "execution_count": 9,
   "id": "guilty-savage",
   "metadata": {},
   "outputs": [],
   "source": [
    "y_train_ot = y_train_ot['On_time'].to_numpy()"
   ]
  },
  {
   "cell_type": "markdown",
   "id": "julian-relay",
   "metadata": {},
   "source": [
    "# Logistic Regression"
   ]
  },
  {
   "cell_type": "code",
   "execution_count": 10,
   "id": "exclusive-hierarchy",
   "metadata": {},
   "outputs": [
    {
     "data": {
      "text/plain": [
       "LogisticRegression()"
      ]
     },
     "execution_count": 10,
     "metadata": {},
     "output_type": "execute_result"
    }
   ],
   "source": [
    "# baseline logistic regression model for On_time prediction\n",
    "lg = LogisticRegression()\n",
    "lg.fit(X_train_ot, y_train_ot)"
   ]
  },
  {
   "cell_type": "code",
   "execution_count": 11,
   "id": "excessive-operation",
   "metadata": {},
   "outputs": [
    {
     "name": "stdout",
     "output_type": "stream",
     "text": [
      "[[514 355]\n",
      " [456 875]]\n",
      "              precision    recall  f1-score   support\n",
      "\n",
      "           0       0.53      0.59      0.56       869\n",
      "           1       0.71      0.66      0.68      1331\n",
      "\n",
      "    accuracy                           0.63      2200\n",
      "   macro avg       0.62      0.62      0.62      2200\n",
      "weighted avg       0.64      0.63      0.63      2200\n",
      "\n"
     ]
    }
   ],
   "source": [
    "y_pred_ot = lg.predict(X_test_ot)\n",
    "print(confusion_matrix(y_test_ot, y_pred_ot))\n",
    "print(classification_report(y_test_ot, y_pred_ot))"
   ]
  },
  {
   "cell_type": "markdown",
   "id": "pending-thing",
   "metadata": {},
   "source": [
    "# KNN"
   ]
  },
  {
   "cell_type": "code",
   "execution_count": 12,
   "id": "weird-mustang",
   "metadata": {},
   "outputs": [
    {
     "data": {
      "text/plain": [
       "KNeighborsClassifier()"
      ]
     },
     "execution_count": 12,
     "metadata": {},
     "output_type": "execute_result"
    }
   ],
   "source": [
    "# baseline knn model for On_time prediction\n",
    "knn = KNeighborsClassifier()\n",
    "knn.fit(X_train_ot, y_train_ot)"
   ]
  },
  {
   "cell_type": "code",
   "execution_count": 13,
   "id": "serial-bronze",
   "metadata": {},
   "outputs": [
    {
     "name": "stdout",
     "output_type": "stream",
     "text": [
      "[[565 304]\n",
      " [434 897]]\n",
      "              precision    recall  f1-score   support\n",
      "\n",
      "           0       0.57      0.65      0.60       869\n",
      "           1       0.75      0.67      0.71      1331\n",
      "\n",
      "    accuracy                           0.66      2200\n",
      "   macro avg       0.66      0.66      0.66      2200\n",
      "weighted avg       0.68      0.66      0.67      2200\n",
      "\n"
     ]
    }
   ],
   "source": [
    "y_pred_ot2 = knn.predict(X_test_ot)\n",
    "print(confusion_matrix(y_test_ot, y_pred_ot2))\n",
    "print(classification_report(y_test_ot, y_pred_ot2))"
   ]
  },
  {
   "cell_type": "markdown",
   "id": "radical-mattress",
   "metadata": {},
   "source": [
    "KNN so far looks better than logistic regression. We want to limit false positives (predict product on time but actually not on time). 0 indicates product reached on time and 1 indicates product did not reach on time. (0=Positive, 1=Negative) LG = 456 false positives vs KNN = 434 false positives. We want to optimize precision for 0. Precision: 0.53 vs 0.57 in favor of KNN."
   ]
  },
  {
   "cell_type": "markdown",
   "id": "frozen-sapphire",
   "metadata": {},
   "source": [
    "# Modeling Scaled Data Sets"
   ]
  },
  {
   "cell_type": "code",
   "execution_count": 14,
   "id": "valid-replacement",
   "metadata": {},
   "outputs": [
    {
     "data": {
      "text/plain": [
       "LogisticRegression()"
      ]
     },
     "execution_count": 14,
     "metadata": {},
     "output_type": "execute_result"
    }
   ],
   "source": [
    "# logistic regression with X scaled\n",
    "lg_scaled = LogisticRegression()\n",
    "lg_scaled.fit(X_train_ot_scaled, y_train_ot)"
   ]
  },
  {
   "cell_type": "code",
   "execution_count": 15,
   "id": "protecting-carbon",
   "metadata": {},
   "outputs": [
    {
     "name": "stdout",
     "output_type": "stream",
     "text": [
      "[[504 365]\n",
      " [443 888]]\n",
      "              precision    recall  f1-score   support\n",
      "\n",
      "           0       0.53      0.58      0.56       869\n",
      "           1       0.71      0.67      0.69      1331\n",
      "\n",
      "    accuracy                           0.63      2200\n",
      "   macro avg       0.62      0.62      0.62      2200\n",
      "weighted avg       0.64      0.63      0.64      2200\n",
      "\n"
     ]
    }
   ],
   "source": [
    "y_pred_ots = lg_scaled.predict(X_test_ot_scaled)\n",
    "print(confusion_matrix(y_test_ot, y_pred_ots))\n",
    "print(classification_report(y_test_ot, y_pred_ots))"
   ]
  },
  {
   "cell_type": "code",
   "execution_count": 16,
   "id": "accessible-helping",
   "metadata": {},
   "outputs": [
    {
     "data": {
      "text/plain": [
       "KNeighborsClassifier()"
      ]
     },
     "execution_count": 16,
     "metadata": {},
     "output_type": "execute_result"
    }
   ],
   "source": [
    "# knn on X scaled\n",
    "knn_scaled = KNeighborsClassifier()\n",
    "knn_scaled.fit(X_train_ot_scaled, y_train_ot)"
   ]
  },
  {
   "cell_type": "code",
   "execution_count": 17,
   "id": "instant-vehicle",
   "metadata": {},
   "outputs": [
    {
     "name": "stdout",
     "output_type": "stream",
     "text": [
      "[[505 364]\n",
      " [445 886]]\n",
      "              precision    recall  f1-score   support\n",
      "\n",
      "           0       0.53      0.58      0.56       869\n",
      "           1       0.71      0.67      0.69      1331\n",
      "\n",
      "    accuracy                           0.63      2200\n",
      "   macro avg       0.62      0.62      0.62      2200\n",
      "weighted avg       0.64      0.63      0.63      2200\n",
      "\n"
     ]
    }
   ],
   "source": [
    "y_pred_ots2 = knn_scaled.predict(X_test_ot_scaled)\n",
    "print(confusion_matrix(y_test_ot, y_pred_ots2))\n",
    "print(classification_report(y_test_ot, y_pred_ots2))"
   ]
  },
  {
   "cell_type": "markdown",
   "id": "operating-synthetic",
   "metadata": {},
   "source": [
    "The scaled data sets gave us improved results for logistic regression but worse results for knn."
   ]
  },
  {
   "cell_type": "markdown",
   "id": "adaptive-singapore",
   "metadata": {},
   "source": [
    "# Hyperparameter Tuning"
   ]
  },
  {
   "cell_type": "code",
   "execution_count": 18,
   "id": "clinical-answer",
   "metadata": {},
   "outputs": [
    {
     "name": "stdout",
     "output_type": "stream",
     "text": [
      "Tuned Logistic Regression Parameters: {'solver': 'liblinear', 'penalty': 'l1', 'C': 545.5594781168514}\n",
      "Best score is 0.6381400847589023\n"
     ]
    }
   ],
   "source": [
    "# tune hyperparameters using randomized search cross validation\n",
    "\n",
    "param_dist_lg = {'penalty' : ['l1', 'l2'],\n",
    "                 'C' : np.logspace(-4, 4, 20),\n",
    "                 'solver' : ['liblinear']}\n",
    "\n",
    "lg = LogisticRegression(random_state=42)\n",
    "lg_cv = RandomizedSearchCV(lg, param_dist_lg, cv=5)\n",
    "lg_cv.fit(X_train_ot, y_train_ot)\n",
    "\n",
    "print(\"Tuned Logistic Regression Parameters: {}\".format(lg_cv.best_params_))\n",
    "print(\"Best score is {}\".format(lg_cv.best_score_))"
   ]
  },
  {
   "cell_type": "code",
   "execution_count": 19,
   "id": "behavioral-madrid",
   "metadata": {},
   "outputs": [
    {
     "name": "stdout",
     "output_type": "stream",
     "text": [
      "[[505 364]\n",
      " [444 887]]\n",
      "              precision    recall  f1-score   support\n",
      "\n",
      "           0       0.53      0.58      0.56       869\n",
      "           1       0.71      0.67      0.69      1331\n",
      "\n",
      "    accuracy                           0.63      2200\n",
      "   macro avg       0.62      0.62      0.62      2200\n",
      "weighted avg       0.64      0.63      0.64      2200\n",
      "\n"
     ]
    }
   ],
   "source": [
    "best_lg = lg_cv.best_estimator_\n",
    "\n",
    "y_pred = best_lg.predict(X_test_ot)\n",
    "print(confusion_matrix(y_test_ot, y_pred))\n",
    "print(classification_report(y_test_ot, y_pred))"
   ]
  },
  {
   "cell_type": "code",
   "execution_count": 20,
   "id": "chief-budget",
   "metadata": {},
   "outputs": [
    {
     "name": "stdout",
     "output_type": "stream",
     "text": [
      "Tuned Logistic Regression Parameters: {'solver': 'liblinear', 'penalty': 'l2', 'C': 0.0018329807108324356}\n",
      "Best score is 0.6513242286423071\n"
     ]
    }
   ],
   "source": [
    "# tune logistic regression hyperparameters for scaled data set\n",
    "lg = LogisticRegression(random_state=42)\n",
    "lg_cv_scaled = RandomizedSearchCV(lg, param_dist_lg, cv=5)\n",
    "lg_cv_scaled.fit(X_train_ot_scaled, y_train_ot)\n",
    "\n",
    "print(\"Tuned Logistic Regression Parameters: {}\".format(lg_cv_scaled.best_params_))\n",
    "print(\"Best score is {}\".format(lg_cv_scaled.best_score_))"
   ]
  },
  {
   "cell_type": "code",
   "execution_count": 21,
   "id": "cognitive-sheet",
   "metadata": {},
   "outputs": [
    {
     "name": "stdout",
     "output_type": "stream",
     "text": [
      "[[523 346]\n",
      " [443 888]]\n",
      "              precision    recall  f1-score   support\n",
      "\n",
      "           0       0.54      0.60      0.57       869\n",
      "           1       0.72      0.67      0.69      1331\n",
      "\n",
      "    accuracy                           0.64      2200\n",
      "   macro avg       0.63      0.63      0.63      2200\n",
      "weighted avg       0.65      0.64      0.64      2200\n",
      "\n"
     ]
    }
   ],
   "source": [
    "best_lg_scaled = lg_cv_scaled.best_estimator_\n",
    "\n",
    "y_pred = best_lg_scaled.predict(X_test_ot_scaled)\n",
    "print(confusion_matrix(y_test_ot, y_pred))\n",
    "print(classification_report(y_test_ot, y_pred))"
   ]
  },
  {
   "cell_type": "markdown",
   "id": "promotional-universe",
   "metadata": {},
   "source": [
    "The logistic model with scaled data had better accuracy but lower precision."
   ]
  },
  {
   "cell_type": "code",
   "execution_count": 22,
   "id": "sustainable-european",
   "metadata": {},
   "outputs": [
    {
     "data": {
      "image/png": "[encoded data removed]",
      "text/plain": [
       "<Figure size 432x288 with 1 Axes>"
      ]
     },
     "metadata": {
      "needs_background": "light"
     },
     "output_type": "display_data"
    }
   ],
   "source": [
    "# KNN n_neighbors tuning\n",
    "neighbors = np.arange(1, 9)\n",
    "train_accuracy = np.empty(len(neighbors))\n",
    "test_accuracy = np.empty(len(neighbors))\n",
    "\n",
    "for i, k in enumerate(neighbors):\n",
    "    knn = KNeighborsClassifier(n_neighbors=k)\n",
    "    knn.fit(X_train_ot, y_train_ot)\n",
    "    train_accuracy[i] = knn.score(X_train_ot, y_train_ot)\n",
    "    test_accuracy[i] = knn.score(X_test_ot, y_test_ot)\n",
    "\n",
    "plt.title('k-NN: Varying Number of Neighbors')\n",
    "plt.plot(neighbors, test_accuracy, label = 'Testing Accuracy')\n",
    "plt.plot(neighbors, train_accuracy, label = 'Training Accuracy')\n",
    "plt.legend()\n",
    "plt.xlabel('Number of Neighbors')\n",
    "plt.ylabel('Accuracy')\n",
    "plt.show()"
   ]
  },
  {
   "cell_type": "code",
   "execution_count": 23,
   "id": "eastern-integral",
   "metadata": {},
   "outputs": [
    {
     "name": "stdout",
     "output_type": "stream",
     "text": [
      "Minimum error:- 0.32954545454545453 at K = 31\n"
     ]
    },
    {
     "data": {
      "image/png": "[encoded data removed]",
      "text/plain": [
       "<Figure size 720x432 with 1 Axes>"
      ]
     },
     "metadata": {
      "needs_background": "light"
     },
     "output_type": "display_data"
    }
   ],
   "source": [
    "error_rate = []\n",
    "\n",
    "for i in range(1,40):\n",
    "  knn = KNeighborsClassifier(n_neighbors=i)\n",
    "  knn.fit(X_train_ot,y_train_ot)\n",
    "  y_pred = knn.predict(X_test_ot)\n",
    "  error_rate.append(np.mean(y_pred != y_test_ot))\n",
    "\n",
    "plt.figure(figsize=(10,6))\n",
    "plt.plot(range(0,39),error_rate,color='blue', linestyle='dashed',marker='o',markerfacecolor='red', markersize=10)\n",
    "plt.title('Error Rate vs. K Value')\n",
    "plt.xlabel('K')\n",
    "plt.ylabel('Error Rate')\n",
    "print(\"Minimum error:-\",min(error_rate),\"at K =\",error_rate.index(min(error_rate)))"
   ]
  },
  {
   "cell_type": "code",
   "execution_count": 24,
   "id": "revised-proposal",
   "metadata": {
    "scrolled": true
   },
   "outputs": [
    {
     "name": "stdout",
     "output_type": "stream",
     "text": [
      "[[514 355]\n",
      " [456 875]]\n",
      "              precision    recall  f1-score   support\n",
      "\n",
      "           0       0.53      0.59      0.56       869\n",
      "           1       0.71      0.66      0.68      1331\n",
      "\n",
      "    accuracy                           0.63      2200\n",
      "   macro avg       0.62      0.62      0.62      2200\n",
      "weighted avg       0.64      0.63      0.63      2200\n",
      "\n"
     ]
    }
   ],
   "source": [
    "knn = KNeighborsClassifier(n_neighbors=error_rate.index(min(error_rate)))\n",
    "knn.fit(X_train_ot, y_train_ot)\n",
    "y_pred = knn.predict(X_test_ot)\n",
    "print(confusion_matrix(y_test_ot, y_pred_ot))\n",
    "print(classification_report(y_test_ot, y_pred_ot))"
   ]
  },
  {
   "cell_type": "markdown",
   "id": "expanded-absence",
   "metadata": {},
   "source": [
    "# Gradient Boosting"
   ]
  },
  {
   "cell_type": "code",
   "execution_count": 25,
   "id": "traditional-address",
   "metadata": {},
   "outputs": [
    {
     "name": "stdout",
     "output_type": "stream",
     "text": [
      "[[760 109]\n",
      " [614 717]]\n",
      "              precision    recall  f1-score   support\n",
      "\n",
      "           0       0.55      0.87      0.68       869\n",
      "           1       0.87      0.54      0.66      1331\n",
      "\n",
      "    accuracy                           0.67      2200\n",
      "   macro avg       0.71      0.71      0.67      2200\n",
      "weighted avg       0.74      0.67      0.67      2200\n",
      "\n"
     ]
    }
   ],
   "source": [
    "# Gradient boosting model\n",
    "gbc = GradientBoostingClassifier()\n",
    "gbc.fit(X_train_ot, y_train_ot)\n",
    "y_pred = gbc.predict(X_test_ot)\n",
    "print(confusion_matrix(y_test_ot, y_pred))\n",
    "print(classification_report(y_test_ot, y_pred))"
   ]
  },
  {
   "cell_type": "markdown",
   "id": "indie-romania",
   "metadata": {},
   "source": [
    "This gives us the best accuracy score so far."
   ]
  },
  {
   "cell_type": "code",
   "execution_count": 26,
   "id": "fluid-porcelain",
   "metadata": {},
   "outputs": [
    {
     "name": "stdout",
     "output_type": "stream",
     "text": [
      "[[756 113]\n",
      " [614 717]]\n",
      "              precision    recall  f1-score   support\n",
      "\n",
      "           0       0.55      0.87      0.68       869\n",
      "           1       0.86      0.54      0.66      1331\n",
      "\n",
      "    accuracy                           0.67      2200\n",
      "   macro avg       0.71      0.70      0.67      2200\n",
      "weighted avg       0.74      0.67      0.67      2200\n",
      "\n"
     ]
    }
   ],
   "source": [
    "# gbc on scaled data\n",
    "gbc = GradientBoostingClassifier()\n",
    "gbc.fit(X_train_ot_scaled, y_train_ot)\n",
    "y_pred = gbc.predict(X_test_ot_scaled)\n",
    "print(confusion_matrix(y_test_ot, y_pred))\n",
    "print(classification_report(y_test_ot, y_pred))"
   ]
  },
  {
   "cell_type": "code",
   "execution_count": 27,
   "id": "corresponding-craps",
   "metadata": {},
   "outputs": [
    {
     "name": "stdout",
     "output_type": "stream",
     "text": [
      "Tuned Decision GBC Parameters: {'n_estimators': 500, 'max_depth': 1, 'learning_rate': 0.01}\n",
      "Best score is 0.6734873249263529\n"
     ]
    }
   ],
   "source": [
    "# hyperparameter tuning\n",
    "param_dist = {\"n_estimators\":[5,50,250,500],\n",
    "              \"max_depth\":[1,3,5,7,9],\n",
    "              \"learning_rate\":[0.01,0.1,1,10,100]}\n",
    "\n",
    "gbc = GradientBoostingClassifier()\n",
    "gbc_cv = RandomizedSearchCV(gbc, param_dist, cv=5)\n",
    "gbc_cv.fit(X_train_ot, y_train_ot)\n",
    "\n",
    "print(\"Tuned Decision GBC Parameters: {}\".format(gbc_cv.best_params_))\n",
    "print(\"Best score is {}\".format(gbc_cv.best_score_))"
   ]
  },
  {
   "cell_type": "code",
   "execution_count": 28,
   "id": "considered-approach",
   "metadata": {},
   "outputs": [
    {
     "name": "stdout",
     "output_type": "stream",
     "text": [
      "[[621 248]\n",
      " [487 844]]\n",
      "              precision    recall  f1-score   support\n",
      "\n",
      "           0       0.56      0.71      0.63       869\n",
      "           1       0.77      0.63      0.70      1331\n",
      "\n",
      "    accuracy                           0.67      2200\n",
      "   macro avg       0.67      0.67      0.66      2200\n",
      "weighted avg       0.69      0.67      0.67      2200\n",
      "\n"
     ]
    }
   ],
   "source": [
    "best_gbc = gbc_cv.best_estimator_\n",
    "\n",
    "y_pred = best_gbc.predict(X_test_ot)\n",
    "print(confusion_matrix(y_test_ot, y_pred))\n",
    "print(classification_report(y_test_ot, y_pred))"
   ]
  },
  {
   "cell_type": "code",
   "execution_count": 29,
   "id": "first-plastic",
   "metadata": {},
   "outputs": [
    {
     "name": "stdout",
     "output_type": "stream",
     "text": [
      "Tuned Decision GBC Parameters: {'n_estimators': 250, 'max_depth': 3, 'learning_rate': 0.01}\n",
      "Best score is 0.6879195307251021\n"
     ]
    }
   ],
   "source": [
    "# tune for scaled\n",
    "param_dist = {\"n_estimators\":[5,50,250,500],\n",
    "              \"max_depth\":[1,3,5,7,9],\n",
    "              \"learning_rate\":[0.01,0.1,1,10,100]}\n",
    "\n",
    "gbc_scaled = GradientBoostingClassifier()\n",
    "gbc_cv_scaled = RandomizedSearchCV(gbc_scaled, param_dist, cv=5)\n",
    "gbc_cv_scaled.fit(X_train_ot_scaled, y_train_ot)\n",
    "\n",
    "print(\"Tuned Decision GBC Parameters: {}\".format(gbc_cv_scaled.best_params_))\n",
    "print(\"Best score is {}\".format(gbc_cv_scaled.best_score_))"
   ]
  },
  {
   "cell_type": "code",
   "execution_count": 30,
   "id": "killing-beach",
   "metadata": {},
   "outputs": [
    {
     "name": "stdout",
     "output_type": "stream",
     "text": [
      "[[808  61]\n",
      " [661 670]]\n",
      "              precision    recall  f1-score   support\n",
      "\n",
      "           0       0.55      0.93      0.69       869\n",
      "           1       0.92      0.50      0.65      1331\n",
      "\n",
      "    accuracy                           0.67      2200\n",
      "   macro avg       0.73      0.72      0.67      2200\n",
      "weighted avg       0.77      0.67      0.67      2200\n",
      "\n"
     ]
    }
   ],
   "source": [
    "best_gbc_scaled = gbc_cv_scaled.best_estimator_\n",
    "\n",
    "y_pred = best_gbc_scaled.predict(X_test_ot_scaled)\n",
    "print(confusion_matrix(y_test_ot, y_pred))\n",
    "print(classification_report(y_test_ot, y_pred))"
   ]
  },
  {
   "cell_type": "code",
   "execution_count": 31,
   "id": "robust-sphere",
   "metadata": {},
   "outputs": [
    {
     "data": {
      "image/png": "[encoded data removed]",
      "text/plain": [
       "<Figure size 432x288 with 1 Axes>"
      ]
     },
     "metadata": {
      "needs_background": "light"
     },
     "output_type": "display_data"
    }
   ],
   "source": [
    "# plot most important features on gbc model\n",
    "sorted = best_gbc.feature_importances_.argsort()\n",
    "plt.barh(X_train_ot.columns[sorted], best_gbc.feature_importances_[sorted])\n",
    "plt.title('Feature Importance')\n",
    "plt.xlabel(\"Gradient Boosting Feature Importance\")\n",
    "plt.show()"
   ]
  },
  {
   "cell_type": "markdown",
   "id": "devoted-paper",
   "metadata": {},
   "source": [
    "Gradient boosting gave us a slightly better accuracy score, but more false positives and lower precision for 0 than KNN."
   ]
  },
  {
   "cell_type": "markdown",
   "id": "unlikely-enterprise",
   "metadata": {},
   "source": [
    "# Decision Tree"
   ]
  },
  {
   "cell_type": "code",
   "execution_count": 32,
   "id": "perfect-candy",
   "metadata": {},
   "outputs": [
    {
     "name": "stdout",
     "output_type": "stream",
     "text": [
      "[[454 415]\n",
      " [402 929]]\n",
      "              precision    recall  f1-score   support\n",
      "\n",
      "           0       0.53      0.52      0.53       869\n",
      "           1       0.69      0.70      0.69      1331\n",
      "\n",
      "    accuracy                           0.63      2200\n",
      "   macro avg       0.61      0.61      0.61      2200\n",
      "weighted avg       0.63      0.63      0.63      2200\n",
      "\n"
     ]
    }
   ],
   "source": [
    "# let's try decision tree to see if we get better results\n",
    "from sklearn.tree import DecisionTreeClassifier\n",
    "\n",
    "tree = DecisionTreeClassifier(random_state=42)\n",
    "tree.fit(X_train_ot, y_train_ot)\n",
    "y_pred = tree.predict(X_test_ot)\n",
    "print(confusion_matrix(y_test_ot, y_pred))\n",
    "print(classification_report(y_test_ot, y_pred))"
   ]
  },
  {
   "cell_type": "markdown",
   "id": "approved-institution",
   "metadata": {},
   "source": [
    "This gives us the lowest false positives so far with 402."
   ]
  },
  {
   "cell_type": "code",
   "execution_count": 33,
   "id": "buried-sellers",
   "metadata": {},
   "outputs": [
    {
     "name": "stdout",
     "output_type": "stream",
     "text": [
      "[[451 418]\n",
      " [402 929]]\n",
      "              precision    recall  f1-score   support\n",
      "\n",
      "           0       0.53      0.52      0.52       869\n",
      "           1       0.69      0.70      0.69      1331\n",
      "\n",
      "    accuracy                           0.63      2200\n",
      "   macro avg       0.61      0.61      0.61      2200\n",
      "weighted avg       0.63      0.63      0.63      2200\n",
      "\n"
     ]
    }
   ],
   "source": [
    "# model with scaled data set\n",
    "tree_scaled = DecisionTreeClassifier(random_state=42)\n",
    "tree_scaled.fit(X_train_ot_scaled, y_train_ot)\n",
    "y_pred = tree_scaled.predict(X_test_ot_scaled)\n",
    "print(confusion_matrix(y_test_ot, y_pred))\n",
    "print(classification_report(y_test_ot, y_pred))"
   ]
  },
  {
   "cell_type": "markdown",
   "id": "first-venezuela",
   "metadata": {},
   "source": [
    "Results are slightly worse but about the same."
   ]
  },
  {
   "cell_type": "code",
   "execution_count": 34,
   "id": "scenic-affair",
   "metadata": {},
   "outputs": [
    {
     "name": "stdout",
     "output_type": "stream",
     "text": [
      "Tuned Decision Tree Parameters: {'criterion': 'gini', 'max_depth': 3, 'max_features': 8, 'min_samples_leaf': 1}\n",
      "Best score is 0.6816683678743087\n"
     ]
    }
   ],
   "source": [
    "# hyperparameter tuning\n",
    "from scipy.stats import randint\n",
    "\n",
    "param_dist = {\"max_depth\": [3, None],\n",
    "              \"max_features\": randint(1, 9),\n",
    "              \"min_samples_leaf\": randint(1, 9),\n",
    "              \"criterion\": [\"gini\", \"entropy\"]}\n",
    "\n",
    "tree = DecisionTreeClassifier(random_state=42)\n",
    "tree_cv = RandomizedSearchCV(tree, param_dist, cv=5)\n",
    "tree_cv.fit(X_train_ot, y_train_ot)\n",
    "\n",
    "print(\"Tuned Decision Tree Parameters: {}\".format(tree_cv.best_params_))\n",
    "print(\"Best score is {}\".format(tree_cv.best_score_))"
   ]
  },
  {
   "cell_type": "code",
   "execution_count": 35,
   "id": "judicial-forge",
   "metadata": {},
   "outputs": [
    {
     "name": "stdout",
     "output_type": "stream",
     "text": [
      "[[828  41]\n",
      " [709 622]]\n",
      "              precision    recall  f1-score   support\n",
      "\n",
      "           0       0.54      0.95      0.69       869\n",
      "           1       0.94      0.47      0.62      1331\n",
      "\n",
      "    accuracy                           0.66      2200\n",
      "   macro avg       0.74      0.71      0.66      2200\n",
      "weighted avg       0.78      0.66      0.65      2200\n",
      "\n"
     ]
    }
   ],
   "source": [
    "best_tree = tree_cv.best_estimator_\n",
    "\n",
    "y_pred = best_tree.predict(X_test_ot)\n",
    "print(confusion_matrix(y_test_ot, y_pred))\n",
    "print(classification_report(y_test_ot, y_pred))"
   ]
  },
  {
   "cell_type": "markdown",
   "id": "regulation-claim",
   "metadata": {},
   "source": [
    "This gives us a better accuracy, precision and more true positives, but there are a lot more false positives."
   ]
  },
  {
   "cell_type": "code",
   "execution_count": 36,
   "id": "numerical-defensive",
   "metadata": {},
   "outputs": [
    {
     "name": "stdout",
     "output_type": "stream",
     "text": [
      "Tuned Decision Tree Parameters: {'criterion': 'gini', 'max_depth': 3, 'max_features': 8, 'min_samples_leaf': 1}\n",
      "Best score is 0.6816683678743087\n"
     ]
    }
   ],
   "source": [
    "# tune for scaled data set\n",
    "tree = DecisionTreeClassifier(random_state=42)\n",
    "tree_cv_scaled = RandomizedSearchCV(tree, param_dist, cv=5)\n",
    "tree_cv_scaled.fit(X_train_ot_scaled, y_train_ot)\n",
    "\n",
    "print(\"Tuned Decision Tree Parameters: {}\".format(tree_cv_scaled.best_params_))\n",
    "print(\"Best score is {}\".format(tree_cv_scaled.best_score_))"
   ]
  },
  {
   "cell_type": "code",
   "execution_count": 37,
   "id": "agreed-captain",
   "metadata": {},
   "outputs": [
    {
     "name": "stdout",
     "output_type": "stream",
     "text": [
      "[[828  41]\n",
      " [709 622]]\n",
      "              precision    recall  f1-score   support\n",
      "\n",
      "           0       0.54      0.95      0.69       869\n",
      "           1       0.94      0.47      0.62      1331\n",
      "\n",
      "    accuracy                           0.66      2200\n",
      "   macro avg       0.74      0.71      0.66      2200\n",
      "weighted avg       0.78      0.66      0.65      2200\n",
      "\n"
     ]
    }
   ],
   "source": [
    "best_tree_scaled = tree_cv_scaled.best_estimator_\n",
    "\n",
    "y_pred = best_tree_scaled.predict(X_test_ot_scaled)\n",
    "print(confusion_matrix(y_test_ot, y_pred))\n",
    "print(classification_report(y_test_ot, y_pred))"
   ]
  },
  {
   "cell_type": "markdown",
   "id": "available-stopping",
   "metadata": {},
   "source": [
    "This gives us the exact same result. Overall our original KNN model with the default hyperparameters gave us the best results:\n",
    "\n",
    "[[565 304]\n",
    " [434 897]]\n",
    "              precision    recall  f1-score   support\n",
    "\n",
    "           0       0.57      0.65      0.60       869\n",
    "           1       0.75      0.67      0.71      1331\n",
    "\n",
    "    accuracy                           0.66      2200\n",
    "   macro avg       0.66      0.66      0.66      2200\n",
    "weighted avg       0.68      0.66      0.67      2200\n",
    "\n",
    "Accuracy is the same, precision for on time is higher, and much less false positives."
   ]
  },
  {
   "cell_type": "markdown",
   "id": "coordinate-temple",
   "metadata": {},
   "source": [
    "# Best Model"
   ]
  },
  {
   "cell_type": "code",
   "execution_count": 38,
   "id": "realistic-shelf",
   "metadata": {},
   "outputs": [
    {
     "data": {
      "text/plain": [
       "KNeighborsClassifier()"
      ]
     },
     "execution_count": 38,
     "metadata": {},
     "output_type": "execute_result"
    }
   ],
   "source": [
    "# set best model for on time prediction\n",
    "best_model_ot = KNeighborsClassifier()\n",
    "best_model_ot.fit(X_train_ot, y_train_ot)"
   ]
  },
  {
   "cell_type": "code",
   "execution_count": 39,
   "id": "previous-means",
   "metadata": {},
   "outputs": [
    {
     "data": {
      "text/html": [
       "<div>\n",
       "<style scoped>\n",
       "    .dataframe tbody tr th:only-of-type {\n",
       "        vertical-align: middle;\n",
       "    }\n",
       "\n",
       "    .dataframe tbody tr th {\n",
       "        vertical-align: top;\n",
       "    }\n",
       "\n",
       "    .dataframe thead th {\n",
       "        text-align: right;\n",
       "    }\n",
       "</style>\n",
       "<table border=\"1\" class=\"dataframe\">\n",
       "  <thead>\n",
       "    <tr style=\"text-align: right;\">\n",
       "      <th></th>\n",
       "      <th>Customer_care_calls</th>\n",
       "      <th>Customer_rating</th>\n",
       "      <th>Cost_of_the_Product</th>\n",
       "      <th>Prior_purchases</th>\n",
       "      <th>Discount_offered</th>\n",
       "      <th>Weight_in_gms</th>\n",
       "      <th>Warehouse_block_A</th>\n",
       "      <th>Warehouse_block_B</th>\n",
       "      <th>Warehouse_block_C</th>\n",
       "      <th>Warehouse_block_D</th>\n",
       "      <th>Warehouse_block_F</th>\n",
       "      <th>Mode_of_Shipment_Flight</th>\n",
       "      <th>Mode_of_Shipment_Road</th>\n",
       "      <th>Mode_of_Shipment_Ship</th>\n",
       "      <th>Product_importance_high</th>\n",
       "      <th>Product_importance_low</th>\n",
       "      <th>Product_importance_medium</th>\n",
       "      <th>Gender_F</th>\n",
       "    </tr>\n",
       "  </thead>\n",
       "  <tbody>\n",
       "    <tr>\n",
       "      <th>8442</th>\n",
       "      <td>3</td>\n",
       "      <td>5</td>\n",
       "      <td>252</td>\n",
       "      <td>2</td>\n",
       "      <td>4</td>\n",
       "      <td>4098</td>\n",
       "      <td>0</td>\n",
       "      <td>0</td>\n",
       "      <td>0</td>\n",
       "      <td>1</td>\n",
       "      <td>0</td>\n",
       "      <td>0</td>\n",
       "      <td>0</td>\n",
       "      <td>1</td>\n",
       "      <td>1</td>\n",
       "      <td>0</td>\n",
       "      <td>0</td>\n",
       "      <td>0</td>\n",
       "    </tr>\n",
       "    <tr>\n",
       "      <th>4885</th>\n",
       "      <td>5</td>\n",
       "      <td>1</td>\n",
       "      <td>172</td>\n",
       "      <td>2</td>\n",
       "      <td>7</td>\n",
       "      <td>5165</td>\n",
       "      <td>0</td>\n",
       "      <td>0</td>\n",
       "      <td>0</td>\n",
       "      <td>0</td>\n",
       "      <td>1</td>\n",
       "      <td>0</td>\n",
       "      <td>0</td>\n",
       "      <td>1</td>\n",
       "      <td>1</td>\n",
       "      <td>0</td>\n",
       "      <td>0</td>\n",
       "      <td>1</td>\n",
       "    </tr>\n",
       "    <tr>\n",
       "      <th>2084</th>\n",
       "      <td>3</td>\n",
       "      <td>2</td>\n",
       "      <td>173</td>\n",
       "      <td>3</td>\n",
       "      <td>40</td>\n",
       "      <td>1723</td>\n",
       "      <td>1</td>\n",
       "      <td>0</td>\n",
       "      <td>0</td>\n",
       "      <td>0</td>\n",
       "      <td>0</td>\n",
       "      <td>0</td>\n",
       "      <td>0</td>\n",
       "      <td>1</td>\n",
       "      <td>1</td>\n",
       "      <td>0</td>\n",
       "      <td>0</td>\n",
       "      <td>0</td>\n",
       "    </tr>\n",
       "    <tr>\n",
       "      <th>6759</th>\n",
       "      <td>5</td>\n",
       "      <td>2</td>\n",
       "      <td>192</td>\n",
       "      <td>3</td>\n",
       "      <td>7</td>\n",
       "      <td>5695</td>\n",
       "      <td>0</td>\n",
       "      <td>1</td>\n",
       "      <td>0</td>\n",
       "      <td>0</td>\n",
       "      <td>0</td>\n",
       "      <td>0</td>\n",
       "      <td>0</td>\n",
       "      <td>1</td>\n",
       "      <td>1</td>\n",
       "      <td>0</td>\n",
       "      <td>0</td>\n",
       "      <td>1</td>\n",
       "    </tr>\n",
       "    <tr>\n",
       "      <th>3147</th>\n",
       "      <td>4</td>\n",
       "      <td>2</td>\n",
       "      <td>272</td>\n",
       "      <td>3</td>\n",
       "      <td>6</td>\n",
       "      <td>4559</td>\n",
       "      <td>0</td>\n",
       "      <td>1</td>\n",
       "      <td>0</td>\n",
       "      <td>0</td>\n",
       "      <td>0</td>\n",
       "      <td>1</td>\n",
       "      <td>0</td>\n",
       "      <td>0</td>\n",
       "      <td>1</td>\n",
       "      <td>0</td>\n",
       "      <td>0</td>\n",
       "      <td>1</td>\n",
       "    </tr>\n",
       "  </tbody>\n",
       "</table>\n",
       "</div>"
      ],
      "text/plain": [
       "      Customer_care_calls  Customer_rating  Cost_of_the_Product  \\\n",
       "8442                    3                5                  252   \n",
       "4885                    5                1                  172   \n",
       "2084                    3                2                  173   \n",
       "6759                    5                2                  192   \n",
       "3147                    4                2                  272   \n",
       "\n",
       "      Prior_purchases  Discount_offered  Weight_in_gms  Warehouse_block_A  \\\n",
       "8442                2                 4           4098                  0   \n",
       "4885                2                 7           5165                  0   \n",
       "2084                3                40           1723                  1   \n",
       "6759                3                 7           5695                  0   \n",
       "3147                3                 6           4559                  0   \n",
       "\n",
       "      Warehouse_block_B  Warehouse_block_C  Warehouse_block_D  \\\n",
       "8442                  0                  0                  1   \n",
       "4885                  0                  0                  0   \n",
       "2084                  0                  0                  0   \n",
       "6759                  1                  0                  0   \n",
       "3147                  1                  0                  0   \n",
       "\n",
       "      Warehouse_block_F  Mode_of_Shipment_Flight  Mode_of_Shipment_Road  \\\n",
       "8442                  0                        0                      0   \n",
       "4885                  1                        0                      0   \n",
       "2084                  0                        0                      0   \n",
       "6759                  0                        0                      0   \n",
       "3147                  0                        1                      0   \n",
       "\n",
       "      Mode_of_Shipment_Ship  Product_importance_high  Product_importance_low  \\\n",
       "8442                      1                        1                       0   \n",
       "4885                      1                        1                       0   \n",
       "2084                      1                        1                       0   \n",
       "6759                      1                        1                       0   \n",
       "3147                      0                        1                       0   \n",
       "\n",
       "      Product_importance_medium  Gender_F  \n",
       "8442                          0         0  \n",
       "4885                          0         1  \n",
       "2084                          0         0  \n",
       "6759                          0         1  \n",
       "3147                          0         1  "
      ]
     },
     "execution_count": 39,
     "metadata": {},
     "output_type": "execute_result"
    }
   ],
   "source": [
    "# use this model to predict what effect product importance has on on-time performance\n",
    "high = X_test_ot.loc[X_test_ot['Product_importance_high'] == 1]\n",
    "high.head()"
   ]
  },
  {
   "cell_type": "code",
   "execution_count": 40,
   "id": "imperial-gnome",
   "metadata": {},
   "outputs": [
    {
     "name": "stdout",
     "output_type": "stream",
     "text": [
      "46.27 % of high importance shipments are predicted to be on time.\n"
     ]
    }
   ],
   "source": [
    "import collections\n",
    "\n",
    "high_pred = best_model_ot.predict(high)\n",
    "high_ontime = collections.Counter(high_pred)[0]\n",
    "high_performance = round(high_ontime/len(high)*100,2)\n",
    "print(high_performance, '% of high importance shipments are predicted to be on time.')"
   ]
  },
  {
   "cell_type": "code",
   "execution_count": 41,
   "id": "developed-rebate",
   "metadata": {},
   "outputs": [
    {
     "name": "stdout",
     "output_type": "stream",
     "text": [
      "47.01 % of medium importance shipments are predicted to be on time.\n"
     ]
    }
   ],
   "source": [
    "# medium importance\n",
    "medium = X_test_ot.loc[X_test_ot['Product_importance_medium'] == 1]\n",
    "medium_pred = best_model_ot.predict(medium)\n",
    "medium_ontime = collections.Counter(medium_pred)[0]\n",
    "medium_performance = round(medium_ontime/len(medium)*100,2)\n",
    "print(medium_performance, '% of medium importance shipments are predicted to be on time.')"
   ]
  },
  {
   "cell_type": "code",
   "execution_count": 42,
   "id": "breathing-words",
   "metadata": {},
   "outputs": [
    {
     "name": "stdout",
     "output_type": "stream",
     "text": [
      "43.84 % of low importance shipments are predicted to be on time.\n"
     ]
    }
   ],
   "source": [
    "# low importance\n",
    "low = X_test_ot.loc[X_test_ot['Product_importance_low'] == 1]\n",
    "low_pred = best_model_ot.predict(low)\n",
    "low_ontime = collections.Counter(low_pred)[0]\n",
    "low_performance = round(low_ontime/len(low)*100,2)\n",
    "print(low_performance, '% of low importance shipments are predicted to be on time.')"
   ]
  },
  {
   "cell_type": "markdown",
   "id": "coral-flash",
   "metadata": {},
   "source": [
    "How can we improve the on-time performance of the high importance shipments? Let's look at the warehouse blocks."
   ]
  },
  {
   "cell_type": "code",
   "execution_count": 43,
   "id": "tribal-niagara",
   "metadata": {},
   "outputs": [
    {
     "name": "stdout",
     "output_type": "stream",
     "text": [
      "44.64 % of warehouse block A shipments are predicted to be on time.\n"
     ]
    }
   ],
   "source": [
    "# block A\n",
    "A = X_test_ot.loc[X_test_ot['Warehouse_block_A'] == 1]\n",
    "A_pred = best_model_ot.predict(A)\n",
    "A_ontime = collections.Counter(A_pred)[0]\n",
    "A_performance = round(A_ontime/len(A)*100,2)\n",
    "print(A_performance, '% of warehouse block A shipments are predicted to be on time.')"
   ]
  },
  {
   "cell_type": "code",
   "execution_count": 44,
   "id": "christian-paper",
   "metadata": {},
   "outputs": [
    {
     "name": "stdout",
     "output_type": "stream",
     "text": [
      "47.06 % of warehouse block B shipments are predicted to be on time.\n"
     ]
    }
   ],
   "source": [
    "# block B\n",
    "B = X_test_ot.loc[X_test_ot['Warehouse_block_B'] == 1]\n",
    "B_pred = best_model_ot.predict(B)\n",
    "B_ontime = collections.Counter(B_pred)[0]\n",
    "B_performance = round(B_ontime/len(B)*100,2)\n",
    "print(B_performance, '% of warehouse block B shipments are predicted to be on time.')"
   ]
  },
  {
   "cell_type": "code",
   "execution_count": 45,
   "id": "solid-spank",
   "metadata": {},
   "outputs": [
    {
     "name": "stdout",
     "output_type": "stream",
     "text": [
      "48.28 % of warehouse block C shipments are predicted to be on time.\n"
     ]
    }
   ],
   "source": [
    "# block C\n",
    "C = X_test_ot.loc[X_test_ot['Warehouse_block_C'] == 1]\n",
    "C_pred = best_model_ot.predict(C)\n",
    "C_ontime = collections.Counter(C_pred)[0]\n",
    "C_performance = round(C_ontime/len(C)*100,2)\n",
    "print(C_performance, '% of warehouse block C shipments are predicted to be on time.')"
   ]
  },
  {
   "cell_type": "code",
   "execution_count": 46,
   "id": "fantastic-waste",
   "metadata": {},
   "outputs": [
    {
     "name": "stdout",
     "output_type": "stream",
     "text": [
      "41.98 % of warehouse block D shipments are predicted to be on time.\n"
     ]
    }
   ],
   "source": [
    "# block D\n",
    "D = X_test_ot.loc[X_test_ot['Warehouse_block_D'] == 1]\n",
    "D_pred = best_model_ot.predict(D)\n",
    "D_ontime = collections.Counter(D_pred)[0]\n",
    "D_performance = round(D_ontime/len(D)*100,2)\n",
    "print(D_performance, '% of warehouse block D shipments are predicted to be on time.')"
   ]
  },
  {
   "cell_type": "code",
   "execution_count": 47,
   "id": "female-suffering",
   "metadata": {},
   "outputs": [
    {
     "name": "stdout",
     "output_type": "stream",
     "text": [
      "45.07 % of warehouse block F shipments are predicted to be on time.\n"
     ]
    }
   ],
   "source": [
    "# block F\n",
    "F = X_test_ot.loc[X_test_ot['Warehouse_block_F'] == 1]\n",
    "F_pred = best_model_ot.predict(F)\n",
    "F_ontime = collections.Counter(F_pred)[0]\n",
    "F_performance = round(F_ontime/len(F)*100,2)\n",
    "print(F_performance, '% of warehouse block F shipments are predicted to be on time.')"
   ]
  },
  {
   "cell_type": "code",
   "execution_count": 48,
   "id": "above-opera",
   "metadata": {},
   "outputs": [
    {
     "data": {
      "image/png": "[encoded data removed]",
      "text/plain": [
       "<Figure size 432x288 with 1 Axes>"
      ]
     },
     "metadata": {
      "needs_background": "light"
     },
     "output_type": "display_data"
    }
   ],
   "source": [
    "# plot a bar chart\n",
    "blocks = ['A', 'B', 'C', 'D', 'F']\n",
    "performance = [A_performance, B_performance, C_performance, D_performance, F_performance]\n",
    "plt.bar(blocks, performance)\n",
    "plt.title('Performance of Each Warehouse Block')\n",
    "plt.xlabel('Block')\n",
    "plt.ylabel('On-time Percentage')\n",
    "plt.show()"
   ]
  },
  {
   "cell_type": "markdown",
   "id": "accomplished-impact",
   "metadata": {},
   "source": [
    "Block C has the highest predicted on-time percentage so maybe the company can have all the high importance products stored in warehouse block C. Let's look at what percentage of high importance products were not in warehouse block C and did not arrive on time."
   ]
  },
  {
   "cell_type": "code",
   "execution_count": 49,
   "id": "thermal-mouse",
   "metadata": {},
   "outputs": [
    {
     "name": "stdout",
     "output_type": "stream",
     "text": [
      "53.48 % were late that were not in block C\n"
     ]
    }
   ],
   "source": [
    "# import our full data set\n",
    "df = pd.read_csv('df.csv')\n",
    "late_high = round(100*len(df.loc[(df['Product_importance_high']==1) & (df['Warehouse_block_C']==0) & (df['On_time']==1)])/len(df.loc[df['Product_importance_high']==1]),2)\n",
    "print(late_high, '% were late that were not in block C')"
   ]
  },
  {
   "cell_type": "markdown",
   "id": "proof-navigator",
   "metadata": {},
   "source": [
    "Warehouse block D has the lowest predicted on-time percentage. So we can see if any of those late shipments were from that block."
   ]
  },
  {
   "cell_type": "code",
   "execution_count": 50,
   "id": "micro-employer",
   "metadata": {},
   "outputs": [
    {
     "name": "stdout",
     "output_type": "stream",
     "text": [
      "20.51 % that were late and not in block C were in block D\n"
     ]
    }
   ],
   "source": [
    "late_high_d = round(100*len(df.loc[(df['Product_importance_high']==1) & (df['Warehouse_block_D']==1) & (df['On_time']==1)])/len(df.loc[(df['Product_importance_high']==1) & (df['Warehouse_block_C']==0) & (df['On_time']==1)]),2)\n",
    "print(late_high_d, '% that were late and not in block C were in block D')"
   ]
  },
  {
   "cell_type": "markdown",
   "id": "proper-monthly",
   "metadata": {},
   "source": [
    "So more than half of the high importance products that were late were not in warehouse block C, which has the best on-time performance. And of that total, over 20% were in warehouse block D, which has the worst on-time performance. Block C's on time performance is over 6% better than block D's. Just moving all the high importance products from D to C would increase on-time performance for high importance products. "
   ]
  },
  {
   "cell_type": "code",
   "execution_count": 51,
   "id": "champion-discussion",
   "metadata": {},
   "outputs": [
    {
     "data": {
      "text/html": [
       "<div>\n",
       "<style scoped>\n",
       "    .dataframe tbody tr th:only-of-type {\n",
       "        vertical-align: middle;\n",
       "    }\n",
       "\n",
       "    .dataframe tbody tr th {\n",
       "        vertical-align: top;\n",
       "    }\n",
       "\n",
       "    .dataframe thead th {\n",
       "        text-align: right;\n",
       "    }\n",
       "</style>\n",
       "<table border=\"1\" class=\"dataframe\">\n",
       "  <thead>\n",
       "    <tr style=\"text-align: right;\">\n",
       "      <th></th>\n",
       "      <th>Customer_care_calls</th>\n",
       "      <th>Customer_rating</th>\n",
       "      <th>Cost_of_the_Product</th>\n",
       "      <th>Prior_purchases</th>\n",
       "      <th>Discount_offered</th>\n",
       "      <th>Weight_in_gms</th>\n",
       "      <th>Warehouse_block_A</th>\n",
       "      <th>Warehouse_block_B</th>\n",
       "      <th>Warehouse_block_C</th>\n",
       "      <th>Warehouse_block_D</th>\n",
       "      <th>Warehouse_block_F</th>\n",
       "      <th>Mode_of_Shipment_Flight</th>\n",
       "      <th>Mode_of_Shipment_Road</th>\n",
       "      <th>Mode_of_Shipment_Ship</th>\n",
       "      <th>Product_importance_high</th>\n",
       "      <th>Product_importance_low</th>\n",
       "      <th>Product_importance_medium</th>\n",
       "      <th>Gender_F</th>\n",
       "      <th>on_time</th>\n",
       "    </tr>\n",
       "  </thead>\n",
       "  <tbody>\n",
       "    <tr>\n",
       "      <th>8442</th>\n",
       "      <td>3</td>\n",
       "      <td>5</td>\n",
       "      <td>252</td>\n",
       "      <td>2</td>\n",
       "      <td>4</td>\n",
       "      <td>4098</td>\n",
       "      <td>0</td>\n",
       "      <td>0</td>\n",
       "      <td>0</td>\n",
       "      <td>1</td>\n",
       "      <td>0</td>\n",
       "      <td>0</td>\n",
       "      <td>0</td>\n",
       "      <td>1</td>\n",
       "      <td>1</td>\n",
       "      <td>0</td>\n",
       "      <td>0</td>\n",
       "      <td>0</td>\n",
       "      <td>1</td>\n",
       "    </tr>\n",
       "    <tr>\n",
       "      <th>8368</th>\n",
       "      <td>4</td>\n",
       "      <td>4</td>\n",
       "      <td>147</td>\n",
       "      <td>3</td>\n",
       "      <td>9</td>\n",
       "      <td>4534</td>\n",
       "      <td>0</td>\n",
       "      <td>0</td>\n",
       "      <td>1</td>\n",
       "      <td>0</td>\n",
       "      <td>0</td>\n",
       "      <td>1</td>\n",
       "      <td>0</td>\n",
       "      <td>0</td>\n",
       "      <td>0</td>\n",
       "      <td>0</td>\n",
       "      <td>1</td>\n",
       "      <td>0</td>\n",
       "      <td>0</td>\n",
       "    </tr>\n",
       "    <tr>\n",
       "      <th>2972</th>\n",
       "      <td>3</td>\n",
       "      <td>4</td>\n",
       "      <td>228</td>\n",
       "      <td>2</td>\n",
       "      <td>46</td>\n",
       "      <td>3306</td>\n",
       "      <td>1</td>\n",
       "      <td>0</td>\n",
       "      <td>0</td>\n",
       "      <td>0</td>\n",
       "      <td>0</td>\n",
       "      <td>0</td>\n",
       "      <td>0</td>\n",
       "      <td>1</td>\n",
       "      <td>0</td>\n",
       "      <td>0</td>\n",
       "      <td>1</td>\n",
       "      <td>0</td>\n",
       "      <td>1</td>\n",
       "    </tr>\n",
       "    <tr>\n",
       "      <th>6561</th>\n",
       "      <td>6</td>\n",
       "      <td>2</td>\n",
       "      <td>161</td>\n",
       "      <td>4</td>\n",
       "      <td>9</td>\n",
       "      <td>1377</td>\n",
       "      <td>0</td>\n",
       "      <td>1</td>\n",
       "      <td>0</td>\n",
       "      <td>0</td>\n",
       "      <td>0</td>\n",
       "      <td>0</td>\n",
       "      <td>1</td>\n",
       "      <td>0</td>\n",
       "      <td>0</td>\n",
       "      <td>1</td>\n",
       "      <td>0</td>\n",
       "      <td>1</td>\n",
       "      <td>1</td>\n",
       "    </tr>\n",
       "    <tr>\n",
       "      <th>4885</th>\n",
       "      <td>5</td>\n",
       "      <td>1</td>\n",
       "      <td>172</td>\n",
       "      <td>2</td>\n",
       "      <td>7</td>\n",
       "      <td>5165</td>\n",
       "      <td>0</td>\n",
       "      <td>0</td>\n",
       "      <td>0</td>\n",
       "      <td>0</td>\n",
       "      <td>1</td>\n",
       "      <td>0</td>\n",
       "      <td>0</td>\n",
       "      <td>1</td>\n",
       "      <td>1</td>\n",
       "      <td>0</td>\n",
       "      <td>0</td>\n",
       "      <td>1</td>\n",
       "      <td>0</td>\n",
       "    </tr>\n",
       "  </tbody>\n",
       "</table>\n",
       "</div>"
      ],
      "text/plain": [
       "      Customer_care_calls  Customer_rating  Cost_of_the_Product  \\\n",
       "8442                    3                5                  252   \n",
       "8368                    4                4                  147   \n",
       "2972                    3                4                  228   \n",
       "6561                    6                2                  161   \n",
       "4885                    5                1                  172   \n",
       "\n",
       "      Prior_purchases  Discount_offered  Weight_in_gms  Warehouse_block_A  \\\n",
       "8442                2                 4           4098                  0   \n",
       "8368                3                 9           4534                  0   \n",
       "2972                2                46           3306                  1   \n",
       "6561                4                 9           1377                  0   \n",
       "4885                2                 7           5165                  0   \n",
       "\n",
       "      Warehouse_block_B  Warehouse_block_C  Warehouse_block_D  \\\n",
       "8442                  0                  0                  1   \n",
       "8368                  0                  1                  0   \n",
       "2972                  0                  0                  0   \n",
       "6561                  1                  0                  0   \n",
       "4885                  0                  0                  0   \n",
       "\n",
       "      Warehouse_block_F  Mode_of_Shipment_Flight  Mode_of_Shipment_Road  \\\n",
       "8442                  0                        0                      0   \n",
       "8368                  0                        1                      0   \n",
       "2972                  0                        0                      0   \n",
       "6561                  0                        0                      1   \n",
       "4885                  1                        0                      0   \n",
       "\n",
       "      Mode_of_Shipment_Ship  Product_importance_high  Product_importance_low  \\\n",
       "8442                      1                        1                       0   \n",
       "8368                      0                        0                       0   \n",
       "2972                      1                        0                       0   \n",
       "6561                      0                        0                       1   \n",
       "4885                      1                        1                       0   \n",
       "\n",
       "      Product_importance_medium  Gender_F  on_time  \n",
       "8442                          0         0        1  \n",
       "8368                          1         0        0  \n",
       "2972                          1         0        1  \n",
       "6561                          0         1        1  \n",
       "4885                          0         1        0  "
      ]
     },
     "execution_count": 51,
     "metadata": {},
     "output_type": "execute_result"
    }
   ],
   "source": [
    "# calculate average weight of on-time and not on-time\n",
    "X_test = X_test_ot.copy()\n",
    "X_test['on_time'] = best_model_ot.predict(X_test_ot)\n",
    "X_test.head()"
   ]
  },
  {
   "cell_type": "code",
   "execution_count": 52,
   "id": "molecular-minimum",
   "metadata": {},
   "outputs": [
    {
     "name": "stdout",
     "output_type": "stream",
     "text": [
      "Average weight for on time shipments:  4196.57 gms\n",
      "Average weight for not on time shipments:  3170.35 gms\n"
     ]
    }
   ],
   "source": [
    "weight_ontime = X_test.loc[X_test['on_time'] == 0]['Weight_in_gms']\n",
    "weight_notontime = X_test.loc[X_test['on_time'] == 1]['Weight_in_gms']\n",
    "ontime_avg_weight = round(weight_ontime.mean(),2)\n",
    "notontime_avg_weight = round(weight_notontime.mean(),2)\n",
    "print('Average weight for on time shipments: ', ontime_avg_weight, 'gms')\n",
    "print('Average weight for not on time shipments: ', notontime_avg_weight, 'gms')"
   ]
  },
  {
   "cell_type": "markdown",
   "id": "broken-recruitment",
   "metadata": {},
   "source": [
    "Looks like the heavier shipments are more likely to arrive on time than the lighter shipments. Let's look at the distribution of each."
   ]
  },
  {
   "cell_type": "code",
   "execution_count": 53,
   "id": "imposed-sound",
   "metadata": {},
   "outputs": [
    {
     "data": {
      "image/png": "[encoded data removed]",
      "text/plain": [
       "<Figure size 432x288 with 1 Axes>"
      ]
     },
     "metadata": {
      "needs_background": "light"
     },
     "output_type": "display_data"
    }
   ],
   "source": [
    "# on time weight distribution\n",
    "plt.hist(weight_ontime)\n",
    "plt.title('On Time Weight')\n",
    "plt.xlabel('Weight in gms')\n",
    "plt.ylabel('Number of shipments')\n",
    "plt.show()"
   ]
  },
  {
   "cell_type": "code",
   "execution_count": 54,
   "id": "systematic-cabinet",
   "metadata": {},
   "outputs": [
    {
     "data": {
      "image/png": "[encoded data removed]",
      "text/plain": [
       "<Figure size 432x288 with 1 Axes>"
      ]
     },
     "metadata": {
      "needs_background": "light"
     },
     "output_type": "display_data"
    }
   ],
   "source": [
    "# not on time weight distribution\n",
    "plt.hist(weight_notontime)\n",
    "plt.title('Not On Time Weight')\n",
    "plt.xlabel('Weight in gms')\n",
    "plt.ylabel('Number of shipments')\n",
    "plt.show()"
   ]
  },
  {
   "cell_type": "markdown",
   "id": "intimate-pillow",
   "metadata": {},
   "source": [
    "Shipments not on time has heavier shipments as well but a lot more lighter shipments."
   ]
  },
  {
   "cell_type": "code",
   "execution_count": 55,
   "id": "unnecessary-cemetery",
   "metadata": {},
   "outputs": [
    {
     "name": "stdout",
     "output_type": "stream",
     "text": [
      "Average cost for on time shipments: $ 215.57\n",
      "Average cost for not on time shipments: $ 205.57\n"
     ]
    }
   ],
   "source": [
    "# do the same thing for cost of product\n",
    "cost_ontime = X_test.loc[X_test['on_time'] == 0]['Cost_of_the_Product']\n",
    "cost_notontime = X_test.loc[X_test['on_time'] == 1]['Cost_of_the_Product']\n",
    "ontime_avg_cost = round(cost_ontime.mean(),2)\n",
    "notontime_avg_cost = round(cost_notontime.mean(),2)\n",
    "print('Average cost for on time shipments: $', ontime_avg_cost)\n",
    "print('Average cost for not on time shipments: $', notontime_avg_cost)"
   ]
  },
  {
   "cell_type": "markdown",
   "id": "recent-narrow",
   "metadata": {},
   "source": [
    "Average for on time shipments are $10 more than shipments not on time."
   ]
  },
  {
   "cell_type": "code",
   "execution_count": 56,
   "id": "worth-engineering",
   "metadata": {},
   "outputs": [
    {
     "data": {
      "image/png": "[encoded data removed]",
      "text/plain": [
       "<Figure size 432x288 with 1 Axes>"
      ]
     },
     "metadata": {
      "needs_background": "light"
     },
     "output_type": "display_data"
    }
   ],
   "source": [
    "# on time cost distribution\n",
    "plt.hist(cost_ontime)\n",
    "plt.title('On Time Cost')\n",
    "plt.xlabel('Cost')\n",
    "plt.ylabel('Number of shipments')\n",
    "plt.show()"
   ]
  },
  {
   "cell_type": "code",
   "execution_count": 57,
   "id": "numerous-vinyl",
   "metadata": {},
   "outputs": [
    {
     "data": {
      "image/png": "[encoded data removed]",
      "text/plain": [
       "<Figure size 432x288 with 1 Axes>"
      ]
     },
     "metadata": {
      "needs_background": "light"
     },
     "output_type": "display_data"
    }
   ],
   "source": [
    "# not on time cost distribution\n",
    "plt.hist(cost_notontime)\n",
    "plt.title('Not On Time Cost')\n",
    "plt.xlabel('Cost')\n",
    "plt.ylabel('Number of shipments')\n",
    "plt.show()"
   ]
  },
  {
   "cell_type": "markdown",
   "id": "verified-experience",
   "metadata": {},
   "source": [
    "The distributions look close except not on time has more shipments that cost between 150 and 200."
   ]
  },
  {
   "cell_type": "code",
   "execution_count": 58,
   "id": "organizational-passing",
   "metadata": {},
   "outputs": [
    {
     "name": "stdout",
     "output_type": "stream",
     "text": [
      "Average discount offered for on time shipments:  5.49 %\n",
      "Average discount offered for not on time shipments:  20.17 %\n"
     ]
    }
   ],
   "source": [
    "# Discount offered was an important feature for gradient boosting, let's see what effect it has for knn\n",
    "discount_ontime = X_test.loc[X_test['on_time'] == 0]['Discount_offered']\n",
    "discount_notontime = X_test.loc[X_test['on_time'] == 1]['Discount_offered']\n",
    "ontime_avg_discount = round(discount_ontime.mean(),2)\n",
    "notontime_avg_discount = round(discount_notontime.mean(),2)\n",
    "print('Average discount offered for on time shipments: ', ontime_avg_discount, '%')\n",
    "print('Average discount offered for not on time shipments: ', notontime_avg_discount, '%')"
   ]
  },
  {
   "cell_type": "markdown",
   "id": "corrected-worth",
   "metadata": {},
   "source": [
    "This is a big difference. The shipments that were not on time averaged almost 4 times as much of a discount than shipments that were on time."
   ]
  },
  {
   "cell_type": "code",
   "execution_count": 59,
   "id": "conservative-mexico",
   "metadata": {},
   "outputs": [
    {
     "data": {
      "image/png": "[encoded data removed]",
      "text/plain": [
       "<Figure size 432x288 with 1 Axes>"
      ]
     },
     "metadata": {
      "needs_background": "light"
     },
     "output_type": "display_data"
    }
   ],
   "source": [
    "# on time discount offered distribution\n",
    "plt.hist(discount_ontime)\n",
    "plt.title('On Time Discount Offered')\n",
    "plt.xlabel('Discount')\n",
    "plt.ylabel('Number of shipments')\n",
    "plt.show()"
   ]
  },
  {
   "cell_type": "code",
   "execution_count": 60,
   "id": "severe-rotation",
   "metadata": {},
   "outputs": [
    {
     "data": {
      "image/png": "[encoded data removed]",
      "text/plain": [
       "<Figure size 432x288 with 1 Axes>"
      ]
     },
     "metadata": {
      "needs_background": "light"
     },
     "output_type": "display_data"
    }
   ],
   "source": [
    "# not on time discount offered distribution\n",
    "plt.hist(discount_notontime)\n",
    "plt.title('Not On Time Discount Offered')\n",
    "plt.xlabel('Discount')\n",
    "plt.ylabel('Number of shipments')\n",
    "plt.show()"
   ]
  },
  {
   "cell_type": "markdown",
   "id": "reverse-allen",
   "metadata": {},
   "source": [
    "The discounts offered for the on time shipments are all less than 30. So any shipment with a discount above 30, we can say with certainty will not arrive on time."
   ]
  }
 ],
 "metadata": {
  "kernelspec": {
   "display_name": "Python 3",
   "language": "python",
   "name": "python3"
  },
  "language_info": {
   "codemirror_mode": {
    "name": "ipython",
    "version": 3
   },
   "file_extension": ".py",
   "mimetype": "text/x-python",
   "name": "python",
   "nbconvert_exporter": "python",
   "pygments_lexer": "ipython3",
   "version": "3.7.9"
  }
 },
 "nbformat": 4,
 "nbformat_minor": 5
}
